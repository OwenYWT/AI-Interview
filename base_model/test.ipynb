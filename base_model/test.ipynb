{
 "cells": [
  {
   "cell_type": "code",
   "execution_count": 1,
   "metadata": {},
   "outputs": [
    {
     "name": "stderr",
     "output_type": "stream",
     "text": [
      "/home/hice1/wyue9/scratch/miniconda3/envs/nl2prot/lib/python3.9/site-packages/tqdm/auto.py:21: TqdmWarning: IProgress not found. Please update jupyter and ipywidgets. See https://ipywidgets.readthedocs.io/en/stable/user_install.html\n",
      "  from .autonotebook import tqdm as notebook_tqdm\n",
      "/home/hice1/wyue9/scratch/miniconda3/envs/nl2prot/lib/python3.9/site-packages/transformers/tokenization_utils_base.py:1601: FutureWarning: `clean_up_tokenization_spaces` was not set. It will be set to `True` by default. This behavior will be depracted in transformers v4.45, and will be then set to `False` by default. For more details check this issue: https://github.com/huggingface/transformers/issues/31884\n",
      "  warnings.warn(\n"
     ]
    }
   ],
   "source": [
    "import torch\n",
    "import json\n",
    "import yaml\n",
    "import pprint\n",
    "from torch.utils.data import Dataset, DataLoader\n",
    "from model import HierarchicalInterviewScorer\n",
    "from dataset import HierarchicalInterviewDataset\n",
    "from eval import calculate_feedback\n",
    "from trainer import Trainer\n",
    "from sklearn.model_selection import train_test_split\n",
    "from transformers import BertTokenizer\n",
    "from model_utils import tokenize_dialogue, predict_scores, format_scores\n"
   ]
  },
  {
   "cell_type": "code",
   "execution_count": 2,
   "metadata": {},
   "outputs": [],
   "source": [
    "config_path = \"config.yaml\"\n",
    "checkpoint_path = \"checkpoint.pth\"\n",
    "test_data_path = \"data.json\"\n",
    "\n"
   ]
  },
  {
   "cell_type": "code",
   "execution_count": 3,
   "metadata": {},
   "outputs": [],
   "source": [
    "with open(config_path, \"r\") as file:\n",
    "    config = yaml.safe_load(file)\n",
    "\n",
    "device = torch.device(config[\"train\"][\"device\"])\n",
    "\n",
    "with open(test_data_path, \"r\") as f:\n",
    "    test_data = json.load(f)\n"
   ]
  },
  {
   "cell_type": "code",
   "execution_count": 4,
   "metadata": {},
   "outputs": [
    {
     "name": "stdout",
     "output_type": "stream",
     "text": [
      "Training data saved to data/train_data.json with 110 samples.\n",
      "Validation data saved to data/val_data.json with 28 samples.\n"
     ]
    }
   ],
   "source": [
    "\n",
    "\n",
    "data_path = \"data.json\" \n",
    "with open(data_path, \"r\") as f:\n",
    "    full_data = json.load(f)\n",
    "\n",
    "if not isinstance(full_data, dict):\n",
    "    raise ValueError(\"Expected 'full_data' to be a dictionary.\")\n",
    "\n",
    "keys = list(full_data.keys())\n",
    "train_keys, val_keys = train_test_split(keys, test_size=0.2, random_state=42)\n",
    "\n",
    "train_data = {key: full_data[key] for key in train_keys}\n",
    "val_data = {key: full_data[key] for key in val_keys}\n",
    "\n",
    "train_data_path = \"data/train_data.json\"\n",
    "val_data_path = \"data/val_data.json\"\n",
    "\n",
    "with open(train_data_path, \"w\") as f:\n",
    "    json.dump(train_data, f, indent=4)\n",
    "    \n",
    "with open(val_data_path, \"w\") as f:\n",
    "    json.dump(val_data, f, indent=4)\n",
    "\n",
    "print(f\"Training data saved to {train_data_path} with {len(train_data)} samples.\")\n",
    "print(f\"Validation data saved to {val_data_path} with {len(val_data)} samples.\")\n"
   ]
  },
  {
   "cell_type": "code",
   "execution_count": 5,
   "metadata": {},
   "outputs": [],
   "source": [
    "train_data_path = \"data/train_data.json\"\n",
    "val_data_path = \"data/val_data.json\"\n",
    "\n",
    "with open(train_data_path, \"r\") as f:\n",
    "    train_data = json.load(f)\n",
    "with open(val_data_path, \"r\") as f:\n",
    "    val_data = json.load(f)\n",
    "\n",
    "train_dataset = HierarchicalInterviewDataset(train_data)\n",
    "val_dataset = HierarchicalInterviewDataset(val_data)\n",
    "train_loader = DataLoader(train_dataset, batch_size=config[\"train\"][\"batch_size\"], shuffle=True)\n",
    "val_loader = DataLoader(val_dataset, batch_size=config[\"train\"][\"batch_size\"], shuffle=False)\n"
   ]
  },
  {
   "cell_type": "code",
   "execution_count": 6,
   "metadata": {},
   "outputs": [
    {
     "name": "stderr",
     "output_type": "stream",
     "text": [
      "/home/hice1/wyue9/scratch/miniconda3/envs/nl2prot/lib/python3.9/site-packages/torch/nn/modules/transformer.py:307: UserWarning: enable_nested_tensor is True, but self.use_nested_tensor is False because encoder_layer.self_attn.batch_first was not True(use batch_first for better inference performance)\n",
      "  warnings.warn(f\"enable_nested_tensor is True, but self.use_nested_tensor is False because {why_not_sparsity_fast_path}\")\n"
     ]
    }
   ],
   "source": [
    "model = HierarchicalInterviewScorer().to(device)\n",
    "optimizer = torch.optim.AdamW(model.parameters(), lr=config[\"train\"][\"learning_rate\"])\n",
    "\n",
    "\n",
    "\n",
    "trainer = Trainer(\n",
    "    model=model,\n",
    "    train_loader=train_loader,\n",
    "    val_loader=val_loader,\n",
    "    optimizer=optimizer,\n",
    "    device=device,\n",
    "    max_epochs=config[\"train\"][\"max_epochs\"]\n",
    ")\n"
   ]
  },
  {
   "cell_type": "code",
   "execution_count": 7,
   "metadata": {},
   "outputs": [
    {
     "name": "stderr",
     "output_type": "stream",
     "text": [
      "100%|██████████| 14/14 [00:17<00:00,  1.27s/it]\n"
     ]
    },
    {
     "name": "stdout",
     "output_type": "stream",
     "text": [
      "Epoch 1 | Train Loss: 9.375010405267988\n",
      "Validation Loss: 1.7431362122297287\n"
     ]
    },
    {
     "name": "stderr",
     "output_type": "stream",
     "text": [
      "100%|██████████| 14/14 [00:10<00:00,  1.33it/s]\n"
     ]
    },
    {
     "name": "stdout",
     "output_type": "stream",
     "text": [
      "Epoch 2 | Train Loss: 1.6420753300189972\n",
      "Validation Loss: 0.46521060913801193\n"
     ]
    },
    {
     "name": "stderr",
     "output_type": "stream",
     "text": [
      "100%|██████████| 14/14 [00:10<00:00,  1.33it/s]\n"
     ]
    },
    {
     "name": "stdout",
     "output_type": "stream",
     "text": [
      "Epoch 3 | Train Loss: 0.9988556270088468\n",
      "Validation Loss: 0.6116470992565155\n"
     ]
    },
    {
     "name": "stderr",
     "output_type": "stream",
     "text": [
      "100%|██████████| 14/14 [00:10<00:00,  1.32it/s]\n"
     ]
    },
    {
     "name": "stdout",
     "output_type": "stream",
     "text": [
      "Epoch 4 | Train Loss: 0.7021224541323525\n",
      "Validation Loss: 0.6191858500242233\n"
     ]
    },
    {
     "name": "stderr",
     "output_type": "stream",
     "text": [
      "100%|██████████| 14/14 [00:10<00:00,  1.32it/s]\n"
     ]
    },
    {
     "name": "stdout",
     "output_type": "stream",
     "text": [
      "Epoch 5 | Train Loss: 0.7718991403068814\n",
      "Validation Loss: 0.5706665590405464\n"
     ]
    },
    {
     "name": "stderr",
     "output_type": "stream",
     "text": [
      "100%|██████████| 14/14 [00:10<00:00,  1.31it/s]\n"
     ]
    },
    {
     "name": "stdout",
     "output_type": "stream",
     "text": [
      "Epoch 6 | Train Loss: 0.8681518690926688\n",
      "Validation Loss: 0.5536287054419518\n"
     ]
    },
    {
     "name": "stderr",
     "output_type": "stream",
     "text": [
      "100%|██████████| 14/14 [00:10<00:00,  1.31it/s]\n"
     ]
    },
    {
     "name": "stdout",
     "output_type": "stream",
     "text": [
      "Epoch 7 | Train Loss: 0.6697461988244738\n",
      "Validation Loss: 0.5553793460130692\n"
     ]
    },
    {
     "name": "stderr",
     "output_type": "stream",
     "text": [
      "100%|██████████| 14/14 [00:10<00:00,  1.31it/s]\n"
     ]
    },
    {
     "name": "stdout",
     "output_type": "stream",
     "text": [
      "Epoch 8 | Train Loss: 0.8335320800542831\n",
      "Validation Loss: 0.52718386054039\n"
     ]
    },
    {
     "name": "stderr",
     "output_type": "stream",
     "text": [
      "100%|██████████| 14/14 [00:10<00:00,  1.31it/s]\n"
     ]
    },
    {
     "name": "stdout",
     "output_type": "stream",
     "text": [
      "Epoch 9 | Train Loss: 0.7137552925518581\n",
      "Validation Loss: 0.5434020161628723\n"
     ]
    },
    {
     "name": "stderr",
     "output_type": "stream",
     "text": [
      "100%|██████████| 14/14 [00:10<00:00,  1.31it/s]\n"
     ]
    },
    {
     "name": "stdout",
     "output_type": "stream",
     "text": [
      "Epoch 10 | Train Loss: 0.8174450440066201\n",
      "Validation Loss: 0.6023475155234337\n"
     ]
    },
    {
     "name": "stderr",
     "output_type": "stream",
     "text": [
      "100%|██████████| 14/14 [00:10<00:00,  1.31it/s]\n"
     ]
    },
    {
     "name": "stdout",
     "output_type": "stream",
     "text": [
      "Epoch 11 | Train Loss: 0.6810386776924133\n",
      "Validation Loss: 0.587799459695816\n"
     ]
    },
    {
     "name": "stderr",
     "output_type": "stream",
     "text": [
      "100%|██████████| 14/14 [00:10<00:00,  1.31it/s]\n"
     ]
    },
    {
     "name": "stdout",
     "output_type": "stream",
     "text": [
      "Epoch 12 | Train Loss: 0.6681607663631439\n",
      "Validation Loss: 0.591494508087635\n"
     ]
    },
    {
     "name": "stderr",
     "output_type": "stream",
     "text": [
      "100%|██████████| 14/14 [00:10<00:00,  1.32it/s]\n"
     ]
    },
    {
     "name": "stdout",
     "output_type": "stream",
     "text": [
      "Epoch 13 | Train Loss: 0.7458603084087372\n",
      "Validation Loss: 0.49568362534046173\n"
     ]
    },
    {
     "name": "stderr",
     "output_type": "stream",
     "text": [
      "100%|██████████| 14/14 [00:10<00:00,  1.31it/s]\n"
     ]
    },
    {
     "name": "stdout",
     "output_type": "stream",
     "text": [
      "Epoch 14 | Train Loss: 0.7687006677900042\n",
      "Validation Loss: 0.5412548556923866\n"
     ]
    },
    {
     "name": "stderr",
     "output_type": "stream",
     "text": [
      "100%|██████████| 14/14 [00:10<00:00,  1.32it/s]\n"
     ]
    },
    {
     "name": "stdout",
     "output_type": "stream",
     "text": [
      "Epoch 15 | Train Loss: 0.7492121607065201\n",
      "Validation Loss: 0.6437220424413681\n"
     ]
    },
    {
     "name": "stderr",
     "output_type": "stream",
     "text": [
      "100%|██████████| 14/14 [00:10<00:00,  1.32it/s]\n"
     ]
    },
    {
     "name": "stdout",
     "output_type": "stream",
     "text": [
      "Epoch 16 | Train Loss: 0.774812821831022\n",
      "Validation Loss: 0.5119687616825104\n"
     ]
    },
    {
     "name": "stderr",
     "output_type": "stream",
     "text": [
      "100%|██████████| 14/14 [00:10<00:00,  1.32it/s]\n"
     ]
    },
    {
     "name": "stdout",
     "output_type": "stream",
     "text": [
      "Epoch 17 | Train Loss: 0.6866610199213028\n",
      "Validation Loss: 0.5273250788450241\n"
     ]
    },
    {
     "name": "stderr",
     "output_type": "stream",
     "text": [
      "100%|██████████| 14/14 [00:10<00:00,  1.32it/s]\n"
     ]
    },
    {
     "name": "stdout",
     "output_type": "stream",
     "text": [
      "Epoch 18 | Train Loss: 0.7274826211588723\n",
      "Validation Loss: 0.5996997207403183\n"
     ]
    },
    {
     "name": "stderr",
     "output_type": "stream",
     "text": [
      "100%|██████████| 14/14 [00:10<00:00,  1.32it/s]\n"
     ]
    },
    {
     "name": "stdout",
     "output_type": "stream",
     "text": [
      "Epoch 19 | Train Loss: 0.6707212818520409\n",
      "Validation Loss: 0.6836907714605331\n"
     ]
    },
    {
     "name": "stderr",
     "output_type": "stream",
     "text": [
      "100%|██████████| 14/14 [00:10<00:00,  1.32it/s]\n"
     ]
    },
    {
     "name": "stdout",
     "output_type": "stream",
     "text": [
      "Epoch 20 | Train Loss: 0.8397346671138491\n",
      "Validation Loss: 0.6091853007674217\n"
     ]
    },
    {
     "name": "stderr",
     "output_type": "stream",
     "text": [
      "100%|██████████| 14/14 [00:10<00:00,  1.32it/s]\n"
     ]
    },
    {
     "name": "stdout",
     "output_type": "stream",
     "text": [
      "Epoch 21 | Train Loss: 0.734693855047226\n",
      "Validation Loss: 0.562695324420929\n"
     ]
    },
    {
     "name": "stderr",
     "output_type": "stream",
     "text": [
      "100%|██████████| 14/14 [00:10<00:00,  1.32it/s]\n"
     ]
    },
    {
     "name": "stdout",
     "output_type": "stream",
     "text": [
      "Epoch 22 | Train Loss: 0.8148793982607978\n",
      "Validation Loss: 0.6658222377300262\n"
     ]
    },
    {
     "name": "stderr",
     "output_type": "stream",
     "text": [
      "100%|██████████| 14/14 [00:10<00:00,  1.32it/s]\n"
     ]
    },
    {
     "name": "stdout",
     "output_type": "stream",
     "text": [
      "Epoch 23 | Train Loss: 0.710989599781377\n",
      "Validation Loss: 0.5575149953365326\n"
     ]
    },
    {
     "name": "stderr",
     "output_type": "stream",
     "text": [
      "100%|██████████| 14/14 [00:10<00:00,  1.32it/s]\n"
     ]
    },
    {
     "name": "stdout",
     "output_type": "stream",
     "text": [
      "Epoch 24 | Train Loss: 0.7729149396930423\n",
      "Validation Loss: 0.6069917865097523\n"
     ]
    },
    {
     "name": "stderr",
     "output_type": "stream",
     "text": [
      "100%|██████████| 14/14 [00:10<00:00,  1.32it/s]\n"
     ]
    },
    {
     "name": "stdout",
     "output_type": "stream",
     "text": [
      "Epoch 25 | Train Loss: 0.7030922908868108\n",
      "Validation Loss: 0.5925503671169281\n"
     ]
    },
    {
     "name": "stderr",
     "output_type": "stream",
     "text": [
      "100%|██████████| 14/14 [00:10<00:00,  1.32it/s]\n"
     ]
    },
    {
     "name": "stdout",
     "output_type": "stream",
     "text": [
      "Epoch 26 | Train Loss: 0.6201511451176235\n",
      "Validation Loss: 0.583542600274086\n"
     ]
    },
    {
     "name": "stderr",
     "output_type": "stream",
     "text": [
      "100%|██████████| 14/14 [00:10<00:00,  1.32it/s]\n"
     ]
    },
    {
     "name": "stdout",
     "output_type": "stream",
     "text": [
      "Epoch 27 | Train Loss: 0.641370375241552\n",
      "Validation Loss: 0.5300128199160099\n"
     ]
    },
    {
     "name": "stderr",
     "output_type": "stream",
     "text": [
      "100%|██████████| 14/14 [00:10<00:00,  1.32it/s]\n"
     ]
    },
    {
     "name": "stdout",
     "output_type": "stream",
     "text": [
      "Epoch 28 | Train Loss: 0.780734692301069\n",
      "Validation Loss: 0.7836878225207329\n"
     ]
    },
    {
     "name": "stderr",
     "output_type": "stream",
     "text": [
      "100%|██████████| 14/14 [00:10<00:00,  1.32it/s]\n"
     ]
    },
    {
     "name": "stdout",
     "output_type": "stream",
     "text": [
      "Epoch 29 | Train Loss: 0.7520319031817573\n",
      "Validation Loss: 0.50727404281497\n"
     ]
    },
    {
     "name": "stderr",
     "output_type": "stream",
     "text": [
      "100%|██████████| 14/14 [00:10<00:00,  1.32it/s]\n"
     ]
    },
    {
     "name": "stdout",
     "output_type": "stream",
     "text": [
      "Epoch 30 | Train Loss: 0.6790634308542524\n",
      "Validation Loss: 0.5481644384562969\n"
     ]
    },
    {
     "name": "stderr",
     "output_type": "stream",
     "text": [
      "100%|██████████| 14/14 [00:10<00:00,  1.32it/s]\n"
     ]
    },
    {
     "name": "stdout",
     "output_type": "stream",
     "text": [
      "Epoch 31 | Train Loss: 0.5170948505401611\n",
      "Validation Loss: 0.5875673890113831\n"
     ]
    },
    {
     "name": "stderr",
     "output_type": "stream",
     "text": [
      "100%|██████████| 14/14 [00:10<00:00,  1.32it/s]\n"
     ]
    },
    {
     "name": "stdout",
     "output_type": "stream",
     "text": [
      "Epoch 32 | Train Loss: 0.5243255283151355\n",
      "Validation Loss: 0.5590542107820511\n"
     ]
    },
    {
     "name": "stderr",
     "output_type": "stream",
     "text": [
      "100%|██████████| 14/14 [00:10<00:00,  1.32it/s]\n"
     ]
    },
    {
     "name": "stdout",
     "output_type": "stream",
     "text": [
      "Epoch 33 | Train Loss: 0.5502166024276188\n",
      "Validation Loss: 0.5418914221227169\n"
     ]
    },
    {
     "name": "stderr",
     "output_type": "stream",
     "text": [
      "100%|██████████| 14/14 [00:10<00:00,  1.31it/s]\n"
     ]
    },
    {
     "name": "stdout",
     "output_type": "stream",
     "text": [
      "Epoch 34 | Train Loss: 0.5302467143961361\n",
      "Validation Loss: 0.5991771146655083\n"
     ]
    },
    {
     "name": "stderr",
     "output_type": "stream",
     "text": [
      "100%|██████████| 14/14 [00:10<00:00,  1.32it/s]\n"
     ]
    },
    {
     "name": "stdout",
     "output_type": "stream",
     "text": [
      "Epoch 35 | Train Loss: 0.44242369809320997\n",
      "Validation Loss: 0.6238940432667732\n"
     ]
    },
    {
     "name": "stderr",
     "output_type": "stream",
     "text": [
      "100%|██████████| 14/14 [00:10<00:00,  1.32it/s]\n"
     ]
    },
    {
     "name": "stdout",
     "output_type": "stream",
     "text": [
      "Epoch 36 | Train Loss: 0.40487413640533176\n",
      "Validation Loss: 0.6938718855381012\n"
     ]
    },
    {
     "name": "stderr",
     "output_type": "stream",
     "text": [
      "100%|██████████| 14/14 [00:10<00:00,  1.32it/s]\n"
     ]
    },
    {
     "name": "stdout",
     "output_type": "stream",
     "text": [
      "Epoch 37 | Train Loss: 0.6192833632230759\n",
      "Validation Loss: 0.9766820818185806\n"
     ]
    },
    {
     "name": "stderr",
     "output_type": "stream",
     "text": [
      "100%|██████████| 14/14 [00:10<00:00,  1.32it/s]\n"
     ]
    },
    {
     "name": "stdout",
     "output_type": "stream",
     "text": [
      "Epoch 38 | Train Loss: 0.5828377583197185\n",
      "Validation Loss: 0.559673011302948\n"
     ]
    },
    {
     "name": "stderr",
     "output_type": "stream",
     "text": [
      "100%|██████████| 14/14 [00:10<00:00,  1.32it/s]\n"
     ]
    },
    {
     "name": "stdout",
     "output_type": "stream",
     "text": [
      "Epoch 39 | Train Loss: 0.6735186278820038\n",
      "Validation Loss: 0.6695611253380775\n"
     ]
    },
    {
     "name": "stderr",
     "output_type": "stream",
     "text": [
      "100%|██████████| 14/14 [00:10<00:00,  1.32it/s]\n"
     ]
    },
    {
     "name": "stdout",
     "output_type": "stream",
     "text": [
      "Epoch 40 | Train Loss: 0.5936909530844007\n",
      "Validation Loss: 0.623523436486721\n"
     ]
    },
    {
     "name": "stderr",
     "output_type": "stream",
     "text": [
      "100%|██████████| 14/14 [00:10<00:00,  1.32it/s]\n"
     ]
    },
    {
     "name": "stdout",
     "output_type": "stream",
     "text": [
      "Epoch 41 | Train Loss: 0.5557980047804969\n",
      "Validation Loss: 0.8545945510268211\n"
     ]
    },
    {
     "name": "stderr",
     "output_type": "stream",
     "text": [
      "100%|██████████| 14/14 [00:10<00:00,  1.32it/s]\n"
     ]
    },
    {
     "name": "stdout",
     "output_type": "stream",
     "text": [
      "Epoch 42 | Train Loss: 0.5076084434986115\n",
      "Validation Loss: 0.521506741642952\n"
     ]
    },
    {
     "name": "stderr",
     "output_type": "stream",
     "text": [
      "100%|██████████| 14/14 [00:10<00:00,  1.32it/s]\n"
     ]
    },
    {
     "name": "stdout",
     "output_type": "stream",
     "text": [
      "Epoch 43 | Train Loss: 0.4918828010559082\n",
      "Validation Loss: 0.6899944096803665\n"
     ]
    },
    {
     "name": "stderr",
     "output_type": "stream",
     "text": [
      "100%|██████████| 14/14 [00:10<00:00,  1.32it/s]\n"
     ]
    },
    {
     "name": "stdout",
     "output_type": "stream",
     "text": [
      "Epoch 44 | Train Loss: 0.4828885314720018\n",
      "Validation Loss: 0.5025617629289627\n"
     ]
    },
    {
     "name": "stderr",
     "output_type": "stream",
     "text": [
      "100%|██████████| 14/14 [00:10<00:00,  1.32it/s]\n"
     ]
    },
    {
     "name": "stdout",
     "output_type": "stream",
     "text": [
      "Epoch 45 | Train Loss: 0.4574867274080004\n",
      "Validation Loss: 0.5182497315108776\n"
     ]
    },
    {
     "name": "stderr",
     "output_type": "stream",
     "text": [
      "100%|██████████| 14/14 [00:10<00:00,  1.32it/s]\n"
     ]
    },
    {
     "name": "stdout",
     "output_type": "stream",
     "text": [
      "Epoch 46 | Train Loss: 0.4842952447278159\n",
      "Validation Loss: 0.5140033215284348\n"
     ]
    },
    {
     "name": "stderr",
     "output_type": "stream",
     "text": [
      "100%|██████████| 14/14 [00:10<00:00,  1.32it/s]\n"
     ]
    },
    {
     "name": "stdout",
     "output_type": "stream",
     "text": [
      "Epoch 47 | Train Loss: 0.46974905686719076\n",
      "Validation Loss: 0.9257395267486572\n"
     ]
    },
    {
     "name": "stderr",
     "output_type": "stream",
     "text": [
      "100%|██████████| 14/14 [00:10<00:00,  1.32it/s]\n"
     ]
    },
    {
     "name": "stdout",
     "output_type": "stream",
     "text": [
      "Epoch 48 | Train Loss: 0.4597918816975185\n",
      "Validation Loss: 1.1902171596884727\n"
     ]
    },
    {
     "name": "stderr",
     "output_type": "stream",
     "text": [
      "100%|██████████| 14/14 [00:10<00:00,  1.32it/s]\n"
     ]
    },
    {
     "name": "stdout",
     "output_type": "stream",
     "text": [
      "Epoch 49 | Train Loss: 0.4846533643347876\n",
      "Validation Loss: 0.59434874355793\n"
     ]
    },
    {
     "name": "stderr",
     "output_type": "stream",
     "text": [
      "100%|██████████| 14/14 [00:10<00:00,  1.32it/s]\n"
     ]
    },
    {
     "name": "stdout",
     "output_type": "stream",
     "text": [
      "Epoch 50 | Train Loss: 0.32610717309372766\n",
      "Validation Loss: 0.6103691980242729\n"
     ]
    },
    {
     "name": "stderr",
     "output_type": "stream",
     "text": [
      "100%|██████████| 14/14 [00:10<00:00,  1.32it/s]\n"
     ]
    },
    {
     "name": "stdout",
     "output_type": "stream",
     "text": [
      "Epoch 51 | Train Loss: 0.3656444155744144\n",
      "Validation Loss: 0.6150639802217484\n"
     ]
    },
    {
     "name": "stderr",
     "output_type": "stream",
     "text": [
      "100%|██████████| 14/14 [00:10<00:00,  1.32it/s]\n"
     ]
    },
    {
     "name": "stdout",
     "output_type": "stream",
     "text": [
      "Epoch 52 | Train Loss: 0.3142863671694483\n",
      "Validation Loss: 0.7803231403231621\n"
     ]
    },
    {
     "name": "stderr",
     "output_type": "stream",
     "text": [
      "100%|██████████| 14/14 [00:10<00:00,  1.32it/s]\n"
     ]
    },
    {
     "name": "stdout",
     "output_type": "stream",
     "text": [
      "Epoch 53 | Train Loss: 0.427585774234363\n",
      "Validation Loss: 0.7217745035886765\n"
     ]
    },
    {
     "name": "stderr",
     "output_type": "stream",
     "text": [
      "100%|██████████| 14/14 [00:10<00:00,  1.32it/s]\n"
     ]
    },
    {
     "name": "stdout",
     "output_type": "stream",
     "text": [
      "Epoch 54 | Train Loss: 0.3250225952693394\n",
      "Validation Loss: 0.46841077506542206\n"
     ]
    },
    {
     "name": "stderr",
     "output_type": "stream",
     "text": [
      "100%|██████████| 14/14 [00:10<00:00,  1.32it/s]\n"
     ]
    },
    {
     "name": "stdout",
     "output_type": "stream",
     "text": [
      "Epoch 55 | Train Loss: 0.4273683088166373\n",
      "Validation Loss: 0.5604618191719055\n"
     ]
    },
    {
     "name": "stderr",
     "output_type": "stream",
     "text": [
      "100%|██████████| 14/14 [00:10<00:00,  1.32it/s]\n"
     ]
    },
    {
     "name": "stdout",
     "output_type": "stream",
     "text": [
      "Epoch 56 | Train Loss: 0.4097552884902273\n",
      "Validation Loss: 0.45071854814887047\n"
     ]
    },
    {
     "name": "stderr",
     "output_type": "stream",
     "text": [
      "100%|██████████| 14/14 [00:10<00:00,  1.32it/s]\n"
     ]
    },
    {
     "name": "stdout",
     "output_type": "stream",
     "text": [
      "Epoch 57 | Train Loss: 0.3735434338450432\n",
      "Validation Loss: 0.6459699273109436\n"
     ]
    },
    {
     "name": "stderr",
     "output_type": "stream",
     "text": [
      "100%|██████████| 14/14 [00:10<00:00,  1.32it/s]\n"
     ]
    },
    {
     "name": "stdout",
     "output_type": "stream",
     "text": [
      "Epoch 58 | Train Loss: 0.3265238351055554\n",
      "Validation Loss: 0.5302689224481583\n"
     ]
    },
    {
     "name": "stderr",
     "output_type": "stream",
     "text": [
      "100%|██████████| 14/14 [00:10<00:00,  1.32it/s]\n"
     ]
    },
    {
     "name": "stdout",
     "output_type": "stream",
     "text": [
      "Epoch 59 | Train Loss: 0.3415458362017359\n",
      "Validation Loss: 0.49939659237861633\n"
     ]
    },
    {
     "name": "stderr",
     "output_type": "stream",
     "text": [
      "100%|██████████| 14/14 [00:10<00:00,  1.32it/s]\n"
     ]
    },
    {
     "name": "stdout",
     "output_type": "stream",
     "text": [
      "Epoch 60 | Train Loss: 0.36526399850845337\n",
      "Validation Loss: 0.5042605176568031\n"
     ]
    },
    {
     "name": "stderr",
     "output_type": "stream",
     "text": [
      "100%|██████████| 14/14 [00:10<00:00,  1.32it/s]\n"
     ]
    },
    {
     "name": "stdout",
     "output_type": "stream",
     "text": [
      "Epoch 61 | Train Loss: 0.32482901747737614\n",
      "Validation Loss: 0.46903252601623535\n"
     ]
    },
    {
     "name": "stderr",
     "output_type": "stream",
     "text": [
      "100%|██████████| 14/14 [00:10<00:00,  1.32it/s]\n"
     ]
    },
    {
     "name": "stdout",
     "output_type": "stream",
     "text": [
      "Epoch 62 | Train Loss: 0.32186237084014074\n",
      "Validation Loss: 0.6390082836151123\n"
     ]
    },
    {
     "name": "stderr",
     "output_type": "stream",
     "text": [
      "100%|██████████| 14/14 [00:10<00:00,  1.32it/s]\n"
     ]
    },
    {
     "name": "stdout",
     "output_type": "stream",
     "text": [
      "Epoch 63 | Train Loss: 0.2906925135425159\n",
      "Validation Loss: 0.7023878060281277\n"
     ]
    },
    {
     "name": "stderr",
     "output_type": "stream",
     "text": [
      "100%|██████████| 14/14 [00:10<00:00,  1.32it/s]\n"
     ]
    },
    {
     "name": "stdout",
     "output_type": "stream",
     "text": [
      "Epoch 64 | Train Loss: 0.3418329049433981\n",
      "Validation Loss: 0.7163291424512863\n"
     ]
    },
    {
     "name": "stderr",
     "output_type": "stream",
     "text": [
      "100%|██████████| 14/14 [00:10<00:00,  1.32it/s]\n"
     ]
    },
    {
     "name": "stdout",
     "output_type": "stream",
     "text": [
      "Epoch 65 | Train Loss: 0.3258589878678322\n",
      "Validation Loss: 0.5264276973903179\n"
     ]
    },
    {
     "name": "stderr",
     "output_type": "stream",
     "text": [
      "100%|██████████| 14/14 [00:10<00:00,  1.32it/s]\n"
     ]
    },
    {
     "name": "stdout",
     "output_type": "stream",
     "text": [
      "Epoch 66 | Train Loss: 0.31115790775844027\n",
      "Validation Loss: 0.48456281051039696\n"
     ]
    },
    {
     "name": "stderr",
     "output_type": "stream",
     "text": [
      "100%|██████████| 14/14 [00:10<00:00,  1.32it/s]\n"
     ]
    },
    {
     "name": "stdout",
     "output_type": "stream",
     "text": [
      "Epoch 67 | Train Loss: 0.270861023238727\n",
      "Validation Loss: 0.49172838777303696\n"
     ]
    },
    {
     "name": "stderr",
     "output_type": "stream",
     "text": [
      "100%|██████████| 14/14 [00:10<00:00,  1.32it/s]\n"
     ]
    },
    {
     "name": "stdout",
     "output_type": "stream",
     "text": [
      "Epoch 68 | Train Loss: 0.28216899399246487\n",
      "Validation Loss: 0.5513546317815781\n"
     ]
    },
    {
     "name": "stderr",
     "output_type": "stream",
     "text": [
      "100%|██████████| 14/14 [00:10<00:00,  1.32it/s]\n"
     ]
    },
    {
     "name": "stdout",
     "output_type": "stream",
     "text": [
      "Epoch 69 | Train Loss: 0.331182636320591\n",
      "Validation Loss: 0.5371462777256966\n"
     ]
    },
    {
     "name": "stderr",
     "output_type": "stream",
     "text": [
      "100%|██████████| 14/14 [00:10<00:00,  1.32it/s]\n"
     ]
    },
    {
     "name": "stdout",
     "output_type": "stream",
     "text": [
      "Epoch 70 | Train Loss: 0.31024700083902906\n",
      "Validation Loss: 0.6288430243730545\n"
     ]
    },
    {
     "name": "stderr",
     "output_type": "stream",
     "text": [
      "100%|██████████| 14/14 [00:10<00:00,  1.32it/s]\n"
     ]
    },
    {
     "name": "stdout",
     "output_type": "stream",
     "text": [
      "Epoch 71 | Train Loss: 0.3179216661623546\n",
      "Validation Loss: 0.6115660816431046\n"
     ]
    },
    {
     "name": "stderr",
     "output_type": "stream",
     "text": [
      "100%|██████████| 14/14 [00:10<00:00,  1.32it/s]\n"
     ]
    },
    {
     "name": "stdout",
     "output_type": "stream",
     "text": [
      "Epoch 72 | Train Loss: 0.2889470596398626\n",
      "Validation Loss: 0.5933013558387756\n"
     ]
    },
    {
     "name": "stderr",
     "output_type": "stream",
     "text": [
      "100%|██████████| 14/14 [00:10<00:00,  1.32it/s]\n"
     ]
    },
    {
     "name": "stdout",
     "output_type": "stream",
     "text": [
      "Epoch 73 | Train Loss: 0.3015013544687203\n",
      "Validation Loss: 0.499809630215168\n"
     ]
    },
    {
     "name": "stderr",
     "output_type": "stream",
     "text": [
      "100%|██████████| 14/14 [00:10<00:00,  1.32it/s]\n"
     ]
    },
    {
     "name": "stdout",
     "output_type": "stream",
     "text": [
      "Epoch 74 | Train Loss: 0.276823951197522\n",
      "Validation Loss: 0.7544024437665939\n"
     ]
    },
    {
     "name": "stderr",
     "output_type": "stream",
     "text": [
      "100%|██████████| 14/14 [00:10<00:00,  1.32it/s]\n"
     ]
    },
    {
     "name": "stdout",
     "output_type": "stream",
     "text": [
      "Epoch 75 | Train Loss: 0.27339806088379454\n",
      "Validation Loss: 0.5298563241958618\n"
     ]
    },
    {
     "name": "stderr",
     "output_type": "stream",
     "text": [
      "100%|██████████| 14/14 [00:10<00:00,  1.32it/s]\n"
     ]
    },
    {
     "name": "stdout",
     "output_type": "stream",
     "text": [
      "Epoch 76 | Train Loss: 0.2900831773877144\n",
      "Validation Loss: 0.5056800469756126\n"
     ]
    },
    {
     "name": "stderr",
     "output_type": "stream",
     "text": [
      "100%|██████████| 14/14 [00:10<00:00,  1.32it/s]\n"
     ]
    },
    {
     "name": "stdout",
     "output_type": "stream",
     "text": [
      "Epoch 77 | Train Loss: 0.306420515690531\n",
      "Validation Loss: 0.6313471049070358\n"
     ]
    },
    {
     "name": "stderr",
     "output_type": "stream",
     "text": [
      "100%|██████████| 14/14 [00:10<00:00,  1.32it/s]\n"
     ]
    },
    {
     "name": "stdout",
     "output_type": "stream",
     "text": [
      "Epoch 78 | Train Loss: 0.26305099736366955\n",
      "Validation Loss: 0.5673886388540268\n"
     ]
    },
    {
     "name": "stderr",
     "output_type": "stream",
     "text": [
      "100%|██████████| 14/14 [00:10<00:00,  1.32it/s]\n"
     ]
    },
    {
     "name": "stdout",
     "output_type": "stream",
     "text": [
      "Epoch 79 | Train Loss: 0.3206310687320573\n",
      "Validation Loss: 0.5139826312661171\n"
     ]
    },
    {
     "name": "stderr",
     "output_type": "stream",
     "text": [
      "100%|██████████| 14/14 [00:10<00:00,  1.32it/s]\n"
     ]
    },
    {
     "name": "stdout",
     "output_type": "stream",
     "text": [
      "Epoch 80 | Train Loss: 0.2963957504502365\n",
      "Validation Loss: 0.7062449753284454\n"
     ]
    },
    {
     "name": "stderr",
     "output_type": "stream",
     "text": [
      "100%|██████████| 14/14 [00:10<00:00,  1.31it/s]\n"
     ]
    },
    {
     "name": "stdout",
     "output_type": "stream",
     "text": [
      "Epoch 81 | Train Loss: 0.2668241688183376\n",
      "Validation Loss: 0.6138713583350182\n"
     ]
    },
    {
     "name": "stderr",
     "output_type": "stream",
     "text": [
      "100%|██████████| 14/14 [00:10<00:00,  1.31it/s]\n"
     ]
    },
    {
     "name": "stdout",
     "output_type": "stream",
     "text": [
      "Epoch 82 | Train Loss: 0.3014444187283516\n",
      "Validation Loss: 0.4792448952794075\n"
     ]
    },
    {
     "name": "stderr",
     "output_type": "stream",
     "text": [
      "100%|██████████| 14/14 [00:10<00:00,  1.32it/s]\n"
     ]
    },
    {
     "name": "stdout",
     "output_type": "stream",
     "text": [
      "Epoch 83 | Train Loss: 0.3174422670687948\n",
      "Validation Loss: 0.5228788256645203\n"
     ]
    },
    {
     "name": "stderr",
     "output_type": "stream",
     "text": [
      "100%|██████████| 14/14 [00:10<00:00,  1.32it/s]\n"
     ]
    },
    {
     "name": "stdout",
     "output_type": "stream",
     "text": [
      "Epoch 84 | Train Loss: 0.33700325020721983\n",
      "Validation Loss: 0.9798906594514847\n"
     ]
    },
    {
     "name": "stderr",
     "output_type": "stream",
     "text": [
      "100%|██████████| 14/14 [00:10<00:00,  1.32it/s]\n"
     ]
    },
    {
     "name": "stdout",
     "output_type": "stream",
     "text": [
      "Epoch 85 | Train Loss: 0.3046084088938577\n",
      "Validation Loss: 0.5426454842090607\n"
     ]
    },
    {
     "name": "stderr",
     "output_type": "stream",
     "text": [
      "100%|██████████| 14/14 [00:10<00:00,  1.32it/s]\n"
     ]
    },
    {
     "name": "stdout",
     "output_type": "stream",
     "text": [
      "Epoch 86 | Train Loss: 0.23989497231585638\n",
      "Validation Loss: 0.5162839591503143\n"
     ]
    },
    {
     "name": "stderr",
     "output_type": "stream",
     "text": [
      "100%|██████████| 14/14 [00:10<00:00,  1.32it/s]\n"
     ]
    },
    {
     "name": "stdout",
     "output_type": "stream",
     "text": [
      "Epoch 87 | Train Loss: 0.27432706632784437\n",
      "Validation Loss: 0.6701663099229336\n"
     ]
    },
    {
     "name": "stderr",
     "output_type": "stream",
     "text": [
      "100%|██████████| 14/14 [00:10<00:00,  1.32it/s]\n"
     ]
    },
    {
     "name": "stdout",
     "output_type": "stream",
     "text": [
      "Epoch 88 | Train Loss: 0.22004197431462152\n",
      "Validation Loss: 0.640711322426796\n"
     ]
    },
    {
     "name": "stderr",
     "output_type": "stream",
     "text": [
      "100%|██████████| 14/14 [00:10<00:00,  1.32it/s]\n"
     ]
    },
    {
     "name": "stdout",
     "output_type": "stream",
     "text": [
      "Epoch 89 | Train Loss: 0.23197512647935323\n",
      "Validation Loss: 0.6295398287475109\n"
     ]
    },
    {
     "name": "stderr",
     "output_type": "stream",
     "text": [
      "100%|██████████| 14/14 [00:10<00:00,  1.32it/s]\n"
     ]
    },
    {
     "name": "stdout",
     "output_type": "stream",
     "text": [
      "Epoch 90 | Train Loss: 0.25264280502285275\n",
      "Validation Loss: 0.6360551044344902\n"
     ]
    },
    {
     "name": "stderr",
     "output_type": "stream",
     "text": [
      "100%|██████████| 14/14 [00:10<00:00,  1.32it/s]\n"
     ]
    },
    {
     "name": "stdout",
     "output_type": "stream",
     "text": [
      "Epoch 91 | Train Loss: 0.2753607417855944\n",
      "Validation Loss: 0.5221567004919052\n"
     ]
    },
    {
     "name": "stderr",
     "output_type": "stream",
     "text": [
      "100%|██████████| 14/14 [00:10<00:00,  1.32it/s]\n"
     ]
    },
    {
     "name": "stdout",
     "output_type": "stream",
     "text": [
      "Epoch 92 | Train Loss: 0.26336515481982914\n",
      "Validation Loss: 0.5553900822997093\n"
     ]
    },
    {
     "name": "stderr",
     "output_type": "stream",
     "text": [
      "100%|██████████| 14/14 [00:10<00:00,  1.32it/s]\n"
     ]
    },
    {
     "name": "stdout",
     "output_type": "stream",
     "text": [
      "Epoch 93 | Train Loss: 0.25665720871516634\n",
      "Validation Loss: 0.6719730198383331\n"
     ]
    },
    {
     "name": "stderr",
     "output_type": "stream",
     "text": [
      "100%|██████████| 14/14 [00:10<00:00,  1.32it/s]\n"
     ]
    },
    {
     "name": "stdout",
     "output_type": "stream",
     "text": [
      "Epoch 94 | Train Loss: 0.25259140878915787\n",
      "Validation Loss: 0.6403331384062767\n"
     ]
    },
    {
     "name": "stderr",
     "output_type": "stream",
     "text": [
      "100%|██████████| 14/14 [00:10<00:00,  1.31it/s]\n"
     ]
    },
    {
     "name": "stdout",
     "output_type": "stream",
     "text": [
      "Epoch 95 | Train Loss: 0.27247557576213566\n",
      "Validation Loss: 0.6382484510540962\n"
     ]
    },
    {
     "name": "stderr",
     "output_type": "stream",
     "text": [
      "100%|██████████| 14/14 [00:10<00:00,  1.32it/s]\n"
     ]
    },
    {
     "name": "stdout",
     "output_type": "stream",
     "text": [
      "Epoch 96 | Train Loss: 0.24251859422240937\n",
      "Validation Loss: 0.5605196803808212\n"
     ]
    },
    {
     "name": "stderr",
     "output_type": "stream",
     "text": [
      "100%|██████████| 14/14 [00:10<00:00,  1.32it/s]\n"
     ]
    },
    {
     "name": "stdout",
     "output_type": "stream",
     "text": [
      "Epoch 97 | Train Loss: 0.2237663928951536\n",
      "Validation Loss: 0.4792657159268856\n"
     ]
    },
    {
     "name": "stderr",
     "output_type": "stream",
     "text": [
      "100%|██████████| 14/14 [00:10<00:00,  1.32it/s]\n"
     ]
    },
    {
     "name": "stdout",
     "output_type": "stream",
     "text": [
      "Epoch 98 | Train Loss: 0.28222556731530596\n",
      "Validation Loss: 0.6127596944570541\n"
     ]
    },
    {
     "name": "stderr",
     "output_type": "stream",
     "text": [
      "100%|██████████| 14/14 [00:10<00:00,  1.32it/s]\n"
     ]
    },
    {
     "name": "stdout",
     "output_type": "stream",
     "text": [
      "Epoch 99 | Train Loss: 0.2713083550333977\n",
      "Validation Loss: 0.6288924291729927\n"
     ]
    },
    {
     "name": "stderr",
     "output_type": "stream",
     "text": [
      "100%|██████████| 14/14 [00:10<00:00,  1.32it/s]\n"
     ]
    },
    {
     "name": "stdout",
     "output_type": "stream",
     "text": [
      "Epoch 100 | Train Loss: 0.25341132496084484\n",
      "Validation Loss: 0.8379554823040962\n"
     ]
    }
   ],
   "source": [
    "trainer.train()"
   ]
  },
  {
   "cell_type": "code",
   "execution_count": 8,
   "metadata": {},
   "outputs": [],
   "source": [
    "test_dataset = HierarchicalInterviewDataset(test_data)\n",
    "test_loader = DataLoader(test_dataset, batch_size=config[\"train\"][\"batch_size\"], shuffle=False)\n",
    "\n",
    "    "
   ]
  },
  {
   "cell_type": "code",
   "execution_count": 9,
   "metadata": {},
   "outputs": [
    {
     "name": "stderr",
     "output_type": "stream",
     "text": [
      "/scratch/895069/ipykernel_2154089/754747107.py:15: UserWarning: Creating a tensor from a list of numpy.ndarrays is extremely slow. Please consider converting the list to a single numpy.ndarray with numpy.array() before converting to a tensor. (Triggered internally at ../torch/csrc/utils/tensor_new.cpp:278.)\n",
      "  all_true_scores_tensor = torch.tensor(all_true_scores)\n"
     ]
    }
   ],
   "source": [
    "\n",
    "all_true_scores = []\n",
    "all_predicted_scores = []\n",
    "\n",
    "model.eval()\n",
    "with torch.no_grad():\n",
    "    for dialogue_turns, labels in test_loader:\n",
    "        dialogue_turns = {k: v.to(device) for k, v in dialogue_turns.items()}\n",
    "        labels = labels.to(device)\n",
    "        \n",
    "        predictions = model(dialogue_turns)\n",
    "        \n",
    "        all_true_scores.extend(labels.cpu().numpy())\n",
    "        all_predicted_scores.extend(predictions.cpu().numpy())\n",
    "\n",
    "all_true_scores_tensor = torch.tensor(all_true_scores)\n",
    "all_predicted_scores_tensor = torch.tensor(all_predicted_scores)\n",
    "\n"
   ]
  },
  {
   "cell_type": "code",
   "execution_count": 10,
   "metadata": {},
   "outputs": [
    {
     "name": "stdout",
     "output_type": "stream",
     "text": [
      "Feedback for Candidate 1:\n",
      "{   'Feedback': 'Acceptable performance in overall score. | Acceptable '\n",
      "                'performance in recommendation score. | Acceptable performance '\n",
      "                'in structured answers score.',\n",
      "    'Overall Score': 5.684344291687012,\n",
      "    'Recommendation Score': 5.580747604370117,\n",
      "    'Structured Answers Score': 5.441586017608643}\n",
      "\n",
      "\n",
      "Feedback for Candidate 2:\n",
      "{   'Feedback': 'Acceptable performance in overall score. | Acceptable '\n",
      "                'performance in recommendation score. | Acceptable performance '\n",
      "                'in structured answers score.',\n",
      "    'Overall Score': 5.037204265594482,\n",
      "    'Recommendation Score': 4.888316631317139,\n",
      "    'Structured Answers Score': 4.301609992980957}\n",
      "\n",
      "\n",
      "Feedback for Candidate 3:\n",
      "{   'Feedback': 'Acceptable performance in overall score. | Acceptable '\n",
      "                'performance in recommendation score. | Acceptable performance '\n",
      "                'in structured answers score.',\n",
      "    'Overall Score': 5.234281539916992,\n",
      "    'Recommendation Score': 5.092343807220459,\n",
      "    'Structured Answers Score': 5.3438639640808105}\n",
      "\n",
      "\n",
      "Feedback for Candidate 4:\n",
      "{   'Feedback': 'Acceptable performance in overall score. | Acceptable '\n",
      "                'performance in recommendation score. | Acceptable performance '\n",
      "                'in structured answers score.',\n",
      "    'Overall Score': 5.3100080490112305,\n",
      "    'Recommendation Score': 5.22749137878418,\n",
      "    'Structured Answers Score': 4.637593746185303}\n",
      "\n",
      "\n",
      "Feedback for Candidate 5:\n",
      "{   'Feedback': 'Acceptable performance in overall score. | Acceptable '\n",
      "                'performance in recommendation score. | Acceptable performance '\n",
      "                'in structured answers score.',\n",
      "    'Overall Score': 5.220683574676514,\n",
      "    'Recommendation Score': 5.14258337020874,\n",
      "    'Structured Answers Score': 4.636682033538818}\n",
      "\n",
      "\n",
      "Feedback for Candidate 6:\n",
      "{   'Feedback': 'Acceptable performance in overall score. | Acceptable '\n",
      "                'performance in recommendation score. | Acceptable performance '\n",
      "                'in structured answers score.',\n",
      "    'Overall Score': 6.436605930328369,\n",
      "    'Recommendation Score': 6.3267340660095215,\n",
      "    'Structured Answers Score': 6.544575214385986}\n",
      "\n",
      "\n",
      "Feedback for Candidate 7:\n",
      "{   'Feedback': 'Acceptable performance in overall score. | Acceptable '\n",
      "                'performance in recommendation score. | Acceptable performance '\n",
      "                'in structured answers score.',\n",
      "    'Overall Score': 4.716744899749756,\n",
      "    'Recommendation Score': 4.496694564819336,\n",
      "    'Structured Answers Score': 4.256468296051025}\n",
      "\n",
      "\n",
      "Feedback for Candidate 8:\n",
      "{   'Feedback': 'Acceptable performance in overall score. | Acceptable '\n",
      "                'performance in recommendation score. | Acceptable performance '\n",
      "                'in structured answers score.',\n",
      "    'Overall Score': 5.846353530883789,\n",
      "    'Recommendation Score': 5.822271823883057,\n",
      "    'Structured Answers Score': 5.266080379486084}\n",
      "\n",
      "\n",
      "Feedback for Candidate 9:\n",
      "{   'Feedback': 'Acceptable performance in overall score. | Acceptable '\n",
      "                'performance in recommendation score. | Acceptable performance '\n",
      "                'in structured answers score.',\n",
      "    'Overall Score': 4.556304931640625,\n",
      "    'Recommendation Score': 4.35205078125,\n",
      "    'Structured Answers Score': 4.732004642486572}\n",
      "\n",
      "\n",
      "Feedback for Candidate 10:\n",
      "{   'Feedback': 'Acceptable performance in overall score. | Acceptable '\n",
      "                'performance in recommendation score. | Acceptable performance '\n",
      "                'in structured answers score.',\n",
      "    'Overall Score': 4.284185886383057,\n",
      "    'Recommendation Score': 4.07289981842041,\n",
      "    'Structured Answers Score': 3.998927593231201}\n",
      "\n",
      "\n",
      "Feedback for Candidate 11:\n",
      "{   'Feedback': 'Acceptable performance in overall score. | Acceptable '\n",
      "                'performance in recommendation score. | Acceptable performance '\n",
      "                'in structured answers score.',\n",
      "    'Overall Score': 3.870671272277832,\n",
      "    'Recommendation Score': 3.6306586265563965,\n",
      "    'Structured Answers Score': 3.593214750289917}\n",
      "\n",
      "\n",
      "Feedback for Candidate 12:\n",
      "{   'Feedback': 'Acceptable performance in overall score. | Acceptable '\n",
      "                'performance in recommendation score. | Acceptable performance '\n",
      "                'in structured answers score.',\n",
      "    'Overall Score': 5.527169704437256,\n",
      "    'Recommendation Score': 5.410882949829102,\n",
      "    'Structured Answers Score': 5.052506923675537}\n",
      "\n",
      "\n",
      "Feedback for Candidate 13:\n",
      "{   'Feedback': 'Acceptable performance in overall score. | Acceptable '\n",
      "                'performance in recommendation score. | Acceptable performance '\n",
      "                'in structured answers score.',\n",
      "    'Overall Score': 5.498167037963867,\n",
      "    'Recommendation Score': 5.4162917137146,\n",
      "    'Structured Answers Score': 4.919755458831787}\n",
      "\n",
      "\n",
      "Feedback for Candidate 14:\n",
      "{   'Feedback': 'Acceptable performance in overall score. | Acceptable '\n",
      "                'performance in recommendation score. | Acceptable performance '\n",
      "                'in structured answers score.',\n",
      "    'Overall Score': 5.376831531524658,\n",
      "    'Recommendation Score': 5.261447906494141,\n",
      "    'Structured Answers Score': 5.19237756729126}\n",
      "\n",
      "\n",
      "Feedback for Candidate 15:\n",
      "{   'Feedback': 'Acceptable performance in overall score. | Acceptable '\n",
      "                'performance in recommendation score. | Acceptable performance '\n",
      "                'in structured answers score.',\n",
      "    'Overall Score': 5.483881950378418,\n",
      "    'Recommendation Score': 5.338432788848877,\n",
      "    'Structured Answers Score': 5.797351360321045}\n",
      "\n",
      "\n",
      "Feedback for Candidate 16:\n",
      "{   'Feedback': 'Acceptable performance in overall score. | Acceptable '\n",
      "                'performance in recommendation score. | Acceptable performance '\n",
      "                'in structured answers score.',\n",
      "    'Overall Score': 5.701789855957031,\n",
      "    'Recommendation Score': 5.590705394744873,\n",
      "    'Structured Answers Score': 5.8505096435546875}\n",
      "\n",
      "\n",
      "Feedback for Candidate 17:\n",
      "{   'Feedback': 'Acceptable performance in overall score. | Acceptable '\n",
      "                'performance in recommendation score. | Good performance in '\n",
      "                'structured answers score compared to the expected score.',\n",
      "    'Overall Score': 5.1222004890441895,\n",
      "    'Recommendation Score': 4.995158672332764,\n",
      "    'Structured Answers Score': 5.398132801055908}\n",
      "\n",
      "\n",
      "Feedback for Candidate 18:\n",
      "{   'Feedback': 'Acceptable performance in overall score. | Acceptable '\n",
      "                'performance in recommendation score. | Acceptable performance '\n",
      "                'in structured answers score.',\n",
      "    'Overall Score': 4.131476879119873,\n",
      "    'Recommendation Score': 3.883082151412964,\n",
      "    'Structured Answers Score': 4.247368812561035}\n",
      "\n",
      "\n",
      "Feedback for Candidate 19:\n",
      "{   'Feedback': 'Good performance in overall score compared to the expected '\n",
      "                'score. | Good performance in recommendation score compared to '\n",
      "                'the expected score. | Acceptable performance in structured '\n",
      "                'answers score.',\n",
      "    'Overall Score': 6.030625820159912,\n",
      "    'Recommendation Score': 5.9831461906433105,\n",
      "    'Structured Answers Score': 5.3080902099609375}\n",
      "\n",
      "\n",
      "Feedback for Candidate 20:\n",
      "{   'Feedback': 'Acceptable performance in overall score. | Acceptable '\n",
      "                'performance in recommendation score. | Acceptable performance '\n",
      "                'in structured answers score.',\n",
      "    'Overall Score': 5.823973655700684,\n",
      "    'Recommendation Score': 5.692510604858398,\n",
      "    'Structured Answers Score': 5.875890731811523}\n",
      "\n",
      "\n",
      "Feedback for Candidate 21:\n",
      "{   'Feedback': 'Acceptable performance in overall score. | Acceptable '\n",
      "                'performance in recommendation score. | Acceptable performance '\n",
      "                'in structured answers score.',\n",
      "    'Overall Score': 5.597998142242432,\n",
      "    'Recommendation Score': 5.449012279510498,\n",
      "    'Structured Answers Score': 5.523322582244873}\n",
      "\n",
      "\n",
      "Feedback for Candidate 22:\n",
      "{   'Feedback': 'Acceptable performance in overall score. | Acceptable '\n",
      "                'performance in recommendation score. | Acceptable performance '\n",
      "                'in structured answers score.',\n",
      "    'Overall Score': 6.174240589141846,\n",
      "    'Recommendation Score': 6.199874401092529,\n",
      "    'Structured Answers Score': 5.349738121032715}\n",
      "\n",
      "\n",
      "Feedback for Candidate 23:\n",
      "{   'Feedback': 'Acceptable performance in overall score. | Acceptable '\n",
      "                'performance in recommendation score. | Acceptable performance '\n",
      "                'in structured answers score.',\n",
      "    'Overall Score': 6.244580268859863,\n",
      "    'Recommendation Score': 6.146665573120117,\n",
      "    'Structured Answers Score': 5.712244033813477}\n",
      "\n",
      "\n",
      "Feedback for Candidate 24:\n",
      "{   'Feedback': 'Acceptable performance in overall score. | Acceptable '\n",
      "                'performance in recommendation score. | Acceptable performance '\n",
      "                'in structured answers score.',\n",
      "    'Overall Score': 6.063400745391846,\n",
      "    'Recommendation Score': 5.947571754455566,\n",
      "    'Structured Answers Score': 5.564038276672363}\n",
      "\n",
      "\n",
      "Feedback for Candidate 25:\n",
      "{   'Feedback': 'Acceptable performance in overall score. | Acceptable '\n",
      "                'performance in recommendation score. | Acceptable performance '\n",
      "                'in structured answers score.',\n",
      "    'Overall Score': 5.018313407897949,\n",
      "    'Recommendation Score': 4.896100044250488,\n",
      "    'Structured Answers Score': 5.059823513031006}\n",
      "\n",
      "\n",
      "Feedback for Candidate 26:\n",
      "{   'Feedback': 'Acceptable performance in overall score. | Acceptable '\n",
      "                'performance in recommendation score. | Acceptable performance '\n",
      "                'in structured answers score.',\n",
      "    'Overall Score': 5.5075273513793945,\n",
      "    'Recommendation Score': 5.488933086395264,\n",
      "    'Structured Answers Score': 4.383772373199463}\n",
      "\n",
      "\n",
      "Feedback for Candidate 27:\n",
      "{   'Feedback': 'Acceptable performance in overall score. | Acceptable '\n",
      "                'performance in recommendation score. | Acceptable performance '\n",
      "                'in structured answers score.',\n",
      "    'Overall Score': 5.624736309051514,\n",
      "    'Recommendation Score': 5.534436225891113,\n",
      "    'Structured Answers Score': 5.307851791381836}\n",
      "\n",
      "\n",
      "Feedback for Candidate 28:\n",
      "{   'Feedback': 'Good performance in overall score compared to the expected '\n",
      "                'score. | Good performance in recommendation score compared to '\n",
      "                'the expected score. | Good performance in structured answers '\n",
      "                'score compared to the expected score.',\n",
      "    'Overall Score': 5.8565521240234375,\n",
      "    'Recommendation Score': 5.7670207023620605,\n",
      "    'Structured Answers Score': 5.467452049255371}\n",
      "\n",
      "\n",
      "Feedback for Candidate 29:\n",
      "{   'Feedback': 'Acceptable performance in overall score. | Acceptable '\n",
      "                'performance in recommendation score. | Acceptable performance '\n",
      "                'in structured answers score.',\n",
      "    'Overall Score': 6.228393077850342,\n",
      "    'Recommendation Score': 6.137624740600586,\n",
      "    'Structured Answers Score': 5.739917755126953}\n",
      "\n",
      "\n",
      "Feedback for Candidate 30:\n",
      "{   'Feedback': 'Acceptable performance in overall score. | Acceptable '\n",
      "                'performance in recommendation score. | Acceptable performance '\n",
      "                'in structured answers score.',\n",
      "    'Overall Score': 4.263658046722412,\n",
      "    'Recommendation Score': 4.029660701751709,\n",
      "    'Structured Answers Score': 4.08030891418457}\n",
      "\n",
      "\n",
      "Feedback for Candidate 31:\n",
      "{   'Feedback': 'Acceptable performance in overall score. | Acceptable '\n",
      "                'performance in recommendation score. | Acceptable performance '\n",
      "                'in structured answers score.',\n",
      "    'Overall Score': 4.675021648406982,\n",
      "    'Recommendation Score': 4.485739707946777,\n",
      "    'Structured Answers Score': 4.611291408538818}\n",
      "\n",
      "\n",
      "Feedback for Candidate 32:\n",
      "{   'Feedback': 'Acceptable performance in overall score. | Acceptable '\n",
      "                'performance in recommendation score. | Good performance in '\n",
      "                'structured answers score compared to the expected score.',\n",
      "    'Overall Score': 5.5797834396362305,\n",
      "    'Recommendation Score': 5.5474724769592285,\n",
      "    'Structured Answers Score': 4.786051273345947}\n",
      "\n",
      "\n",
      "Feedback for Candidate 33:\n",
      "{   'Feedback': 'Acceptable performance in overall score. | Acceptable '\n",
      "                'performance in recommendation score. | Acceptable performance '\n",
      "                'in structured answers score.',\n",
      "    'Overall Score': 6.049067974090576,\n",
      "    'Recommendation Score': 5.927383899688721,\n",
      "    'Structured Answers Score': 6.336021423339844}\n",
      "\n",
      "\n",
      "Feedback for Candidate 34:\n",
      "{   'Feedback': 'Acceptable performance in overall score. | Acceptable '\n",
      "                'performance in recommendation score. | Acceptable performance '\n",
      "                'in structured answers score.',\n",
      "    'Overall Score': 5.818073749542236,\n",
      "    'Recommendation Score': 5.763445854187012,\n",
      "    'Structured Answers Score': 5.397371292114258}\n",
      "\n",
      "\n",
      "Feedback for Candidate 35:\n",
      "{   'Feedback': 'Acceptable performance in overall score. | Acceptable '\n",
      "                'performance in recommendation score. | Acceptable performance '\n",
      "                'in structured answers score.',\n",
      "    'Overall Score': 4.2732462882995605,\n",
      "    'Recommendation Score': 4.079906463623047,\n",
      "    'Structured Answers Score': 4.495892524719238}\n",
      "\n",
      "\n",
      "Feedback for Candidate 36:\n",
      "{   'Feedback': 'Acceptable performance in overall score. | Acceptable '\n",
      "                'performance in recommendation score. | Acceptable performance '\n",
      "                'in structured answers score.',\n",
      "    'Overall Score': 5.804036617279053,\n",
      "    'Recommendation Score': 5.784541130065918,\n",
      "    'Structured Answers Score': 5.460057735443115}\n",
      "\n",
      "\n",
      "Feedback for Candidate 37:\n",
      "{   'Feedback': 'Acceptable performance in overall score. | Acceptable '\n",
      "                'performance in recommendation score. | Acceptable performance '\n",
      "                'in structured answers score.',\n",
      "    'Overall Score': 5.697937965393066,\n",
      "    'Recommendation Score': 5.62470006942749,\n",
      "    'Structured Answers Score': 5.550301551818848}\n",
      "\n",
      "\n",
      "Feedback for Candidate 38:\n",
      "{   'Feedback': 'Acceptable performance in overall score. | Acceptable '\n",
      "                'performance in recommendation score. | Acceptable performance '\n",
      "                'in structured answers score.',\n",
      "    'Overall Score': 4.918625831604004,\n",
      "    'Recommendation Score': 4.718204021453857,\n",
      "    'Structured Answers Score': 4.541886806488037}\n",
      "\n",
      "\n",
      "Feedback for Candidate 39:\n",
      "{   'Feedback': 'Acceptable performance in overall score. | Acceptable '\n",
      "                'performance in recommendation score. | Acceptable performance '\n",
      "                'in structured answers score.',\n",
      "    'Overall Score': 6.749749183654785,\n",
      "    'Recommendation Score': 6.621998310089111,\n",
      "    'Structured Answers Score': 6.4576849937438965}\n",
      "\n",
      "\n",
      "Feedback for Candidate 40:\n",
      "{   'Feedback': 'Acceptable performance in overall score. | Acceptable '\n",
      "                'performance in recommendation score. | Acceptable performance '\n",
      "                'in structured answers score.',\n",
      "    'Overall Score': 4.585238933563232,\n",
      "    'Recommendation Score': 4.425582408905029,\n",
      "    'Structured Answers Score': 4.93197774887085}\n",
      "\n",
      "\n",
      "Feedback for Candidate 41:\n",
      "{   'Feedback': 'Acceptable performance in overall score. | Acceptable '\n",
      "                'performance in recommendation score. | Acceptable performance '\n",
      "                'in structured answers score.',\n",
      "    'Overall Score': 4.6249895095825195,\n",
      "    'Recommendation Score': 4.457686901092529,\n",
      "    'Structured Answers Score': 4.5474934577941895}\n",
      "\n",
      "\n",
      "Feedback for Candidate 42:\n",
      "{   'Feedback': 'Acceptable performance in overall score. | Acceptable '\n",
      "                'performance in recommendation score. | Acceptable performance '\n",
      "                'in structured answers score.',\n",
      "    'Overall Score': 5.589493751525879,\n",
      "    'Recommendation Score': 5.494178295135498,\n",
      "    'Structured Answers Score': 5.408383846282959}\n",
      "\n",
      "\n",
      "Feedback for Candidate 43:\n",
      "{   'Feedback': 'Acceptable performance in overall score. | Acceptable '\n",
      "                'performance in recommendation score. | Acceptable performance '\n",
      "                'in structured answers score.',\n",
      "    'Overall Score': 5.515715599060059,\n",
      "    'Recommendation Score': 5.443821907043457,\n",
      "    'Structured Answers Score': 4.867875099182129}\n",
      "\n",
      "\n",
      "Feedback for Candidate 44:\n",
      "{   'Feedback': 'Acceptable performance in overall score. | Acceptable '\n",
      "                'performance in recommendation score. | Acceptable performance '\n",
      "                'in structured answers score.',\n",
      "    'Overall Score': 4.427565574645996,\n",
      "    'Recommendation Score': 4.260068893432617,\n",
      "    'Structured Answers Score': 4.894655704498291}\n",
      "\n",
      "\n",
      "Feedback for Candidate 45:\n",
      "{   'Feedback': 'Acceptable performance in overall score. | Acceptable '\n",
      "                'performance in recommendation score. | Acceptable performance '\n",
      "                'in structured answers score.',\n",
      "    'Overall Score': 5.352789878845215,\n",
      "    'Recommendation Score': 5.321743965148926,\n",
      "    'Structured Answers Score': 4.668031215667725}\n",
      "\n",
      "\n",
      "Feedback for Candidate 46:\n",
      "{   'Feedback': 'Acceptable performance in overall score. | Acceptable '\n",
      "                'performance in recommendation score. | Acceptable performance '\n",
      "                'in structured answers score.',\n",
      "    'Overall Score': 4.972727298736572,\n",
      "    'Recommendation Score': 4.820222854614258,\n",
      "    'Structured Answers Score': 4.5232954025268555}\n",
      "\n",
      "\n",
      "Feedback for Candidate 47:\n",
      "{   'Feedback': 'Acceptable performance in overall score. | Acceptable '\n",
      "                'performance in recommendation score. | Acceptable performance '\n",
      "                'in structured answers score.',\n",
      "    'Overall Score': 5.127357006072998,\n",
      "    'Recommendation Score': 5.0954365730285645,\n",
      "    'Structured Answers Score': 3.9287054538726807}\n",
      "\n",
      "\n",
      "Feedback for Candidate 48:\n",
      "{   'Feedback': 'Acceptable performance in overall score. | Acceptable '\n",
      "                'performance in recommendation score. | Acceptable performance '\n",
      "                'in structured answers score.',\n",
      "    'Overall Score': 5.912168502807617,\n",
      "    'Recommendation Score': 5.852427959442139,\n",
      "    'Structured Answers Score': 4.88522481918335}\n",
      "\n",
      "\n",
      "Feedback for Candidate 49:\n",
      "{   'Feedback': 'Acceptable performance in overall score. | Acceptable '\n",
      "                'performance in recommendation score. | Acceptable performance '\n",
      "                'in structured answers score.',\n",
      "    'Overall Score': 6.059586048126221,\n",
      "    'Recommendation Score': 6.091427326202393,\n",
      "    'Structured Answers Score': 4.748046875}\n",
      "\n",
      "\n",
      "Feedback for Candidate 50:\n",
      "{   'Feedback': 'Acceptable performance in overall score. | Acceptable '\n",
      "                'performance in recommendation score. | Acceptable performance '\n",
      "                'in structured answers score.',\n",
      "    'Overall Score': 5.985454082489014,\n",
      "    'Recommendation Score': 5.935936450958252,\n",
      "    'Structured Answers Score': 4.9070634841918945}\n",
      "\n",
      "\n",
      "Feedback for Candidate 51:\n",
      "{   'Feedback': 'Acceptable performance in overall score. | Acceptable '\n",
      "                'performance in recommendation score. | Acceptable performance '\n",
      "                'in structured answers score.',\n",
      "    'Overall Score': 4.128669261932373,\n",
      "    'Recommendation Score': 3.940133810043335,\n",
      "    'Structured Answers Score': 4.551827430725098}\n",
      "\n",
      "\n",
      "Feedback for Candidate 52:\n",
      "{   'Feedback': 'Acceptable performance in overall score. | Acceptable '\n",
      "                'performance in recommendation score. | Acceptable performance '\n",
      "                'in structured answers score.',\n",
      "    'Overall Score': 6.139766216278076,\n",
      "    'Recommendation Score': 6.010003089904785,\n",
      "    'Structured Answers Score': 6.290807247161865}\n",
      "\n",
      "\n",
      "Feedback for Candidate 53:\n",
      "{   'Feedback': 'Acceptable performance in overall score. | Acceptable '\n",
      "                'performance in recommendation score. | Acceptable performance '\n",
      "                'in structured answers score.',\n",
      "    'Overall Score': 4.8892340660095215,\n",
      "    'Recommendation Score': 4.763643741607666,\n",
      "    'Structured Answers Score': 5.541701316833496}\n",
      "\n",
      "\n",
      "Feedback for Candidate 54:\n",
      "{   'Feedback': 'Acceptable performance in overall score. | Acceptable '\n",
      "                'performance in recommendation score. | Acceptable performance '\n",
      "                'in structured answers score.',\n",
      "    'Overall Score': 5.527853488922119,\n",
      "    'Recommendation Score': 5.430876731872559,\n",
      "    'Structured Answers Score': 5.362318992614746}\n",
      "\n",
      "\n",
      "Feedback for Candidate 55:\n",
      "{   'Feedback': 'Acceptable performance in overall score. | Acceptable '\n",
      "                'performance in recommendation score. | Acceptable performance '\n",
      "                'in structured answers score.',\n",
      "    'Overall Score': 5.1566667556762695,\n",
      "    'Recommendation Score': 5.020955562591553,\n",
      "    'Structured Answers Score': 5.418396472930908}\n",
      "\n",
      "\n",
      "Feedback for Candidate 56:\n",
      "{   'Feedback': 'Acceptable performance in overall score. | Acceptable '\n",
      "                'performance in recommendation score. | Acceptable performance '\n",
      "                'in structured answers score.',\n",
      "    'Overall Score': 5.667693614959717,\n",
      "    'Recommendation Score': 5.527563095092773,\n",
      "    'Structured Answers Score': 6.028478622436523}\n",
      "\n",
      "\n",
      "Feedback for Candidate 57:\n",
      "{   'Feedback': 'Acceptable performance in overall score. | Acceptable '\n",
      "                'performance in recommendation score. | Good performance in '\n",
      "                'structured answers score compared to the expected score.',\n",
      "    'Overall Score': 5.726823806762695,\n",
      "    'Recommendation Score': 5.666121006011963,\n",
      "    'Structured Answers Score': 5.880054950714111}\n",
      "\n",
      "\n",
      "Feedback for Candidate 58:\n",
      "{   'Feedback': 'Acceptable performance in overall score. | Acceptable '\n",
      "                'performance in recommendation score. | Acceptable performance '\n",
      "                'in structured answers score.',\n",
      "    'Overall Score': 6.652019023895264,\n",
      "    'Recommendation Score': 6.5273661613464355,\n",
      "    'Structured Answers Score': 6.213068962097168}\n",
      "\n",
      "\n",
      "Feedback for Candidate 59:\n",
      "{   'Feedback': 'Acceptable performance in overall score. | Acceptable '\n",
      "                'performance in recommendation score. | Acceptable performance '\n",
      "                'in structured answers score.',\n",
      "    'Overall Score': 5.138339042663574,\n",
      "    'Recommendation Score': 5.006507396697998,\n",
      "    'Structured Answers Score': 5.238674640655518}\n",
      "\n",
      "\n",
      "Feedback for Candidate 60:\n",
      "{   'Feedback': 'Acceptable performance in overall score. | Acceptable '\n",
      "                'performance in recommendation score. | Acceptable performance '\n",
      "                'in structured answers score.',\n",
      "    'Overall Score': 5.127886772155762,\n",
      "    'Recommendation Score': 5.010163307189941,\n",
      "    'Structured Answers Score': 4.836385250091553}\n",
      "\n",
      "\n",
      "Feedback for Candidate 61:\n",
      "{   'Feedback': 'Acceptable performance in overall score. | Acceptable '\n",
      "                'performance in recommendation score. | Acceptable performance '\n",
      "                'in structured answers score.',\n",
      "    'Overall Score': 5.188627243041992,\n",
      "    'Recommendation Score': 5.0831990242004395,\n",
      "    'Structured Answers Score': 4.225095748901367}\n",
      "\n",
      "\n",
      "Feedback for Candidate 62:\n",
      "{   'Feedback': 'Acceptable performance in overall score. | Acceptable '\n",
      "                'performance in recommendation score. | Acceptable performance '\n",
      "                'in structured answers score.',\n",
      "    'Overall Score': 5.151247978210449,\n",
      "    'Recommendation Score': 5.038741588592529,\n",
      "    'Structured Answers Score': 5.132603645324707}\n",
      "\n",
      "\n",
      "Feedback for Candidate 63:\n",
      "{   'Feedback': 'Acceptable performance in overall score. | Acceptable '\n",
      "                'performance in recommendation score. | Acceptable performance '\n",
      "                'in structured answers score.',\n",
      "    'Overall Score': 5.119045257568359,\n",
      "    'Recommendation Score': 5.044273376464844,\n",
      "    'Structured Answers Score': 4.332685947418213}\n",
      "\n",
      "\n",
      "Feedback for Candidate 64:\n",
      "{   'Feedback': 'Acceptable performance in overall score. | Acceptable '\n",
      "                'performance in recommendation score. | Acceptable performance '\n",
      "                'in structured answers score.',\n",
      "    'Overall Score': 6.020497798919678,\n",
      "    'Recommendation Score': 5.93762731552124,\n",
      "    'Structured Answers Score': 5.94279146194458}\n",
      "\n",
      "\n",
      "Feedback for Candidate 65:\n",
      "{   'Feedback': 'Acceptable performance in overall score. | Acceptable '\n",
      "                'performance in recommendation score. | Acceptable performance '\n",
      "                'in structured answers score.',\n",
      "    'Overall Score': 5.044063091278076,\n",
      "    'Recommendation Score': 4.931283950805664,\n",
      "    'Structured Answers Score': 5.180669784545898}\n",
      "\n",
      "\n",
      "Feedback for Candidate 66:\n",
      "{   'Feedback': 'Acceptable performance in overall score. | Needs improvement '\n",
      "                'in recommendation score as it was scored lower than expected. '\n",
      "                '| Acceptable performance in structured answers score.',\n",
      "    'Overall Score': 5.337534427642822,\n",
      "    'Recommendation Score': 5.209756851196289,\n",
      "    'Structured Answers Score': 5.085879325866699}\n",
      "\n",
      "\n",
      "Feedback for Candidate 67:\n",
      "{   'Feedback': 'Acceptable performance in overall score. | Acceptable '\n",
      "                'performance in recommendation score. | Acceptable performance '\n",
      "                'in structured answers score.',\n",
      "    'Overall Score': 5.763448715209961,\n",
      "    'Recommendation Score': 5.722225666046143,\n",
      "    'Structured Answers Score': 4.906531810760498}\n",
      "\n",
      "\n",
      "Feedback for Candidate 68:\n",
      "{   'Feedback': 'Acceptable performance in overall score. | Acceptable '\n",
      "                'performance in recommendation score. | Good performance in '\n",
      "                'structured answers score compared to the expected score.',\n",
      "    'Overall Score': 4.619816303253174,\n",
      "    'Recommendation Score': 4.429327011108398,\n",
      "    'Structured Answers Score': 4.42150354385376}\n",
      "\n",
      "\n",
      "Feedback for Candidate 69:\n",
      "{   'Feedback': 'Acceptable performance in overall score. | Acceptable '\n",
      "                'performance in recommendation score. | Good performance in '\n",
      "                'structured answers score compared to the expected score.',\n",
      "    'Overall Score': 5.172554016113281,\n",
      "    'Recommendation Score': 5.058671951293945,\n",
      "    'Structured Answers Score': 5.065835952758789}\n",
      "\n",
      "\n",
      "Feedback for Candidate 70:\n",
      "{   'Feedback': 'Acceptable performance in overall score. | Acceptable '\n",
      "                'performance in recommendation score. | Acceptable performance '\n",
      "                'in structured answers score.',\n",
      "    'Overall Score': 5.428712368011475,\n",
      "    'Recommendation Score': 5.327592849731445,\n",
      "    'Structured Answers Score': 5.55438232421875}\n",
      "\n",
      "\n",
      "Feedback for Candidate 71:\n",
      "{   'Feedback': 'Acceptable performance in overall score. | Acceptable '\n",
      "                'performance in recommendation score. | Good performance in '\n",
      "                'structured answers score compared to the expected score.',\n",
      "    'Overall Score': 4.825723648071289,\n",
      "    'Recommendation Score': 4.697515964508057,\n",
      "    'Structured Answers Score': 5.2097907066345215}\n",
      "\n",
      "\n",
      "Feedback for Candidate 72:\n",
      "{   'Feedback': 'Acceptable performance in overall score. | Acceptable '\n",
      "                'performance in recommendation score. | Acceptable performance '\n",
      "                'in structured answers score.',\n",
      "    'Overall Score': 6.070644378662109,\n",
      "    'Recommendation Score': 5.990847587585449,\n",
      "    'Structured Answers Score': 5.975433349609375}\n",
      "\n",
      "\n",
      "Feedback for Candidate 73:\n",
      "{   'Feedback': 'Acceptable performance in overall score. | Acceptable '\n",
      "                'performance in recommendation score. | Acceptable performance '\n",
      "                'in structured answers score.',\n",
      "    'Overall Score': 5.602941513061523,\n",
      "    'Recommendation Score': 5.5223259925842285,\n",
      "    'Structured Answers Score': 5.767556190490723}\n",
      "\n",
      "\n",
      "Feedback for Candidate 74:\n",
      "{   'Feedback': 'Good performance in overall score compared to the expected '\n",
      "                'score. | Good performance in recommendation score compared to '\n",
      "                'the expected score. | Good performance in structured answers '\n",
      "                'score compared to the expected score.',\n",
      "    'Overall Score': 5.848251819610596,\n",
      "    'Recommendation Score': 5.741818904876709,\n",
      "    'Structured Answers Score': 5.7798333168029785}\n",
      "\n",
      "\n",
      "Feedback for Candidate 75:\n",
      "{   'Feedback': 'Acceptable performance in overall score. | Acceptable '\n",
      "                'performance in recommendation score. | Acceptable performance '\n",
      "                'in structured answers score.',\n",
      "    'Overall Score': 6.7493577003479,\n",
      "    'Recommendation Score': 6.627056121826172,\n",
      "    'Structured Answers Score': 6.500744342803955}\n",
      "\n",
      "\n",
      "Feedback for Candidate 76:\n",
      "{   'Feedback': 'Acceptable performance in overall score. | Acceptable '\n",
      "                'performance in recommendation score. | Acceptable performance '\n",
      "                'in structured answers score.',\n",
      "    'Overall Score': 4.702994346618652,\n",
      "    'Recommendation Score': 4.513190746307373,\n",
      "    'Structured Answers Score': 4.317343235015869}\n",
      "\n",
      "\n",
      "Feedback for Candidate 77:\n",
      "{   'Feedback': 'Acceptable performance in overall score. | Acceptable '\n",
      "                'performance in recommendation score. | Good performance in '\n",
      "                'structured answers score compared to the expected score.',\n",
      "    'Overall Score': 5.960400581359863,\n",
      "    'Recommendation Score': 5.925749778747559,\n",
      "    'Structured Answers Score': 5.385469913482666}\n",
      "\n",
      "\n",
      "Feedback for Candidate 78:\n",
      "{   'Feedback': 'Acceptable performance in overall score. | Acceptable '\n",
      "                'performance in recommendation score. | Acceptable performance '\n",
      "                'in structured answers score.',\n",
      "    'Overall Score': 6.1741414070129395,\n",
      "    'Recommendation Score': 6.17589807510376,\n",
      "    'Structured Answers Score': 5.553799629211426}\n",
      "\n",
      "\n",
      "Feedback for Candidate 79:\n",
      "{   'Feedback': 'Acceptable performance in overall score. | Acceptable '\n",
      "                'performance in recommendation score. | Acceptable performance '\n",
      "                'in structured answers score.',\n",
      "    'Overall Score': 4.376609802246094,\n",
      "    'Recommendation Score': 4.18035888671875,\n",
      "    'Structured Answers Score': 4.577659606933594}\n",
      "\n",
      "\n",
      "Feedback for Candidate 80:\n",
      "{   'Feedback': 'Acceptable performance in overall score. | Acceptable '\n",
      "                'performance in recommendation score. | Acceptable performance '\n",
      "                'in structured answers score.',\n",
      "    'Overall Score': 5.510863780975342,\n",
      "    'Recommendation Score': 5.433196067810059,\n",
      "    'Structured Answers Score': 5.556382656097412}\n",
      "\n",
      "\n",
      "Feedback for Candidate 81:\n",
      "{   'Feedback': 'Acceptable performance in overall score. | Acceptable '\n",
      "                'performance in recommendation score. | Acceptable performance '\n",
      "                'in structured answers score.',\n",
      "    'Overall Score': 5.464058876037598,\n",
      "    'Recommendation Score': 5.355227947235107,\n",
      "    'Structured Answers Score': 5.932497501373291}\n",
      "\n",
      "\n",
      "Feedback for Candidate 82:\n",
      "{   'Feedback': 'Acceptable performance in overall score. | Acceptable '\n",
      "                'performance in recommendation score. | Acceptable performance '\n",
      "                'in structured answers score.',\n",
      "    'Overall Score': 6.51312780380249,\n",
      "    'Recommendation Score': 6.395211696624756,\n",
      "    'Structured Answers Score': 6.326914310455322}\n",
      "\n",
      "\n",
      "Feedback for Candidate 83:\n",
      "{   'Feedback': 'Acceptable performance in overall score. | Acceptable '\n",
      "                'performance in recommendation score. | Acceptable performance '\n",
      "                'in structured answers score.',\n",
      "    'Overall Score': 5.594852447509766,\n",
      "    'Recommendation Score': 5.475968360900879,\n",
      "    'Structured Answers Score': 5.740791320800781}\n",
      "\n",
      "\n",
      "Feedback for Candidate 84:\n",
      "{   'Feedback': 'Acceptable performance in overall score. | Acceptable '\n",
      "                'performance in recommendation score. | Acceptable performance '\n",
      "                'in structured answers score.',\n",
      "    'Overall Score': 5.255320072174072,\n",
      "    'Recommendation Score': 5.119967937469482,\n",
      "    'Structured Answers Score': 5.53524923324585}\n",
      "\n",
      "\n",
      "Feedback for Candidate 85:\n",
      "{   'Feedback': 'Acceptable performance in overall score. | Acceptable '\n",
      "                'performance in recommendation score. | Acceptable performance '\n",
      "                'in structured answers score.',\n",
      "    'Overall Score': 5.596368789672852,\n",
      "    'Recommendation Score': 5.484167098999023,\n",
      "    'Structured Answers Score': 5.841310977935791}\n",
      "\n",
      "\n",
      "Feedback for Candidate 86:\n",
      "{   'Feedback': 'Acceptable performance in overall score. | Acceptable '\n",
      "                'performance in recommendation score. | Acceptable performance '\n",
      "                'in structured answers score.',\n",
      "    'Overall Score': 5.895179271697998,\n",
      "    'Recommendation Score': 5.9191694259643555,\n",
      "    'Structured Answers Score': 5.203453540802002}\n",
      "\n",
      "\n",
      "Feedback for Candidate 87:\n",
      "{   'Feedback': 'Good performance in overall score compared to the expected '\n",
      "                'score. | Good performance in recommendation score compared to '\n",
      "                'the expected score. | Good performance in structured answers '\n",
      "                'score compared to the expected score.',\n",
      "    'Overall Score': 6.121883392333984,\n",
      "    'Recommendation Score': 6.0472187995910645,\n",
      "    'Structured Answers Score': 6.055104732513428}\n",
      "\n",
      "\n",
      "Feedback for Candidate 88:\n",
      "{   'Feedback': 'Acceptable performance in overall score. | Acceptable '\n",
      "                'performance in recommendation score. | Acceptable performance '\n",
      "                'in structured answers score.',\n",
      "    'Overall Score': 5.449297904968262,\n",
      "    'Recommendation Score': 5.395770072937012,\n",
      "    'Structured Answers Score': 4.795823574066162}\n",
      "\n",
      "\n",
      "Feedback for Candidate 89:\n",
      "{   'Feedback': 'Acceptable performance in overall score. | Acceptable '\n",
      "                'performance in recommendation score. | Acceptable performance '\n",
      "                'in structured answers score.',\n",
      "    'Overall Score': 5.944637298583984,\n",
      "    'Recommendation Score': 5.88469123840332,\n",
      "    'Structured Answers Score': 5.6785478591918945}\n",
      "\n",
      "\n",
      "Feedback for Candidate 90:\n",
      "{   'Feedback': 'Acceptable performance in overall score. | Acceptable '\n",
      "                'performance in recommendation score. | Good performance in '\n",
      "                'structured answers score compared to the expected score.',\n",
      "    'Overall Score': 6.066059112548828,\n",
      "    'Recommendation Score': 5.966807842254639,\n",
      "    'Structured Answers Score': 6.392178058624268}\n",
      "\n",
      "\n",
      "Feedback for Candidate 91:\n",
      "{   'Feedback': 'Acceptable performance in overall score. | Acceptable '\n",
      "                'performance in recommendation score. | Acceptable performance '\n",
      "                'in structured answers score.',\n",
      "    'Overall Score': 5.29852294921875,\n",
      "    'Recommendation Score': 5.166399002075195,\n",
      "    'Structured Answers Score': 5.561004638671875}\n",
      "\n",
      "\n",
      "Feedback for Candidate 92:\n",
      "{   'Feedback': 'Acceptable performance in overall score. | Acceptable '\n",
      "                'performance in recommendation score. | Acceptable performance '\n",
      "                'in structured answers score.',\n",
      "    'Overall Score': 6.011553764343262,\n",
      "    'Recommendation Score': 5.889469623565674,\n",
      "    'Structured Answers Score': 6.170984745025635}\n",
      "\n",
      "\n",
      "Feedback for Candidate 93:\n",
      "{   'Feedback': 'Acceptable performance in overall score. | Acceptable '\n",
      "                'performance in recommendation score. | Acceptable performance '\n",
      "                'in structured answers score.',\n",
      "    'Overall Score': 6.011955738067627,\n",
      "    'Recommendation Score': 5.929329872131348,\n",
      "    'Structured Answers Score': 5.8079609870910645}\n",
      "\n",
      "\n",
      "Feedback for Candidate 94:\n",
      "{   'Feedback': 'Acceptable performance in overall score. | Acceptable '\n",
      "                'performance in recommendation score. | Acceptable performance '\n",
      "                'in structured answers score.',\n",
      "    'Overall Score': 5.747684478759766,\n",
      "    'Recommendation Score': 5.714913368225098,\n",
      "    'Structured Answers Score': 5.1658034324646}\n",
      "\n",
      "\n",
      "Feedback for Candidate 95:\n",
      "{   'Feedback': 'Acceptable performance in overall score. | Acceptable '\n",
      "                'performance in recommendation score. | Acceptable performance '\n",
      "                'in structured answers score.',\n",
      "    'Overall Score': 6.13222074508667,\n",
      "    'Recommendation Score': 6.022224426269531,\n",
      "    'Structured Answers Score': 6.290444850921631}\n",
      "\n",
      "\n",
      "Feedback for Candidate 96:\n",
      "{   'Feedback': 'Acceptable performance in overall score. | Acceptable '\n",
      "                'performance in recommendation score. | Acceptable performance '\n",
      "                'in structured answers score.',\n",
      "    'Overall Score': 5.620297431945801,\n",
      "    'Recommendation Score': 5.487455368041992,\n",
      "    'Structured Answers Score': 6.0140204429626465}\n",
      "\n",
      "\n",
      "Feedback for Candidate 97:\n",
      "{   'Feedback': 'Acceptable performance in overall score. | Acceptable '\n",
      "                'performance in recommendation score. | Acceptable performance '\n",
      "                'in structured answers score.',\n",
      "    'Overall Score': 5.213010787963867,\n",
      "    'Recommendation Score': 5.007912635803223,\n",
      "    'Structured Answers Score': 5.097054481506348}\n",
      "\n",
      "\n",
      "Feedback for Candidate 98:\n",
      "{   'Feedback': 'Acceptable performance in overall score. | Acceptable '\n",
      "                'performance in recommendation score. | Acceptable performance '\n",
      "                'in structured answers score.',\n",
      "    'Overall Score': 6.182212829589844,\n",
      "    'Recommendation Score': 6.116888999938965,\n",
      "    'Structured Answers Score': 5.76276159286499}\n",
      "\n",
      "\n",
      "Feedback for Candidate 99:\n",
      "{   'Feedback': 'Acceptable performance in overall score. | Acceptable '\n",
      "                'performance in recommendation score. | Acceptable performance '\n",
      "                'in structured answers score.',\n",
      "    'Overall Score': 4.609172821044922,\n",
      "    'Recommendation Score': 4.45440149307251,\n",
      "    'Structured Answers Score': 5.233151912689209}\n",
      "\n",
      "\n",
      "Feedback for Candidate 100:\n",
      "{   'Feedback': 'Acceptable performance in overall score. | Acceptable '\n",
      "                'performance in recommendation score. | Acceptable performance '\n",
      "                'in structured answers score.',\n",
      "    'Overall Score': 4.215847492218018,\n",
      "    'Recommendation Score': 3.983201503753662,\n",
      "    'Structured Answers Score': 4.403357028961182}\n",
      "\n",
      "\n",
      "Feedback for Candidate 101:\n",
      "{   'Feedback': 'Acceptable performance in overall score. | Acceptable '\n",
      "                'performance in recommendation score. | Acceptable performance '\n",
      "                'in structured answers score.',\n",
      "    'Overall Score': 5.175405979156494,\n",
      "    'Recommendation Score': 5.139248847961426,\n",
      "    'Structured Answers Score': 4.201370716094971}\n",
      "\n",
      "\n",
      "Feedback for Candidate 102:\n",
      "{   'Feedback': 'Acceptable performance in overall score. | Acceptable '\n",
      "                'performance in recommendation score. | Acceptable performance '\n",
      "                'in structured answers score.',\n",
      "    'Overall Score': 6.015625476837158,\n",
      "    'Recommendation Score': 5.901427268981934,\n",
      "    'Structured Answers Score': 6.107905864715576}\n",
      "\n",
      "\n",
      "Feedback for Candidate 103:\n",
      "{   'Feedback': 'Acceptable performance in overall score. | Acceptable '\n",
      "                'performance in recommendation score. | Acceptable performance '\n",
      "                'in structured answers score.',\n",
      "    'Overall Score': 5.820963382720947,\n",
      "    'Recommendation Score': 5.678022384643555,\n",
      "    'Structured Answers Score': 5.962125301361084}\n",
      "\n",
      "\n",
      "Feedback for Candidate 104:\n",
      "{   'Feedback': 'Acceptable performance in overall score. | Acceptable '\n",
      "                'performance in recommendation score. | Good performance in '\n",
      "                'structured answers score compared to the expected score.',\n",
      "    'Overall Score': 4.520827770233154,\n",
      "    'Recommendation Score': 4.344879627227783,\n",
      "    'Structured Answers Score': 4.477844715118408}\n",
      "\n",
      "\n",
      "Feedback for Candidate 105:\n",
      "{   'Feedback': 'Acceptable performance in overall score. | Acceptable '\n",
      "                'performance in recommendation score. | Acceptable performance '\n",
      "                'in structured answers score.',\n",
      "    'Overall Score': 5.535650253295898,\n",
      "    'Recommendation Score': 5.484560012817383,\n",
      "    'Structured Answers Score': 5.316774845123291}\n",
      "\n",
      "\n",
      "Feedback for Candidate 106:\n",
      "{   'Feedback': 'Acceptable performance in overall score. | Acceptable '\n",
      "                'performance in recommendation score. | Acceptable performance '\n",
      "                'in structured answers score.',\n",
      "    'Overall Score': 5.437912464141846,\n",
      "    'Recommendation Score': 5.3123321533203125,\n",
      "    'Structured Answers Score': 5.696592330932617}\n",
      "\n",
      "\n",
      "Feedback for Candidate 107:\n",
      "{   'Feedback': 'Acceptable performance in overall score. | Acceptable '\n",
      "                'performance in recommendation score. | Acceptable performance '\n",
      "                'in structured answers score.',\n",
      "    'Overall Score': 4.728855609893799,\n",
      "    'Recommendation Score': 4.591769695281982,\n",
      "    'Structured Answers Score': 5.214798450469971}\n",
      "\n",
      "\n",
      "Feedback for Candidate 108:\n",
      "{   'Feedback': 'Acceptable performance in overall score. | Acceptable '\n",
      "                'performance in recommendation score. | Acceptable performance '\n",
      "                'in structured answers score.',\n",
      "    'Overall Score': 6.743585109710693,\n",
      "    'Recommendation Score': 6.607866287231445,\n",
      "    'Structured Answers Score': 6.746691703796387}\n",
      "\n",
      "\n",
      "Feedback for Candidate 109:\n",
      "{   'Feedback': 'Acceptable performance in overall score. | Acceptable '\n",
      "                'performance in recommendation score. | Acceptable performance '\n",
      "                'in structured answers score.',\n",
      "    'Overall Score': 5.817570686340332,\n",
      "    'Recommendation Score': 5.729584217071533,\n",
      "    'Structured Answers Score': 5.761657238006592}\n",
      "\n",
      "\n",
      "Feedback for Candidate 110:\n",
      "{   'Feedback': 'Acceptable performance in overall score. | Acceptable '\n",
      "                'performance in recommendation score. | Acceptable performance '\n",
      "                'in structured answers score.',\n",
      "    'Overall Score': 5.599610805511475,\n",
      "    'Recommendation Score': 5.548449993133545,\n",
      "    'Structured Answers Score': 5.411273956298828}\n",
      "\n",
      "\n",
      "Feedback for Candidate 111:\n",
      "{   'Feedback': 'Acceptable performance in overall score. | Acceptable '\n",
      "                'performance in recommendation score. | Acceptable performance '\n",
      "                'in structured answers score.',\n",
      "    'Overall Score': 4.6555657386779785,\n",
      "    'Recommendation Score': 4.512813568115234,\n",
      "    'Structured Answers Score': 5.122731685638428}\n",
      "\n",
      "\n",
      "Feedback for Candidate 112:\n",
      "{   'Feedback': 'Acceptable performance in overall score. | Acceptable '\n",
      "                'performance in recommendation score. | Good performance in '\n",
      "                'structured answers score compared to the expected score.',\n",
      "    'Overall Score': 5.923106670379639,\n",
      "    'Recommendation Score': 5.841433048248291,\n",
      "    'Structured Answers Score': 5.563778877258301}\n",
      "\n",
      "\n",
      "Feedback for Candidate 113:\n",
      "{   'Feedback': 'Acceptable performance in overall score. | Acceptable '\n",
      "                'performance in recommendation score. | Acceptable performance '\n",
      "                'in structured answers score.',\n",
      "    'Overall Score': 5.573486328125,\n",
      "    'Recommendation Score': 5.474367618560791,\n",
      "    'Structured Answers Score': 5.667393207550049}\n",
      "\n",
      "\n",
      "Feedback for Candidate 114:\n",
      "{   'Feedback': 'Acceptable performance in overall score. | Acceptable '\n",
      "                'performance in recommendation score. | Acceptable performance '\n",
      "                'in structured answers score.',\n",
      "    'Overall Score': 5.1914544105529785,\n",
      "    'Recommendation Score': 5.104411602020264,\n",
      "    'Structured Answers Score': 4.904304504394531}\n",
      "\n",
      "\n",
      "Feedback for Candidate 115:\n",
      "{   'Feedback': 'Acceptable performance in overall score. | Acceptable '\n",
      "                'performance in recommendation score. | Acceptable performance '\n",
      "                'in structured answers score.',\n",
      "    'Overall Score': 5.290022373199463,\n",
      "    'Recommendation Score': 5.1751604080200195,\n",
      "    'Structured Answers Score': 4.581058979034424}\n",
      "\n",
      "\n",
      "Feedback for Candidate 116:\n",
      "{   'Feedback': 'Acceptable performance in overall score. | Acceptable '\n",
      "                'performance in recommendation score. | Acceptable performance '\n",
      "                'in structured answers score.',\n",
      "    'Overall Score': 6.35852575302124,\n",
      "    'Recommendation Score': 6.32113790512085,\n",
      "    'Structured Answers Score': 5.513857364654541}\n",
      "\n",
      "\n",
      "Feedback for Candidate 117:\n",
      "{   'Feedback': 'Acceptable performance in overall score. | Acceptable '\n",
      "                'performance in recommendation score. | Acceptable performance '\n",
      "                'in structured answers score.',\n",
      "    'Overall Score': 5.883626937866211,\n",
      "    'Recommendation Score': 5.89953088760376,\n",
      "    'Structured Answers Score': 4.807134628295898}\n",
      "\n",
      "\n",
      "Feedback for Candidate 118:\n",
      "{   'Feedback': 'Acceptable performance in overall score. | Acceptable '\n",
      "                'performance in recommendation score. | Acceptable performance '\n",
      "                'in structured answers score.',\n",
      "    'Overall Score': 5.718616008758545,\n",
      "    'Recommendation Score': 5.654252529144287,\n",
      "    'Structured Answers Score': 5.299542427062988}\n",
      "\n",
      "\n",
      "Feedback for Candidate 119:\n",
      "{   'Feedback': 'Acceptable performance in overall score. | Acceptable '\n",
      "                'performance in recommendation score. | Acceptable performance '\n",
      "                'in structured answers score.',\n",
      "    'Overall Score': 5.806328296661377,\n",
      "    'Recommendation Score': 5.746753215789795,\n",
      "    'Structured Answers Score': 4.918466091156006}\n",
      "\n",
      "\n",
      "Feedback for Candidate 120:\n",
      "{   'Feedback': 'Acceptable performance in overall score. | Acceptable '\n",
      "                'performance in recommendation score. | Acceptable performance '\n",
      "                'in structured answers score.',\n",
      "    'Overall Score': 3.9992308616638184,\n",
      "    'Recommendation Score': 3.8229353427886963,\n",
      "    'Structured Answers Score': 4.56049108505249}\n",
      "\n",
      "\n",
      "Feedback for Candidate 121:\n",
      "{   'Feedback': 'Acceptable performance in overall score. | Acceptable '\n",
      "                'performance in recommendation score. | Acceptable performance '\n",
      "                'in structured answers score.',\n",
      "    'Overall Score': 6.014294624328613,\n",
      "    'Recommendation Score': 5.925115585327148,\n",
      "    'Structured Answers Score': 5.954777717590332}\n",
      "\n",
      "\n",
      "Feedback for Candidate 122:\n",
      "{   'Feedback': 'Acceptable performance in overall score. | Acceptable '\n",
      "                'performance in recommendation score. | Acceptable performance '\n",
      "                'in structured answers score.',\n",
      "    'Overall Score': 5.13169527053833,\n",
      "    'Recommendation Score': 5.0448689460754395,\n",
      "    'Structured Answers Score': 5.367023944854736}\n",
      "\n",
      "\n",
      "Feedback for Candidate 123:\n",
      "{   'Feedback': 'Acceptable performance in overall score. | Acceptable '\n",
      "                'performance in recommendation score. | Acceptable performance '\n",
      "                'in structured answers score.',\n",
      "    'Overall Score': 5.819584846496582,\n",
      "    'Recommendation Score': 5.709124565124512,\n",
      "    'Structured Answers Score': 5.986335754394531}\n",
      "\n",
      "\n",
      "Feedback for Candidate 124:\n",
      "{   'Feedback': 'Acceptable performance in overall score. | Acceptable '\n",
      "                'performance in recommendation score. | Acceptable performance '\n",
      "                'in structured answers score.',\n",
      "    'Overall Score': 5.7602667808532715,\n",
      "    'Recommendation Score': 5.67110538482666,\n",
      "    'Structured Answers Score': 6.150396347045898}\n",
      "\n",
      "\n",
      "Feedback for Candidate 125:\n",
      "{   'Feedback': 'Acceptable performance in overall score. | Acceptable '\n",
      "                'performance in recommendation score. | Acceptable performance '\n",
      "                'in structured answers score.',\n",
      "    'Overall Score': 6.272423267364502,\n",
      "    'Recommendation Score': 6.185570240020752,\n",
      "    'Structured Answers Score': 6.091297626495361}\n",
      "\n",
      "\n",
      "Feedback for Candidate 126:\n",
      "{   'Feedback': 'Acceptable performance in overall score. | Acceptable '\n",
      "                'performance in recommendation score. | Acceptable performance '\n",
      "                'in structured answers score.',\n",
      "    'Overall Score': 5.012231826782227,\n",
      "    'Recommendation Score': 4.892958164215088,\n",
      "    'Structured Answers Score': 5.423755168914795}\n",
      "\n",
      "\n",
      "Feedback for Candidate 127:\n",
      "{   'Feedback': 'Acceptable performance in overall score. | Acceptable '\n",
      "                'performance in recommendation score. | Acceptable performance '\n",
      "                'in structured answers score.',\n",
      "    'Overall Score': 6.592881202697754,\n",
      "    'Recommendation Score': 6.503544330596924,\n",
      "    'Structured Answers Score': 5.982284069061279}\n",
      "\n",
      "\n",
      "Feedback for Candidate 128:\n",
      "{   'Feedback': 'Acceptable performance in overall score. | Acceptable '\n",
      "                'performance in recommendation score. | Acceptable performance '\n",
      "                'in structured answers score.',\n",
      "    'Overall Score': 5.586036682128906,\n",
      "    'Recommendation Score': 5.486234664916992,\n",
      "    'Structured Answers Score': 5.79744291305542}\n",
      "\n",
      "\n",
      "Feedback for Candidate 129:\n",
      "{   'Feedback': 'Acceptable performance in overall score. | Acceptable '\n",
      "                'performance in recommendation score. | Acceptable performance '\n",
      "                'in structured answers score.',\n",
      "    'Overall Score': 5.419868469238281,\n",
      "    'Recommendation Score': 5.305112361907959,\n",
      "    'Structured Answers Score': 5.6963605880737305}\n",
      "\n",
      "\n",
      "Feedback for Candidate 130:\n",
      "{   'Feedback': 'Acceptable performance in overall score. | Acceptable '\n",
      "                'performance in recommendation score. | Acceptable performance '\n",
      "                'in structured answers score.',\n",
      "    'Overall Score': 5.814634323120117,\n",
      "    'Recommendation Score': 5.775869369506836,\n",
      "    'Structured Answers Score': 4.9399003982543945}\n",
      "\n",
      "\n",
      "Feedback for Candidate 131:\n",
      "{   'Feedback': 'Acceptable performance in overall score. | Acceptable '\n",
      "                'performance in recommendation score. | Acceptable performance '\n",
      "                'in structured answers score.',\n",
      "    'Overall Score': 5.637646675109863,\n",
      "    'Recommendation Score': 5.5170512199401855,\n",
      "    'Structured Answers Score': 5.6820244789123535}\n",
      "\n",
      "\n",
      "Feedback for Candidate 132:\n",
      "{   'Feedback': 'Acceptable performance in overall score. | Acceptable '\n",
      "                'performance in recommendation score. | Acceptable performance '\n",
      "                'in structured answers score.',\n",
      "    'Overall Score': 6.204405307769775,\n",
      "    'Recommendation Score': 6.128430366516113,\n",
      "    'Structured Answers Score': 5.724958419799805}\n",
      "\n",
      "\n",
      "Feedback for Candidate 133:\n",
      "{   'Feedback': 'Acceptable performance in overall score. | Acceptable '\n",
      "                'performance in recommendation score. | Acceptable performance '\n",
      "                'in structured answers score.',\n",
      "    'Overall Score': 6.713279724121094,\n",
      "    'Recommendation Score': 6.5717010498046875,\n",
      "    'Structured Answers Score': 6.769503116607666}\n",
      "\n",
      "\n",
      "Feedback for Candidate 134:\n",
      "{   'Feedback': 'Acceptable performance in overall score. | Acceptable '\n",
      "                'performance in recommendation score. | Acceptable performance '\n",
      "                'in structured answers score.',\n",
      "    'Overall Score': 6.130156993865967,\n",
      "    'Recommendation Score': 6.056949615478516,\n",
      "    'Structured Answers Score': 5.3042216300964355}\n",
      "\n",
      "\n",
      "Feedback for Candidate 135:\n",
      "{   'Feedback': 'Acceptable performance in overall score. | Acceptable '\n",
      "                'performance in recommendation score. | Acceptable performance '\n",
      "                'in structured answers score.',\n",
      "    'Overall Score': 6.469409465789795,\n",
      "    'Recommendation Score': 6.506106376647949,\n",
      "    'Structured Answers Score': 5.700150012969971}\n",
      "\n",
      "\n",
      "Feedback for Candidate 136:\n",
      "{   'Feedback': 'Acceptable performance in overall score. | Acceptable '\n",
      "                'performance in recommendation score. | Acceptable performance '\n",
      "                'in structured answers score.',\n",
      "    'Overall Score': 6.035545349121094,\n",
      "    'Recommendation Score': 5.975506782531738,\n",
      "    'Structured Answers Score': 5.486034393310547}\n",
      "\n",
      "\n",
      "Feedback for Candidate 137:\n",
      "{   'Feedback': 'Acceptable performance in overall score. | Acceptable '\n",
      "                'performance in recommendation score. | Acceptable performance '\n",
      "                'in structured answers score.',\n",
      "    'Overall Score': 5.247715950012207,\n",
      "    'Recommendation Score': 5.108356475830078,\n",
      "    'Structured Answers Score': 4.84780740737915}\n",
      "\n",
      "\n",
      "Feedback for Candidate 138:\n",
      "{   'Feedback': 'Acceptable performance in overall score. | Acceptable '\n",
      "                'performance in recommendation score. | Acceptable performance '\n",
      "                'in structured answers score.',\n",
      "    'Overall Score': 4.961568355560303,\n",
      "    'Recommendation Score': 4.797063827514648,\n",
      "    'Structured Answers Score': 4.876636981964111}\n",
      "\n",
      "\n"
     ]
    }
   ],
   "source": [
    "\n",
    "feedback = calculate_feedback(all_predicted_scores_tensor, all_true_scores_tensor)\n",
    "\n",
    "import pprint\n",
    "pp = pprint.PrettyPrinter(indent=4)\n",
    "for idx, candidate_feedback in enumerate(feedback):\n",
    "    print(f\"Feedback for Candidate {idx + 1}:\")\n",
    "    pp.pprint(candidate_feedback)\n",
    "    print(\"\\n\")\n"
   ]
  },
  {
   "cell_type": "code",
   "execution_count": 11,
   "metadata": {},
   "outputs": [
    {
     "name": "stdout",
     "output_type": "stream",
     "text": [
      "Original Dialogue for Candidate 1:\n",
      "Turn 1: so how you doing?\n",
      "Turn 2: great how about you?\n",
      "Turn 3: i'm okay.\n",
      "Turn 4: i'm a little [??? ] by the resurgence of the hurricane but..\n",
      "Turn 5: i understand i got to get home later too and i'm worried.\n",
      "Turn 6: yeah we were half way here and it just turned on a switch lightening winds and everything.\n",
      "Turn 7: oh wow.\n",
      "Turn 8: so yeah.\n",
      "Turn 9: so uh tell me about yourself.\n",
      "Turn 10: okay um i'm a junior here at mit um i'm studying aerospace engineering um my my interests are generally in food mechanics control um design um mostly aircraft but protozoan [??? ] problems in general. um i like to um i like to play music listen to music um i run do some other team sports i like to play hockey.\n",
      "Turn 11: tell me about a time when you demonstrated leadership.\n",
      "Turn 12: um okay so uh one of the projects that i've worked on since coming to mit um was during my freshman year i worked in the in the uh artificial intelligence group in uh cesil [ sp ] which is a lab a computer science lab here at mit.\n",
      "Turn 13: okay.\n",
      "Turn 14: and um i was working on a project with another student actually another freshman uh basically we were tasked with the sort of bringing this project starting this project bring it up to the level where it could be presented at conference.\n",
      "Turn 15: mm - hmm.\n",
      "Turn 16: um together and we were kind of left to work out the cooperation on our own and um there was um as the conference got closer about halfway um about halfway through the year freshman year ah there were a bunch of issues that we had with um with um basically meeting the expectations that had been set before us in terms of what we were going to present. um and finishing in a timely basis.\n",
      "Turn 17: mm - hmm.\n",
      "Turn 18: and it came down to whether we were really going to be able to and there were other basically parts other people's work in the same group where work depended on us finishing in time so it really um really we had to make a decision weather we were just going to basically get done what we could but to the quality standard that the standard of quality that was expected of us or to um try to finish everything and to have other people's work potentially suffer because of our [?? ] hadn't really been up to snuff. and um and so we kind of had a little bit of a disagreement about this\n",
      "Turn 19: tell me about a time when you were working on a team and you were faced with a challenge. how did you solve the problem?\n",
      "Turn 20: okay um so another another thing that i spend a lot of my time doing is called is an organization called design build fly here um it's it's a design competition um run by the iaa which is an aerospace professional organization. and um and uh you can enter a team from any university or group basically anywhere in the world. it's mostly us university though.\n",
      "tensor([4.7251, 4.4594, 3.5760])\n"
     ]
    }
   ],
   "source": [
    "\n",
    "tokenizer = BertTokenizer.from_pretrained(\"bert-base-uncased\")\n",
    "\n",
    "candidate_1_data = test_dataset[1]\n",
    "dialogue_turns, labels = candidate_1_data\n",
    "\n",
    "print(\"Original Dialogue for Candidate 1:\")\n",
    "for turn_idx, input_ids in enumerate(dialogue_turns[\"input_ids\"]):\n",
    "    decoded_text = tokenizer.decode(input_ids, skip_special_tokens=True)\n",
    "    print(f\"Turn {turn_idx + 1}: {decoded_text}\")\n",
    "\n",
    "print(labels)"
   ]
  },
  {
   "cell_type": "code",
   "execution_count": 14,
   "metadata": {},
   "outputs": [
    {
     "name": "stdout",
     "output_type": "stream",
     "text": [
      "Predicted Scores for the New Dialogue:\n",
      "Overall Score: 5.14\n",
      "Recommendation Score: 5.13\n",
      "Structured Answers Score: 6.45\n"
     ]
    }
   ],
   "source": [
    "new_dialogue = [\n",
    "    \"Turn 1: so how you doing?\"\n",
    "    \"Turn 2: I hate you\"\n",
    "    \"Turn 3: i'm okay.\"\n",
    "    \"Turn 4: .\"\n",
    "    \"Turn 5: i understand i got to get home later too and i'm worried.\"\n",
    "    \"Turn 6: yeah we were half way here and it just turned on a switch lightening winds and everything.\",\n",
    "]\n",
    "\n",
    "tokenized_input = tokenize_dialogue(new_dialogue)\n",
    "predicted_scores = predict_scores(model, tokenized_input, device=device)\n",
    "formatted_scores = format_scores(predicted_scores)\n",
    "print(\"Predicted Scores for the New Dialogue:\")\n",
    "for label, score in formatted_scores.items():\n",
    "    print(f\"{label}: {score:.2f}\")"
   ]
  },
  {
   "cell_type": "code",
   "execution_count": 15,
   "metadata": {},
   "outputs": [],
   "source": [
    "import joblib"
   ]
  },
  {
   "cell_type": "code",
   "execution_count": 16,
   "metadata": {},
   "outputs": [
    {
     "name": "stderr",
     "output_type": "stream",
     "text": [
      "/home/hice1/wyue9/scratch/miniconda3/envs/nl2prot/lib/python3.9/site-packages/sklearn/base.py:376: InconsistentVersionWarning: Trying to unpickle estimator DecisionTreeRegressor from version 1.2.2 when using version 1.5.2. This might lead to breaking code or invalid results. Use at your own risk. For more info please refer to:\n",
      "https://scikit-learn.org/stable/model_persistence.html#security-maintainability-limitations\n",
      "  warnings.warn(\n",
      "/home/hice1/wyue9/scratch/miniconda3/envs/nl2prot/lib/python3.9/site-packages/sklearn/base.py:376: InconsistentVersionWarning: Trying to unpickle estimator RandomForestRegressor from version 1.2.2 when using version 1.5.2. This might lead to breaking code or invalid results. Use at your own risk. For more info please refer to:\n",
      "https://scikit-learn.org/stable/model_persistence.html#security-maintainability-limitations\n",
      "  warnings.warn(\n"
     ]
    },
    {
     "ename": "ValueError",
     "evalue": "node array from the pickle has an incompatible dtype:\n- expected: {'names': ['left_child', 'right_child', 'feature', 'threshold', 'impurity', 'n_node_samples', 'weighted_n_node_samples', 'missing_go_to_left'], 'formats': ['<i8', '<i8', '<i8', '<f8', '<f8', '<i8', '<f8', 'u1'], 'offsets': [0, 8, 16, 24, 32, 40, 48, 56], 'itemsize': 64}\n- got     : [('left_child', '<i8'), ('right_child', '<i8'), ('feature', '<i8'), ('threshold', '<f8'), ('impurity', '<f8'), ('n_node_samples', '<i8'), ('weighted_n_node_samples', '<f8')]",
     "output_type": "error",
     "traceback": [
      "\u001b[0;31m---------------------------------------------------------------------------\u001b[0m",
      "\u001b[0;31mValueError\u001b[0m                                Traceback (most recent call last)",
      "Cell \u001b[0;32mIn[16], line 1\u001b[0m\n\u001b[0;32m----> 1\u001b[0m model \u001b[39m=\u001b[39m joblib\u001b[39m.\u001b[39;49mload(\u001b[39m\"\u001b[39;49m\u001b[39mdata/y_overall_model.joblib\u001b[39;49m\u001b[39m\"\u001b[39;49m)\n\u001b[1;32m      2\u001b[0m prediction \u001b[39m=\u001b[39m model\u001b[39m.\u001b[39mpredict(\u001b[39m\"\u001b[39m\u001b[39mHow, are you, I am good.\u001b[39m\u001b[39m\"\u001b[39m)\n",
      "File \u001b[0;32m~/scratch/miniconda3/envs/nl2prot/lib/python3.9/site-packages/joblib/numpy_pickle.py:658\u001b[0m, in \u001b[0;36mload\u001b[0;34m(filename, mmap_mode)\u001b[0m\n\u001b[1;32m    652\u001b[0m             \u001b[39mif\u001b[39;00m \u001b[39misinstance\u001b[39m(fobj, \u001b[39mstr\u001b[39m):\n\u001b[1;32m    653\u001b[0m                 \u001b[39m# if the returned file object is a string, this means we\u001b[39;00m\n\u001b[1;32m    654\u001b[0m                 \u001b[39m# try to load a pickle file generated with an version of\u001b[39;00m\n\u001b[1;32m    655\u001b[0m                 \u001b[39m# Joblib so we load it with joblib compatibility function.\u001b[39;00m\n\u001b[1;32m    656\u001b[0m                 \u001b[39mreturn\u001b[39;00m load_compatibility(fobj)\n\u001b[0;32m--> 658\u001b[0m             obj \u001b[39m=\u001b[39m _unpickle(fobj, filename, mmap_mode)\n\u001b[1;32m    659\u001b[0m \u001b[39mreturn\u001b[39;00m obj\n",
      "File \u001b[0;32m~/scratch/miniconda3/envs/nl2prot/lib/python3.9/site-packages/joblib/numpy_pickle.py:577\u001b[0m, in \u001b[0;36m_unpickle\u001b[0;34m(fobj, filename, mmap_mode)\u001b[0m\n\u001b[1;32m    575\u001b[0m obj \u001b[39m=\u001b[39m \u001b[39mNone\u001b[39;00m\n\u001b[1;32m    576\u001b[0m \u001b[39mtry\u001b[39;00m:\n\u001b[0;32m--> 577\u001b[0m     obj \u001b[39m=\u001b[39m unpickler\u001b[39m.\u001b[39;49mload()\n\u001b[1;32m    578\u001b[0m     \u001b[39mif\u001b[39;00m unpickler\u001b[39m.\u001b[39mcompat_mode:\n\u001b[1;32m    579\u001b[0m         warnings\u001b[39m.\u001b[39mwarn(\u001b[39m\"\u001b[39m\u001b[39mThe file \u001b[39m\u001b[39m'\u001b[39m\u001b[39m%s\u001b[39;00m\u001b[39m'\u001b[39m\u001b[39m has been generated with a \u001b[39m\u001b[39m\"\u001b[39m\n\u001b[1;32m    580\u001b[0m                       \u001b[39m\"\u001b[39m\u001b[39mjoblib version less than 0.10. \u001b[39m\u001b[39m\"\u001b[39m\n\u001b[1;32m    581\u001b[0m                       \u001b[39m\"\u001b[39m\u001b[39mPlease regenerate this pickle file.\u001b[39m\u001b[39m\"\u001b[39m\n\u001b[1;32m    582\u001b[0m                       \u001b[39m%\u001b[39m filename,\n\u001b[1;32m    583\u001b[0m                       \u001b[39mDeprecationWarning\u001b[39;00m, stacklevel\u001b[39m=\u001b[39m\u001b[39m3\u001b[39m)\n",
      "File \u001b[0;32m~/scratch/miniconda3/envs/nl2prot/lib/python3.9/pickle.py:1212\u001b[0m, in \u001b[0;36m_Unpickler.load\u001b[0;34m(self)\u001b[0m\n\u001b[1;32m   1210\u001b[0m             \u001b[39mraise\u001b[39;00m \u001b[39mEOFError\u001b[39;00m\n\u001b[1;32m   1211\u001b[0m         \u001b[39massert\u001b[39;00m \u001b[39misinstance\u001b[39m(key, bytes_types)\n\u001b[0;32m-> 1212\u001b[0m         dispatch[key[\u001b[39m0\u001b[39;49m]](\u001b[39mself\u001b[39;49m)\n\u001b[1;32m   1213\u001b[0m \u001b[39mexcept\u001b[39;00m _Stop \u001b[39mas\u001b[39;00m stopinst:\n\u001b[1;32m   1214\u001b[0m     \u001b[39mreturn\u001b[39;00m stopinst\u001b[39m.\u001b[39mvalue\n",
      "File \u001b[0;32m~/scratch/miniconda3/envs/nl2prot/lib/python3.9/site-packages/joblib/numpy_pickle.py:402\u001b[0m, in \u001b[0;36mNumpyUnpickler.load_build\u001b[0;34m(self)\u001b[0m\n\u001b[1;32m    394\u001b[0m \u001b[39mdef\u001b[39;00m \u001b[39mload_build\u001b[39m(\u001b[39mself\u001b[39m):\n\u001b[1;32m    395\u001b[0m \u001b[39m    \u001b[39m\u001b[39m\"\"\"Called to set the state of a newly created object.\u001b[39;00m\n\u001b[1;32m    396\u001b[0m \n\u001b[1;32m    397\u001b[0m \u001b[39m    We capture it to replace our place-holder objects, NDArrayWrapper or\u001b[39;00m\n\u001b[0;32m   (...)\u001b[0m\n\u001b[1;32m    400\u001b[0m \u001b[39m    NDArrayWrapper is used for backward compatibility with joblib <= 0.9.\u001b[39;00m\n\u001b[1;32m    401\u001b[0m \u001b[39m    \"\"\"\u001b[39;00m\n\u001b[0;32m--> 402\u001b[0m     Unpickler\u001b[39m.\u001b[39;49mload_build(\u001b[39mself\u001b[39;49m)\n\u001b[1;32m    404\u001b[0m     \u001b[39m# For backward compatibility, we support NDArrayWrapper objects.\u001b[39;00m\n\u001b[1;32m    405\u001b[0m     \u001b[39mif\u001b[39;00m \u001b[39misinstance\u001b[39m(\u001b[39mself\u001b[39m\u001b[39m.\u001b[39mstack[\u001b[39m-\u001b[39m\u001b[39m1\u001b[39m], (NDArrayWrapper, NumpyArrayWrapper)):\n",
      "File \u001b[0;32m~/scratch/miniconda3/envs/nl2prot/lib/python3.9/pickle.py:1717\u001b[0m, in \u001b[0;36m_Unpickler.load_build\u001b[0;34m(self)\u001b[0m\n\u001b[1;32m   1715\u001b[0m setstate \u001b[39m=\u001b[39m \u001b[39mgetattr\u001b[39m(inst, \u001b[39m\"\u001b[39m\u001b[39m__setstate__\u001b[39m\u001b[39m\"\u001b[39m, \u001b[39mNone\u001b[39;00m)\n\u001b[1;32m   1716\u001b[0m \u001b[39mif\u001b[39;00m setstate \u001b[39mis\u001b[39;00m \u001b[39mnot\u001b[39;00m \u001b[39mNone\u001b[39;00m:\n\u001b[0;32m-> 1717\u001b[0m     setstate(state)\n\u001b[1;32m   1718\u001b[0m     \u001b[39mreturn\u001b[39;00m\n\u001b[1;32m   1719\u001b[0m slotstate \u001b[39m=\u001b[39m \u001b[39mNone\u001b[39;00m\n",
      "File \u001b[0;32m_tree.pyx:867\u001b[0m, in \u001b[0;36msklearn.tree._tree.Tree.__setstate__\u001b[0;34m()\u001b[0m\n",
      "File \u001b[0;32m_tree.pyx:1573\u001b[0m, in \u001b[0;36msklearn.tree._tree._check_node_ndarray\u001b[0;34m()\u001b[0m\n",
      "\u001b[0;31mValueError\u001b[0m: node array from the pickle has an incompatible dtype:\n- expected: {'names': ['left_child', 'right_child', 'feature', 'threshold', 'impurity', 'n_node_samples', 'weighted_n_node_samples', 'missing_go_to_left'], 'formats': ['<i8', '<i8', '<i8', '<f8', '<f8', '<i8', '<f8', 'u1'], 'offsets': [0, 8, 16, 24, 32, 40, 48, 56], 'itemsize': 64}\n- got     : [('left_child', '<i8'), ('right_child', '<i8'), ('feature', '<i8'), ('threshold', '<f8'), ('impurity', '<f8'), ('n_node_samples', '<i8'), ('weighted_n_node_samples', '<f8')]"
     ]
    }
   ],
   "source": [
    "model = joblib.load(\"data/y_overall_model.joblib\")\n",
    "prediction = model.predict(\"How, are you, I am good.\")"
   ]
  },
  {
   "cell_type": "code",
   "execution_count": null,
   "metadata": {},
   "outputs": [],
   "source": []
  }
 ],
 "metadata": {
  "kernelspec": {
   "display_name": "desp2protein",
   "language": "python",
   "name": "python3"
  },
  "language_info": {
   "codemirror_mode": {
    "name": "ipython",
    "version": 3
   },
   "file_extension": ".py",
   "mimetype": "text/x-python",
   "name": "python",
   "nbconvert_exporter": "python",
   "pygments_lexer": "ipython3",
   "version": "3.9.20"
  }
 },
 "nbformat": 4,
 "nbformat_minor": 2
}
