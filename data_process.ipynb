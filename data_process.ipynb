{
 "cells": [
  {
   "cell_type": "code",
   "execution_count": 30,
   "metadata": {},
   "outputs": [],
   "source": [
    "import re\n",
    "import json\n",
    "import pandas as pd\n",
    "import matplotlib.pyplot as plt\n"
   ]
  },
  {
   "cell_type": "code",
   "execution_count": 7,
   "metadata": {},
   "outputs": [
    {
     "data": {
      "text/html": [
       "<div>\n",
       "<style scoped>\n",
       "    .dataframe tbody tr th:only-of-type {\n",
       "        vertical-align: middle;\n",
       "    }\n",
       "\n",
       "    .dataframe tbody tr th {\n",
       "        vertical-align: top;\n",
       "    }\n",
       "\n",
       "    .dataframe thead th {\n",
       "        text-align: right;\n",
       "    }\n",
       "</style>\n",
       "<table border=\"1\" class=\"dataframe\">\n",
       "  <thead>\n",
       "    <tr style=\"text-align: right;\">\n",
       "      <th></th>\n",
       "      <th>Participant</th>\n",
       "      <th>Overall</th>\n",
       "      <th>RecommendHiring</th>\n",
       "      <th>StructuredAnswers</th>\n",
       "    </tr>\n",
       "  </thead>\n",
       "  <tbody>\n",
       "    <tr>\n",
       "      <th>0</th>\n",
       "      <td>p1</td>\n",
       "      <td>5.297316</td>\n",
       "      <td>5.106224</td>\n",
       "      <td>4.891580</td>\n",
       "    </tr>\n",
       "    <tr>\n",
       "      <th>1</th>\n",
       "      <td>p3</td>\n",
       "      <td>4.414892</td>\n",
       "      <td>4.433070</td>\n",
       "      <td>3.912199</td>\n",
       "    </tr>\n",
       "    <tr>\n",
       "      <th>2</th>\n",
       "      <td>p4</td>\n",
       "      <td>4.494494</td>\n",
       "      <td>4.530129</td>\n",
       "      <td>4.688379</td>\n",
       "    </tr>\n",
       "    <tr>\n",
       "      <th>3</th>\n",
       "      <td>p5</td>\n",
       "      <td>5.457670</td>\n",
       "      <td>5.571558</td>\n",
       "      <td>5.582514</td>\n",
       "    </tr>\n",
       "    <tr>\n",
       "      <th>4</th>\n",
       "      <td>p6</td>\n",
       "      <td>5.106512</td>\n",
       "      <td>4.831482</td>\n",
       "      <td>4.826245</td>\n",
       "    </tr>\n",
       "    <tr>\n",
       "      <th>...</th>\n",
       "      <td>...</td>\n",
       "      <td>...</td>\n",
       "      <td>...</td>\n",
       "      <td>...</td>\n",
       "    </tr>\n",
       "    <tr>\n",
       "      <th>133</th>\n",
       "      <td>pp83</td>\n",
       "      <td>6.045748</td>\n",
       "      <td>5.806617</td>\n",
       "      <td>4.878478</td>\n",
       "    </tr>\n",
       "    <tr>\n",
       "      <th>134</th>\n",
       "      <td>pp84</td>\n",
       "      <td>5.710073</td>\n",
       "      <td>6.020304</td>\n",
       "      <td>4.890114</td>\n",
       "    </tr>\n",
       "    <tr>\n",
       "      <th>135</th>\n",
       "      <td>pp85</td>\n",
       "      <td>5.626074</td>\n",
       "      <td>5.766592</td>\n",
       "      <td>4.918227</td>\n",
       "    </tr>\n",
       "    <tr>\n",
       "      <th>136</th>\n",
       "      <td>pp86</td>\n",
       "      <td>4.853881</td>\n",
       "      <td>4.700179</td>\n",
       "      <td>4.240302</td>\n",
       "    </tr>\n",
       "    <tr>\n",
       "      <th>137</th>\n",
       "      <td>pp89</td>\n",
       "      <td>4.960084</td>\n",
       "      <td>4.370067</td>\n",
       "      <td>4.258525</td>\n",
       "    </tr>\n",
       "  </tbody>\n",
       "</table>\n",
       "<p>138 rows × 4 columns</p>\n",
       "</div>"
      ],
      "text/plain": [
       "    Participant   Overall  RecommendHiring  StructuredAnswers\n",
       "0            p1  5.297316         5.106224           4.891580\n",
       "1            p3  4.414892         4.433070           3.912199\n",
       "2            p4  4.494494         4.530129           4.688379\n",
       "3            p5  5.457670         5.571558           5.582514\n",
       "4            p6  5.106512         4.831482           4.826245\n",
       "..          ...       ...              ...                ...\n",
       "133        pp83  6.045748         5.806617           4.878478\n",
       "134        pp84  5.710073         6.020304           4.890114\n",
       "135        pp85  5.626074         5.766592           4.918227\n",
       "136        pp86  4.853881         4.700179           4.240302\n",
       "137        pp89  4.960084         4.370067           4.258525\n",
       "\n",
       "[138 rows x 4 columns]"
      ]
     },
     "execution_count": 7,
     "metadata": {},
     "output_type": "execute_result"
    }
   ],
   "source": [
    "input_file = \"Labels/turker_scores_full_interview.csv\"\n",
    "data = pd.read_csv(input_file)\n",
    "filtered_data = data[data['Worker'] == 'AGGR']\n",
    "\n",
    "column_extract = ['Participant', 'Overall', 'RecommendHiring', 'StructuredAnswers']\n",
    "processed_data = filtered_data[column_extract]\n",
    "\n",
    "processed_data.to_csv('Labels/processed_data.csv', index=False)\n",
    "new_data = pd.read_csv(\"Labels/processed_data.csv\")\n",
    "new_data\n"
   ]
  },
  {
   "cell_type": "code",
   "execution_count": 8,
   "metadata": {},
   "outputs": [],
   "source": [
    "script = pd.read_csv(\"Labels/interview_transcripts_by_turkers.csv\")\n",
    "script = \"Labels/interview_transcripts_by_turkers.csv\"\n"
   ]
  },
  {
   "cell_type": "code",
   "execution_count": 37,
   "metadata": {},
   "outputs": [],
   "source": [
    "data_dict = {}\n",
    "with open(script, 'r') as file:\n",
    "    for line in file:\n",
    "        parts = line.split(',', 1)\n",
    "        if len(parts) == 2:\n",
    "            participant_id = parts[0].strip()\n",
    "            transcript = parts[1].strip()\n",
    "            data_dict[participant_id] = transcript\n",
    "\n"
   ]
  },
  {
   "cell_type": "code",
   "execution_count": 38,
   "metadata": {},
   "outputs": [],
   "source": [
    "df = pd.read_csv(\"Labels/processed_data.csv\")\n",
    "combined_data = {}\n",
    "for participant_id, transcript in data_dict.items():\n",
    "    matching_row = df[df['Participant'] == participant_id]\n",
    "    \n",
    "    if not matching_row.empty:\n",
    "        overall = matching_row.iloc[0]['Overall']\n",
    "        recommend_hiring = matching_row.iloc[0]['RecommendHiring']\n",
    "        structured_answers = matching_row.iloc[0]['StructuredAnswers']\n",
    "        \n",
    "        combined_data[participant_id] = {\n",
    "            \"Transcript\": transcript,\n",
    "            \"Overall\": overall,\n",
    "            \"RecommendHiring\": recommend_hiring,\n",
    "            \"StructuredAnswers\": structured_answers\n",
    "        }\n",
    "output_file = 'Labels/combined_data.json'\n",
    "with open(output_file, 'w') as json_file:\n",
    "    json.dump(combined_data, json_file, indent=4)"
   ]
  },
  {
   "cell_type": "code",
   "execution_count": 11,
   "metadata": {},
   "outputs": [
    {
     "data": {
      "text/html": [
       "<div>\n",
       "<style scoped>\n",
       "    .dataframe tbody tr th:only-of-type {\n",
       "        vertical-align: middle;\n",
       "    }\n",
       "\n",
       "    .dataframe tbody tr th {\n",
       "        vertical-align: top;\n",
       "    }\n",
       "\n",
       "    .dataframe thead th {\n",
       "        text-align: right;\n",
       "    }\n",
       "</style>\n",
       "<table border=\"1\" class=\"dataframe\">\n",
       "  <thead>\n",
       "    <tr style=\"text-align: right;\">\n",
       "      <th></th>\n",
       "      <th>Participant</th>\n",
       "      <th>Overall</th>\n",
       "      <th>RecommendHiring</th>\n",
       "      <th>StructuredAnswers</th>\n",
       "    </tr>\n",
       "  </thead>\n",
       "  <tbody>\n",
       "    <tr>\n",
       "      <th>0</th>\n",
       "      <td>p1</td>\n",
       "      <td>5.297316</td>\n",
       "      <td>5.106224</td>\n",
       "      <td>4.891580</td>\n",
       "    </tr>\n",
       "    <tr>\n",
       "      <th>1</th>\n",
       "      <td>p3</td>\n",
       "      <td>4.414892</td>\n",
       "      <td>4.433070</td>\n",
       "      <td>3.912199</td>\n",
       "    </tr>\n",
       "    <tr>\n",
       "      <th>2</th>\n",
       "      <td>p4</td>\n",
       "      <td>4.494494</td>\n",
       "      <td>4.530129</td>\n",
       "      <td>4.688379</td>\n",
       "    </tr>\n",
       "    <tr>\n",
       "      <th>3</th>\n",
       "      <td>p5</td>\n",
       "      <td>5.457670</td>\n",
       "      <td>5.571558</td>\n",
       "      <td>5.582514</td>\n",
       "    </tr>\n",
       "    <tr>\n",
       "      <th>4</th>\n",
       "      <td>p6</td>\n",
       "      <td>5.106512</td>\n",
       "      <td>4.831482</td>\n",
       "      <td>4.826245</td>\n",
       "    </tr>\n",
       "    <tr>\n",
       "      <th>...</th>\n",
       "      <td>...</td>\n",
       "      <td>...</td>\n",
       "      <td>...</td>\n",
       "      <td>...</td>\n",
       "    </tr>\n",
       "    <tr>\n",
       "      <th>133</th>\n",
       "      <td>pp83</td>\n",
       "      <td>6.045748</td>\n",
       "      <td>5.806617</td>\n",
       "      <td>4.878478</td>\n",
       "    </tr>\n",
       "    <tr>\n",
       "      <th>134</th>\n",
       "      <td>pp84</td>\n",
       "      <td>5.710073</td>\n",
       "      <td>6.020304</td>\n",
       "      <td>4.890114</td>\n",
       "    </tr>\n",
       "    <tr>\n",
       "      <th>135</th>\n",
       "      <td>pp85</td>\n",
       "      <td>5.626074</td>\n",
       "      <td>5.766592</td>\n",
       "      <td>4.918227</td>\n",
       "    </tr>\n",
       "    <tr>\n",
       "      <th>136</th>\n",
       "      <td>pp86</td>\n",
       "      <td>4.853881</td>\n",
       "      <td>4.700179</td>\n",
       "      <td>4.240302</td>\n",
       "    </tr>\n",
       "    <tr>\n",
       "      <th>137</th>\n",
       "      <td>pp89</td>\n",
       "      <td>4.960084</td>\n",
       "      <td>4.370067</td>\n",
       "      <td>4.258525</td>\n",
       "    </tr>\n",
       "  </tbody>\n",
       "</table>\n",
       "<p>138 rows × 4 columns</p>\n",
       "</div>"
      ],
      "text/plain": [
       "    Participant   Overall  RecommendHiring  StructuredAnswers\n",
       "0            p1  5.297316         5.106224           4.891580\n",
       "1            p3  4.414892         4.433070           3.912199\n",
       "2            p4  4.494494         4.530129           4.688379\n",
       "3            p5  5.457670         5.571558           5.582514\n",
       "4            p6  5.106512         4.831482           4.826245\n",
       "..          ...       ...              ...                ...\n",
       "133        pp83  6.045748         5.806617           4.878478\n",
       "134        pp84  5.710073         6.020304           4.890114\n",
       "135        pp85  5.626074         5.766592           4.918227\n",
       "136        pp86  4.853881         4.700179           4.240302\n",
       "137        pp89  4.960084         4.370067           4.258525\n",
       "\n",
       "[138 rows x 4 columns]"
      ]
     },
     "execution_count": 11,
     "metadata": {},
     "output_type": "execute_result"
    }
   ],
   "source": [
    "# with open (\"/Users/yuewentao/Desktop/Courses/CS6220/AI-Interview/Labels/processed_data.csv\", 'r') as file:\n",
    "#     data = json.load(file)\n",
    "# print(data)\n",
    "\n",
    "new_data"
   ]
  },
  {
   "cell_type": "code",
   "execution_count": 23,
   "metadata": {},
   "outputs": [
    {
     "data": {
      "image/png": "[encoded data removed]",
      "text/plain": [
       "<Figure size 640x480 with 1 Axes>"
      ]
     },
     "metadata": {},
     "output_type": "display_data"
    }
   ],
   "source": [
    "overall = new_data['Overall']\n",
    "#plt.hist(overall, bins=20, edgecolor = 'black')\n",
    "n, bins, patches = plt.hist(overall, bins=30, facecolor='#2ab0ff', edgecolor='#e0e0e0', linewidth=0.5, alpha=0.7)\n",
    "plt.xlabel(\"Overall Scores\")\n",
    "plt.ylabel(\"Number of People\")\n",
    "\n",
    "n = n.astype('int')\n",
    "for i in range(len(patches)):\n",
    "    patches[i].set_facecolor(plt.cm.viridis(n[i]/max(n)))\n",
    "patches[17].set_fc('red')\n",
    "patches[18].set_fc('red')\n",
    "patches[17].set_alpha(1)\n",
    "# plt.annotate('Important Bar!', xy=(0.57, 175), xytext=(2, 130), fontsize=15, arrowprops={'width':0.4,'headwidth':7,'color':'#333333'})\n"
   ]
  },
  {
   "cell_type": "code",
   "execution_count": 27,
   "metadata": {},
   "outputs": [
    {
     "data": {
      "image/png": "[encoded data removed]",
      "text/plain": [
       "<Figure size 640x480 with 1 Axes>"
      ]
     },
     "metadata": {},
     "output_type": "display_data"
    }
   ],
   "source": [
    "recommend = new_data['RecommendHiring']\n",
    "#plt.hist(overall, bins=20, edgecolor = 'black')\n",
    "n, bins, patches = plt.hist(recommend, bins=30, facecolor='#2ab0ff', edgecolor='#e0e0e0', linewidth=0.5, alpha=0.7)\n",
    "plt.xlabel(\"RecommendHiring Scores\")\n",
    "plt.ylabel(\"Number of People\")\n",
    "\n",
    "n = n.astype('int')\n",
    "for i in range(len(patches)):\n",
    "    patches[i].set_facecolor(plt.cm.viridis(n[i]/max(n)))\n",
    "patches[15].set_fc('red')\n"
   ]
  },
  {
   "cell_type": "code",
   "execution_count": 29,
   "metadata": {},
   "outputs": [
    {
     "data": {
      "image/png": "[encoded data removed]",
      "text/plain": [
       "<Figure size 640x480 with 1 Axes>"
      ]
     },
     "metadata": {},
     "output_type": "display_data"
    }
   ],
   "source": [
    "stucturedanswer = new_data['StructuredAnswers']\n",
    "#plt.hist(overall, bins=20, edgecolor = 'black')\n",
    "n, bins, patches = plt.hist(stucturedanswer, bins=30, facecolor='#2ab0ff', edgecolor='#e0e0e0', linewidth=0.5, alpha=0.7)\n",
    "plt.xlabel(\"Sturctured Answer Scores\")\n",
    "plt.ylabel(\"Number of People\")\n",
    "\n",
    "n = n.astype('int')\n",
    "for i in range(len(patches)):\n",
    "    patches[i].set_facecolor(plt.cm.viridis(n[i]/max(n)))\n",
    "patches[17].set_fc('red')"
   ]
  },
  {
   "cell_type": "code",
   "execution_count": 35,
   "metadata": {},
   "outputs": [],
   "source": [
    "transcripts_file = \"/Users/yuewentao/Desktop/Courses/CS6220/AI-Interview/Labels/interview_transcripts_by_turkers.csv\"\n"
   ]
  },
  {
   "cell_type": "code",
   "execution_count": 36,
   "metadata": {},
   "outputs": [
    {
     "name": "stdout",
     "output_type": "stream",
     "text": [
      "613\n"
     ]
    }
   ],
   "source": [
    "def count_words(string, exclude_keywords = None):\n",
    "    if exclude_keywords == None:\n",
    "        exclude_keywords = []\n",
    "    clean_string = re.sub(r'[^\\w\\s|]', '', string)\n",
    "    words = clean_string.split()\n",
    "    filtered_words = [word for word in words if word.lower() not in map(str.lower, exclude_keywords)]\n",
    "    return len(filtered_words)\n",
    "\n",
    "input_words = \"p1,Interviewer: So how are you doing?|Interviewee: Im pretty good.|Interviewer: Ok well  so please tell me about yourself.|Interviewee: ok  uhm  so have you looked at my resume or should I  alright  so I guess ah  I am course 6-7 here at M.I.T  ah which is computational biology  so its a mix of computers  science and biology and actually thats where my interest lie in applying like algorithmic kinda software engineering too datasets dealing with genomics and biology.  Uhm some of that activities that you do out side of school  include Camp Kesem which is a summer camp that we run for completely free for kids whose parents have cancer  as well as ah amphibious achievement  which is ah a high school tutoring program for inner city kids in Boston  |Interviewer:  mhhmm|Interviewee: So ah  my interest kinda laid both in a little bit of the health care  I imagined I was going be a Doctor growing up  and then it came down to the tee and Im like  well I can do engineering and still apply and do the same things and help a lot more people.|Interviewer: So please tell me about a time that you demonstrated leadership.|Interviewee: Ok  uhm  one of the things we have to do for Camp Kesem is orgin or fundraise all the money to ah  to  run the camp which is over $50 000.00.  Ah so one of the things that I individually spearhead every year is called the Camp Kesem I say you did auction  where actually my fraternity and I go out and solicit uhm  donations in the form of gift cards  ah to raise money for a date auction where we actually sell dates  and then we use this money obviously we donate it to Camp Kesem. I spearhead the entire event and I kinda orginize everyone into committees and groups  and I send the people out and make sure everything goes according to plan.  |Interviewer: Tell me about a time when your working on a team and faced with a challenge  how did you solve that problem?|Interviewee:  Ahh  I guess the easiest team project I just I just had  was  last semester  uhm I worked on this six double o five project which is algorithm or software architecture.|Interviewer:  uh hun.|Interviewee: and we were put in a group of 3 people  and it was standard you know we signed the contract everyone is supposed to work equally  but it ended up being by the end of it  that someone didn't like put there fair share of work in...Ah essentially we talked to him we didn't really get it out  we actually had to go to some of the T.A's we got a little bit ah  and that kinda like pushed him forward  so I mean I guess what I am showing is like  Im not affraid to go to the right method or like authority like where in cases this situation presents itself.  |Interviewer: Oh yes.  Alright tell me about one of your weaknesses and how you plan to overcome it.|Interviewee:  Uhmmm.  I would say for this job  ah Im a little technically underprepared.  Ah I've yet  I have only taken the introductory software classes so far and as well as introductory bio classes  but I think just from sheer interest and sheer effort i will be able to kinda overcome these obstacles.|Interviewer:  Now why do you think we should hire you?|Interviewee:  Ah  Im very interested  in the subject of computation biology  and I think that I will be able to contribute a lot to this field  uhm I've had a good amount of experience and I think I will be a solid intern.|Interviewer: Well thank you.\"\n",
    "exclude_keywords = [\"Interviewee\", \"Interviewer\", \"p1\"]\n",
    "print(count_words(input_words, exclude_keywords))\n",
    "\n"
   ]
  },
  {
   "cell_type": "code",
   "execution_count": null,
   "metadata": {},
   "outputs": [],
   "source": []
  }
 ],
 "metadata": {
  "kernelspec": {
   "display_name": "cv_proj1",
   "language": "python",
   "name": "python3"
  },
  "language_info": {
   "codemirror_mode": {
    "name": "ipython",
    "version": 3
   },
   "file_extension": ".py",
   "mimetype": "text/x-python",
   "name": "python",
   "nbconvert_exporter": "python",
   "pygments_lexer": "ipython3",
   "version": "3.12.5"
  }
 },
 "nbformat": 4,
 "nbformat_minor": 2
}
