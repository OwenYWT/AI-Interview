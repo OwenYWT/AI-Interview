{
 "cells": [
  {
   "cell_type": "code",
   "execution_count": 23,
   "id": "ae5f97a279d16d",
   "metadata": {
    "ExecuteTime": {
     "end_time": "2024-12-01T00:07:31.545718Z",
     "start_time": "2024-12-01T00:07:20.151730Z"
    },
    "collapsed": false,
    "jupyter": {
     "outputs_hidden": false
    }
   },
   "outputs": [],
   "source": [
    "import torch\n",
    "import json\n",
    "import yaml\n",
    "from datasets import load_dataset\n",
    "from transformers import (\n",
    "\tDistilBertTokenizerFast,\n",
    "\tDistilBertForSequenceClassification,\n",
    "\tTrainingArguments,\n",
    "\tAutoConfig,\n",
    ")\n",
    "from dataset import HierarchicalInterviewDataset\n",
    "import pandas as pd\n",
    "\n",
    "from model import HierarchicalInterviewScorer\n",
    "from trainer import Trainer\n",
    "from torch.utils.data import Dataset, DataLoader\n",
    "from model_utils import tokenize_dialogue, predict_scores, format_scores"
   ]
  },
  {
   "cell_type": "code",
   "execution_count": 17,
   "id": "fe21b80c",
   "metadata": {},
   "outputs": [
    {
     "name": "stdout",
     "output_type": "stream",
     "text": [
      "Is GPU : False\n",
      "device: cpu\n"
     ]
    }
   ],
   "source": [
    "import torch\n",
    "\n",
    "print(\"Is GPU :\", torch.cuda.is_available())\n",
    "device = torch.device(\"cuda\" if torch.cuda.is_available() else \"cpu\")\n",
    "tensor = torch.rand(3, 3).to(device) \n",
    "print(\"device:\", tensor.device)\n"
   ]
  },
  {
   "cell_type": "code",
   "execution_count": 18,
   "id": "ccb8fd0b68288898",
   "metadata": {
    "ExecuteTime": {
     "end_time": "2024-12-01T00:07:34.139816Z",
     "start_time": "2024-12-01T00:07:34.117141Z"
    },
    "collapsed": false,
    "jupyter": {
     "outputs_hidden": false
    }
   },
   "outputs": [],
   "source": [
    "config_path = \"config.yaml\""
   ]
  },
  {
   "cell_type": "code",
   "execution_count": 19,
   "id": "56e4814721e2f716",
   "metadata": {
    "ExecuteTime": {
     "end_time": "2024-12-01T00:07:36.089313Z",
     "start_time": "2024-12-01T00:07:36.080300Z"
    },
    "collapsed": false,
    "jupyter": {
     "outputs_hidden": false
    }
   },
   "outputs": [],
   "source": [
    "with open(config_path, \"r\") as file:\n",
    "\tconfig = yaml.safe_load(file)"
   ]
  },
  {
   "cell_type": "code",
   "execution_count": 85,
   "id": "7e1ce4bd3632b3b",
   "metadata": {
    "ExecuteTime": {
     "end_time": "2024-12-01T00:07:39.658877Z",
     "start_time": "2024-12-01T00:07:38.563658Z"
    },
    "collapsed": false,
    "jupyter": {
     "outputs_hidden": false
    }
   },
   "outputs": [
    {
     "name": "stdout",
     "output_type": "stream",
     "text": [
      "Data and tokenizer successfully loaded!\n"
     ]
    }
   ],
   "source": [
    "import json\n",
    "import torch\n",
    "from torch.utils.data import DataLoader\n",
    "from transformers import DistilBertTokenizerFast\n",
    "from dataset import HierarchicalInterviewDataset\n",
    "model_id = \"distilbert-base-uncased\"\n",
    "tokenizer = DistilBertTokenizerFast.from_pretrained(model_id)\n",
    "device = torch.device(\"cuda\" if torch.cuda.is_available() else \"cpu\")\n",
    "with open(\"data/train_data.json\", \"r\") as f:\n",
    "    train_dataset = json.load(f)\n",
    "\n",
    "with open(\"data/val_data.json\", \"r\") as f:\n",
    "    val_dataset = json.load(f)\n",
    "    \n",
    "with open(\"data/data.json\", \"r\") as f:\n",
    "\ttest_dataset = json.load(f)\n",
    "     \n",
    "\n",
    "train_dataset = HierarchicalInterviewDataset(\"data/train_data.json\")\n",
    "val_dataset = HierarchicalInterviewDataset(\"data/val_data.json\")\n",
    "train_loader = DataLoader(train_dataset, batch_size=8, shuffle=True)\n",
    "val_loader = DataLoader(val_dataset, batch_size=8, shuffle=False)\n",
    "print(\"Data and tokenizer successfully loaded!\")\n"
   ]
  },
  {
   "cell_type": "code",
   "execution_count": 21,
   "id": "f409231df09a62b0",
   "metadata": {
    "ExecuteTime": {
     "end_time": "2024-11-27T08:48:58.421869Z",
     "start_time": "2024-11-27T08:48:58.199943Z"
    },
    "collapsed": false,
    "jupyter": {
     "outputs_hidden": false
    }
   },
   "outputs": [],
   "source": [
    "import torch\n",
    "device = torch.device(\"cuda\" if torch.cuda.is_available() else \"cpu\")\n",
    "model = HierarchicalInterviewScorer().to(device)\n",
    "optimizer = torch.optim.AdamW(model.parameters(), lr=config[\"train\"][\"learning_rate\"])\n",
    "\n",
    "trainer = Trainer(\n",
    "    model=model,\n",
    "    train_loader=train_loader,\n",
    "    val_loader=val_loader,\n",
    "    optimizer=optimizer,\n",
    "    device=device,\n",
    "    max_epochs=config[\"train\"][\"max_epochs\"]\n",
    ")\n"
   ]
  },
  {
   "cell_type": "code",
   "execution_count": 22,
   "id": "4ae640a178c454d7",
   "metadata": {
    "ExecuteTime": {
     "end_time": "2024-11-27T12:05:11.358250Z",
     "start_time": "2024-11-27T08:48:59.853027Z"
    },
    "collapsed": false,
    "jupyter": {
     "outputs_hidden": false
    }
   },
   "outputs": [
    {
     "name": "stderr",
     "output_type": "stream",
     "text": [
      "Epoch 1/10: 100%|██████████| 14/14 [03:30<00:00, 15.01s/it]\n"
     ]
    },
    {
     "name": "stdout",
     "output_type": "stream",
     "text": [
      "Epoch 1 | Train Loss: 8.7861\n",
      "[{'Overall Score': 3.9665215015411377, 'Recommendation Score': 3.734132766723633, 'Structured Answers Score': 3.858552932739258, 'Feedback': 'Needs improvement in overall score as it was scored lower than expected. | Needs improvement in recommendation score as it was scored lower than expected. | Needs improvement in structured answers score as it was scored lower than expected.'}, {'Overall Score': 3.969306707382202, 'Recommendation Score': 3.7338943481445312, 'Structured Answers Score': 3.8586461544036865, 'Feedback': 'Needs improvement in overall score as it was scored lower than expected. | Needs improvement in recommendation score as it was scored lower than expected. | Needs improvement in structured answers score as it was scored lower than expected.'}, {'Overall Score': 3.975928783416748, 'Recommendation Score': 3.7449028491973877, 'Structured Answers Score': 3.8343505859375, 'Feedback': 'Needs improvement in overall score as it was scored lower than expected. | Needs improvement in recommendation score as it was scored lower than expected. | Needs improvement in structured answers score as it was scored lower than expected.'}, {'Overall Score': 3.966400146484375, 'Recommendation Score': 3.739995241165161, 'Structured Answers Score': 3.847322463989258, 'Feedback': 'Needs improvement in overall score as it was scored lower than expected. | Needs improvement in recommendation score as it was scored lower than expected. | Needs improvement in structured answers score as it was scored lower than expected.'}, {'Overall Score': 3.964787006378174, 'Recommendation Score': 3.7514214515686035, 'Structured Answers Score': 3.843611717224121, 'Feedback': 'Needs improvement in overall score as it was scored lower than expected. | Needs improvement in recommendation score as it was scored lower than expected. | Needs improvement in structured answers score as it was scored lower than expected.'}, {'Overall Score': 3.971247911453247, 'Recommendation Score': 3.7497568130493164, 'Structured Answers Score': 3.831714630126953, 'Feedback': 'Acceptable performance in overall score. | Acceptable performance in recommendation score. | Acceptable performance in structured answers score.'}, {'Overall Score': 3.984251022338867, 'Recommendation Score': 3.727719783782959, 'Structured Answers Score': 3.8430542945861816, 'Feedback': 'Needs improvement in overall score as it was scored lower than expected. | Needs improvement in recommendation score as it was scored lower than expected. | Needs improvement in structured answers score as it was scored lower than expected.'}, {'Overall Score': 3.97223162651062, 'Recommendation Score': 3.7255475521087646, 'Structured Answers Score': 3.855332851409912, 'Feedback': 'Needs improvement in overall score as it was scored lower than expected. | Needs improvement in recommendation score as it was scored lower than expected. | Needs improvement in structured answers score as it was scored lower than expected.'}]\n",
      "[{'Overall Score': 3.970458984375, 'Recommendation Score': 3.7275235652923584, 'Structured Answers Score': 3.8582804203033447, 'Feedback': 'Needs improvement in overall score as it was scored lower than expected. | Needs improvement in recommendation score as it was scored lower than expected. | Needs improvement in structured answers score as it was scored lower than expected.'}, {'Overall Score': 3.9736742973327637, 'Recommendation Score': 3.729508638381958, 'Structured Answers Score': 3.8566486835479736, 'Feedback': 'Acceptable performance in overall score. | Acceptable performance in recommendation score. | Acceptable performance in structured answers score.'}, {'Overall Score': 3.951083183288574, 'Recommendation Score': 3.7481064796447754, 'Structured Answers Score': 3.8563389778137207, 'Feedback': 'Needs improvement in overall score as it was scored lower than expected. | Needs improvement in recommendation score as it was scored lower than expected. | Acceptable performance in structured answers score.'}, {'Overall Score': 3.9676740169525146, 'Recommendation Score': 3.7511637210845947, 'Structured Answers Score': 3.8325023651123047, 'Feedback': 'Needs improvement in overall score as it was scored lower than expected. | Acceptable performance in recommendation score. | Acceptable performance in structured answers score.'}, {'Overall Score': 3.9701414108276367, 'Recommendation Score': 3.7304747104644775, 'Structured Answers Score': 3.85622501373291, 'Feedback': 'Needs improvement in overall score as it was scored lower than expected. | Needs improvement in recommendation score as it was scored lower than expected. | Acceptable performance in structured answers score.'}, {'Overall Score': 3.9658799171447754, 'Recommendation Score': 3.7405076026916504, 'Structured Answers Score': 3.8520030975341797, 'Feedback': 'Acceptable performance in overall score. | Acceptable performance in recommendation score. | Acceptable performance in structured answers score.'}, {'Overall Score': 3.9694907665252686, 'Recommendation Score': 3.7381591796875, 'Structured Answers Score': 3.8521225452423096, 'Feedback': 'Needs improvement in overall score as it was scored lower than expected. | Needs improvement in recommendation score as it was scored lower than expected. | Acceptable performance in structured answers score.'}, {'Overall Score': 3.9675135612487793, 'Recommendation Score': 3.7496156692504883, 'Structured Answers Score': 3.835562229156494, 'Feedback': 'Acceptable performance in overall score. | Needs improvement in recommendation score as it was scored lower than expected. | Acceptable performance in structured answers score.'}]\n",
      "[{'Overall Score': 3.9794323444366455, 'Recommendation Score': 3.734752655029297, 'Structured Answers Score': 3.8377063274383545, 'Feedback': 'Acceptable performance in overall score. | Acceptable performance in recommendation score. | Acceptable performance in structured answers score.'}, {'Overall Score': 3.976954698562622, 'Recommendation Score': 3.7315354347229004, 'Structured Answers Score': 3.8422529697418213, 'Feedback': 'Needs improvement in overall score as it was scored lower than expected. | Needs improvement in recommendation score as it was scored lower than expected. | Needs improvement in structured answers score as it was scored lower than expected.'}, {'Overall Score': 3.966108798980713, 'Recommendation Score': 3.7312870025634766, 'Structured Answers Score': 3.864384889602661, 'Feedback': 'Acceptable performance in overall score. | Acceptable performance in recommendation score. | Acceptable performance in structured answers score.'}, {'Overall Score': 3.964850664138794, 'Recommendation Score': 3.728555679321289, 'Structured Answers Score': 3.8585410118103027, 'Feedback': 'Needs improvement in overall score as it was scored lower than expected. | Needs improvement in recommendation score as it was scored lower than expected. | Acceptable performance in structured answers score.'}, {'Overall Score': 3.965500593185425, 'Recommendation Score': 3.735175609588623, 'Structured Answers Score': 3.8551223278045654, 'Feedback': 'Needs improvement in overall score as it was scored lower than expected. | Needs improvement in recommendation score as it was scored lower than expected. | Acceptable performance in structured answers score.'}, {'Overall Score': 3.9709250926971436, 'Recommendation Score': 3.742863178253174, 'Structured Answers Score': 3.84108304977417, 'Feedback': 'Acceptable performance in overall score. | Acceptable performance in recommendation score. | Needs improvement in structured answers score as it was scored lower than expected.'}, {'Overall Score': 3.9693503379821777, 'Recommendation Score': 3.734306812286377, 'Structured Answers Score': 3.8484246730804443, 'Feedback': 'Needs improvement in overall score as it was scored lower than expected. | Needs improvement in recommendation score as it was scored lower than expected. | Acceptable performance in structured answers score.'}, {'Overall Score': 3.9691708087921143, 'Recommendation Score': 3.740950584411621, 'Structured Answers Score': 3.847317695617676, 'Feedback': 'Acceptable performance in overall score. | Acceptable performance in recommendation score. | Acceptable performance in structured answers score.'}]\n",
      "[{'Overall Score': 3.9741358757019043, 'Recommendation Score': 3.7381510734558105, 'Structured Answers Score': 3.8459510803222656, 'Feedback': 'Needs improvement in overall score as it was scored lower than expected. | Needs improvement in recommendation score as it was scored lower than expected. | Acceptable performance in structured answers score.'}, {'Overall Score': 3.9701058864593506, 'Recommendation Score': 3.7422895431518555, 'Structured Answers Score': 3.8421401977539062, 'Feedback': 'Acceptable performance in overall score. | Acceptable performance in recommendation score. | Acceptable performance in structured answers score.'}, {'Overall Score': 3.9695286750793457, 'Recommendation Score': 3.7465507984161377, 'Structured Answers Score': 3.8368489742279053, 'Feedback': 'Acceptable performance in overall score. | Acceptable performance in recommendation score. | Acceptable performance in structured answers score.'}, {'Overall Score': 3.9773271083831787, 'Recommendation Score': 3.738363742828369, 'Structured Answers Score': 3.844604015350342, 'Feedback': 'Acceptable performance in overall score. | Acceptable performance in recommendation score. | Acceptable performance in structured answers score.'}]\n",
      "Validation Loss: 1.5304\n"
     ]
    },
    {
     "name": "stderr",
     "output_type": "stream",
     "text": [
      "Epoch 2/10: 100%|██████████| 14/14 [03:26<00:00, 14.76s/it]\n"
     ]
    },
    {
     "name": "stdout",
     "output_type": "stream",
     "text": [
      "Epoch 2 | Train Loss: 1.4545\n",
      "[{'Overall Score': 4.976490497589111, 'Recommendation Score': 4.745016098022461, 'Structured Answers Score': 4.792557239532471, 'Feedback': 'Needs improvement in overall score as it was scored lower than expected. | Needs improvement in recommendation score as it was scored lower than expected. | Acceptable performance in structured answers score.'}, {'Overall Score': 4.982101917266846, 'Recommendation Score': 4.742636680603027, 'Structured Answers Score': 4.7972235679626465, 'Feedback': 'Acceptable performance in overall score. | Acceptable performance in recommendation score. | Acceptable performance in structured answers score.'}, {'Overall Score': 4.985766887664795, 'Recommendation Score': 4.74580192565918, 'Structured Answers Score': 4.780222415924072, 'Feedback': 'Acceptable performance in overall score. | Needs improvement in recommendation score as it was scored lower than expected. | Acceptable performance in structured answers score.'}, {'Overall Score': 4.9807820320129395, 'Recommendation Score': 4.746549606323242, 'Structured Answers Score': 4.791306972503662, 'Feedback': 'Acceptable performance in overall score. | Acceptable performance in recommendation score. | Acceptable performance in structured answers score.'}, {'Overall Score': 4.975656986236572, 'Recommendation Score': 4.750666618347168, 'Structured Answers Score': 4.783603191375732, 'Feedback': 'Acceptable performance in overall score. | Acceptable performance in recommendation score. | Acceptable performance in structured answers score.'}, {'Overall Score': 4.981883525848389, 'Recommendation Score': 4.745932579040527, 'Structured Answers Score': 4.780007839202881, 'Feedback': 'Acceptable performance in overall score. | Acceptable performance in recommendation score. | Good performance in structured answers score compared to the expected score.'}, {'Overall Score': 4.990649700164795, 'Recommendation Score': 4.741600036621094, 'Structured Answers Score': 4.788851261138916, 'Feedback': 'Acceptable performance in overall score. | Needs improvement in recommendation score as it was scored lower than expected. | Acceptable performance in structured answers score.'}, {'Overall Score': 4.980315208435059, 'Recommendation Score': 4.742069244384766, 'Structured Answers Score': 4.793774604797363, 'Feedback': 'Needs improvement in overall score as it was scored lower than expected. | Acceptable performance in recommendation score. | Acceptable performance in structured answers score.'}]\n",
      "[{'Overall Score': 4.980557441711426, 'Recommendation Score': 4.744076728820801, 'Structured Answers Score': 4.793581962585449, 'Feedback': 'Acceptable performance in overall score. | Acceptable performance in recommendation score. | Acceptable performance in structured answers score.'}, {'Overall Score': 4.982401371002197, 'Recommendation Score': 4.74085807800293, 'Structured Answers Score': 4.792633056640625, 'Feedback': 'Acceptable performance in overall score. | Acceptable performance in recommendation score. | Acceptable performance in structured answers score.'}, {'Overall Score': 4.974048614501953, 'Recommendation Score': 4.749908447265625, 'Structured Answers Score': 4.7938456535339355, 'Feedback': 'Acceptable performance in overall score. | Acceptable performance in recommendation score. | Acceptable performance in structured answers score.'}, {'Overall Score': 4.978845596313477, 'Recommendation Score': 4.747269153594971, 'Structured Answers Score': 4.7799458503723145, 'Feedback': 'Acceptable performance in overall score. | Acceptable performance in recommendation score. | Good performance in structured answers score compared to the expected score.'}, {'Overall Score': 4.982122421264648, 'Recommendation Score': 4.742742538452148, 'Structured Answers Score': 4.793412685394287, 'Feedback': 'Acceptable performance in overall score. | Acceptable performance in recommendation score. | Acceptable performance in structured answers score.'}, {'Overall Score': 4.977118015289307, 'Recommendation Score': 4.746889591217041, 'Structured Answers Score': 4.78827428817749, 'Feedback': 'Acceptable performance in overall score. | Acceptable performance in recommendation score. | Good performance in structured answers score compared to the expected score.'}, {'Overall Score': 4.978000640869141, 'Recommendation Score': 4.746148109436035, 'Structured Answers Score': 4.7885918617248535, 'Feedback': 'Acceptable performance in overall score. | Acceptable performance in recommendation score. | Good performance in structured answers score compared to the expected score.'}, {'Overall Score': 4.979886531829834, 'Recommendation Score': 4.747501850128174, 'Structured Answers Score': 4.778133869171143, 'Feedback': 'Acceptable performance in overall score. | Acceptable performance in recommendation score. | Acceptable performance in structured answers score.'}]\n",
      "[{'Overall Score': 4.985599517822266, 'Recommendation Score': 4.7438249588012695, 'Structured Answers Score': 4.7844767570495605, 'Feedback': 'Acceptable performance in overall score. | Acceptable performance in recommendation score. | Acceptable performance in structured answers score.'}, {'Overall Score': 4.989514350891113, 'Recommendation Score': 4.743250846862793, 'Structured Answers Score': 4.790414333343506, 'Feedback': 'Needs improvement in overall score as it was scored lower than expected. | Needs improvement in recommendation score as it was scored lower than expected. | Acceptable performance in structured answers score.'}, {'Overall Score': 4.981552600860596, 'Recommendation Score': 4.742426872253418, 'Structured Answers Score': 4.793788433074951, 'Feedback': 'Good performance in overall score compared to the expected score. | Good performance in recommendation score compared to the expected score. | Good performance in structured answers score compared to the expected score.'}, {'Overall Score': 4.974841117858887, 'Recommendation Score': 4.744636058807373, 'Structured Answers Score': 4.793905735015869, 'Feedback': 'Acceptable performance in overall score. | Acceptable performance in recommendation score. | Acceptable performance in structured answers score.'}, {'Overall Score': 4.980607032775879, 'Recommendation Score': 4.744370937347412, 'Structured Answers Score': 4.794506549835205, 'Feedback': 'Acceptable performance in overall score. | Acceptable performance in recommendation score. | Acceptable performance in structured answers score.'}, {'Overall Score': 4.982141971588135, 'Recommendation Score': 4.7470550537109375, 'Structured Answers Score': 4.785111427307129, 'Feedback': 'Acceptable performance in overall score. | Acceptable performance in recommendation score. | Acceptable performance in structured answers score.'}, {'Overall Score': 4.982746601104736, 'Recommendation Score': 4.7440948486328125, 'Structured Answers Score': 4.787444591522217, 'Feedback': 'Acceptable performance in overall score. | Acceptable performance in recommendation score. | Acceptable performance in structured answers score.'}, {'Overall Score': 4.982360363006592, 'Recommendation Score': 4.745548248291016, 'Structured Answers Score': 4.790859699249268, 'Feedback': 'Acceptable performance in overall score. | Acceptable performance in recommendation score. | Acceptable performance in structured answers score.'}]\n",
      "[{'Overall Score': 4.984630584716797, 'Recommendation Score': 4.747776985168457, 'Structured Answers Score': 4.78918981552124, 'Feedback': 'Acceptable performance in overall score. | Acceptable performance in recommendation score. | Acceptable performance in structured answers score.'}, {'Overall Score': 4.984664440155029, 'Recommendation Score': 4.7435407638549805, 'Structured Answers Score': 4.784693241119385, 'Feedback': 'Acceptable performance in overall score. | Acceptable performance in recommendation score. | Acceptable performance in structured answers score.'}, {'Overall Score': 4.983953952789307, 'Recommendation Score': 4.748412609100342, 'Structured Answers Score': 4.782272815704346, 'Feedback': 'Acceptable performance in overall score. | Acceptable performance in recommendation score. | Acceptable performance in structured answers score.'}, {'Overall Score': 4.981815338134766, 'Recommendation Score': 4.744233131408691, 'Structured Answers Score': 4.785386085510254, 'Feedback': 'Acceptable performance in overall score. | Acceptable performance in recommendation score. | Acceptable performance in structured answers score.'}]\n",
      "Validation Loss: 0.4802\n"
     ]
    },
    {
     "name": "stderr",
     "output_type": "stream",
     "text": [
      "Epoch 3/10: 100%|██████████| 14/14 [03:57<00:00, 16.96s/it]\n"
     ]
    },
    {
     "name": "stdout",
     "output_type": "stream",
     "text": [
      "Epoch 3 | Train Loss: 0.7758\n",
      "[{'Overall Score': 5.3900980949401855, 'Recommendation Score': 5.28934383392334, 'Structured Answers Score': 5.16674280166626, 'Feedback': 'Acceptable performance in overall score. | Acceptable performance in recommendation score. | Acceptable performance in structured answers score.'}, {'Overall Score': 5.394353866577148, 'Recommendation Score': 5.28757381439209, 'Structured Answers Score': 5.170533180236816, 'Feedback': 'Acceptable performance in overall score. | Acceptable performance in recommendation score. | Acceptable performance in structured answers score.'}, {'Overall Score': 5.398377895355225, 'Recommendation Score': 5.292902946472168, 'Structured Answers Score': 5.150707244873047, 'Feedback': 'Acceptable performance in overall score. | Acceptable performance in recommendation score. | Acceptable performance in structured answers score.'}, {'Overall Score': 5.393665313720703, 'Recommendation Score': 5.29100227355957, 'Structured Answers Score': 5.163492202758789, 'Feedback': 'Acceptable performance in overall score. | Acceptable performance in recommendation score. | Acceptable performance in structured answers score.'}, {'Overall Score': 5.390334606170654, 'Recommendation Score': 5.295433044433594, 'Structured Answers Score': 5.156171798706055, 'Feedback': 'Acceptable performance in overall score. | Acceptable performance in recommendation score. | Acceptable performance in structured answers score.'}, {'Overall Score': 5.395298957824707, 'Recommendation Score': 5.294696807861328, 'Structured Answers Score': 5.151287078857422, 'Feedback': 'Acceptable performance in overall score. | Good performance in recommendation score compared to the expected score. | Good performance in structured answers score compared to the expected score.'}, {'Overall Score': 5.4010748863220215, 'Recommendation Score': 5.287189483642578, 'Structured Answers Score': 5.161278247833252, 'Feedback': 'Acceptable performance in overall score. | Acceptable performance in recommendation score. | Acceptable performance in structured answers score.'}, {'Overall Score': 5.39349889755249, 'Recommendation Score': 5.288623809814453, 'Structured Answers Score': 5.166259765625, 'Feedback': 'Acceptable performance in overall score. | Acceptable performance in recommendation score. | Acceptable performance in structured answers score.'}]\n",
      "[{'Overall Score': 5.393905162811279, 'Recommendation Score': 5.289179801940918, 'Structured Answers Score': 5.166531562805176, 'Feedback': 'Acceptable performance in overall score. | Acceptable performance in recommendation score. | Acceptable performance in structured answers score.'}, {'Overall Score': 5.3939619064331055, 'Recommendation Score': 5.28554630279541, 'Structured Answers Score': 5.1650590896606445, 'Feedback': 'Good performance in overall score compared to the expected score. | Good performance in recommendation score compared to the expected score. | Acceptable performance in structured answers score.'}, {'Overall Score': 5.388242721557617, 'Recommendation Score': 5.29368782043457, 'Structured Answers Score': 5.166815280914307, 'Feedback': 'Acceptable performance in overall score. | Acceptable performance in recommendation score. | Acceptable performance in structured answers score.'}, {'Overall Score': 5.393526077270508, 'Recommendation Score': 5.296052932739258, 'Structured Answers Score': 5.151544570922852, 'Feedback': 'Acceptable performance in overall score. | Acceptable performance in recommendation score. | Good performance in structured answers score compared to the expected score.'}, {'Overall Score': 5.395454406738281, 'Recommendation Score': 5.287914276123047, 'Structured Answers Score': 5.1669602394104, 'Feedback': 'Acceptable performance in overall score. | Acceptable performance in recommendation score. | Acceptable performance in structured answers score.'}, {'Overall Score': 5.392012119293213, 'Recommendation Score': 5.291831970214844, 'Structured Answers Score': 5.161290168762207, 'Feedback': 'Acceptable performance in overall score. | Good performance in recommendation score compared to the expected score. | Good performance in structured answers score compared to the expected score.'}, {'Overall Score': 5.39235782623291, 'Recommendation Score': 5.292197227478027, 'Structured Answers Score': 5.161624431610107, 'Feedback': 'Acceptable performance in overall score. | Acceptable performance in recommendation score. | Good performance in structured answers score compared to the expected score.'}, {'Overall Score': 5.393890857696533, 'Recommendation Score': 5.296636581420898, 'Structured Answers Score': 5.150089263916016, 'Feedback': 'Acceptable performance in overall score. | Acceptable performance in recommendation score. | Good performance in structured answers score compared to the expected score.'}]\n",
      "[{'Overall Score': 5.397030353546143, 'Recommendation Score': 5.2913713455200195, 'Structured Answers Score': 5.156128883361816, 'Feedback': 'Acceptable performance in overall score. | Acceptable performance in recommendation score. | Acceptable performance in structured answers score.'}, {'Overall Score': 5.401792526245117, 'Recommendation Score': 5.290088653564453, 'Structured Answers Score': 5.162860870361328, 'Feedback': 'Acceptable performance in overall score. | Acceptable performance in recommendation score. | Acceptable performance in structured answers score.'}, {'Overall Score': 5.395325183868408, 'Recommendation Score': 5.289275169372559, 'Structured Answers Score': 5.168087959289551, 'Feedback': 'Good performance in overall score compared to the expected score. | Good performance in recommendation score compared to the expected score. | Good performance in structured answers score compared to the expected score.'}, {'Overall Score': 5.3881354331970215, 'Recommendation Score': 5.286839485168457, 'Structured Answers Score': 5.169678688049316, 'Feedback': 'Acceptable performance in overall score. | Acceptable performance in recommendation score. | Acceptable performance in structured answers score.'}, {'Overall Score': 5.39274263381958, 'Recommendation Score': 5.28840446472168, 'Structured Answers Score': 5.168474197387695, 'Feedback': 'Acceptable performance in overall score. | Acceptable performance in recommendation score. | Acceptable performance in structured answers score.'}, {'Overall Score': 5.395424842834473, 'Recommendation Score': 5.293797969818115, 'Structured Answers Score': 5.156421661376953, 'Feedback': 'Good performance in overall score compared to the expected score. | Acceptable performance in recommendation score. | Acceptable performance in structured answers score.'}, {'Overall Score': 5.395668983459473, 'Recommendation Score': 5.293340682983398, 'Structured Answers Score': 5.1591715812683105, 'Feedback': 'Acceptable performance in overall score. | Acceptable performance in recommendation score. | Good performance in structured answers score compared to the expected score.'}, {'Overall Score': 5.394702434539795, 'Recommendation Score': 5.290975570678711, 'Structured Answers Score': 5.164541244506836, 'Feedback': 'Acceptable performance in overall score. | Acceptable performance in recommendation score. | Acceptable performance in structured answers score.'}]\n",
      "[{'Overall Score': 5.3965864181518555, 'Recommendation Score': 5.293363571166992, 'Structured Answers Score': 5.16243839263916, 'Feedback': 'Acceptable performance in overall score. | Acceptable performance in recommendation score. | Acceptable performance in structured answers score.'}, {'Overall Score': 5.397526264190674, 'Recommendation Score': 5.293586254119873, 'Structured Answers Score': 5.154284954071045, 'Feedback': 'Acceptable performance in overall score. | Acceptable performance in recommendation score. | Acceptable performance in structured answers score.'}, {'Overall Score': 5.397395610809326, 'Recommendation Score': 5.295872688293457, 'Structured Answers Score': 5.153141975402832, 'Feedback': 'Acceptable performance in overall score. | Acceptable performance in recommendation score. | Good performance in structured answers score compared to the expected score.'}, {'Overall Score': 5.39557409286499, 'Recommendation Score': 5.292581558227539, 'Structured Answers Score': 5.156970977783203, 'Feedback': 'Acceptable performance in overall score. | Acceptable performance in recommendation score. | Acceptable performance in structured answers score.'}]\n",
      "Validation Loss: 0.6296\n"
     ]
    },
    {
     "name": "stderr",
     "output_type": "stream",
     "text": [
      "Epoch 4/10: 100%|██████████| 14/14 [06:11<00:00, 26.56s/it]\n"
     ]
    },
    {
     "name": "stdout",
     "output_type": "stream",
     "text": [
      "Epoch 4 | Train Loss: 0.7559\n",
      "[{'Overall Score': 5.379495620727539, 'Recommendation Score': 5.084055423736572, 'Structured Answers Score': 4.764815330505371, 'Feedback': 'Acceptable performance in overall score. | Needs improvement in recommendation score as it was scored lower than expected. | Acceptable performance in structured answers score.'}, {'Overall Score': 5.392669677734375, 'Recommendation Score': 5.087878704071045, 'Structured Answers Score': 4.77474308013916, 'Feedback': 'Acceptable performance in overall score. | Acceptable performance in recommendation score. | Acceptable performance in structured answers score.'}, {'Overall Score': 5.3775153160095215, 'Recommendation Score': 5.0730299949646, 'Structured Answers Score': 4.730350494384766, 'Feedback': 'Acceptable performance in overall score. | Acceptable performance in recommendation score. | Acceptable performance in structured answers score.'}, {'Overall Score': 5.381114482879639, 'Recommendation Score': 5.081295967102051, 'Structured Answers Score': 4.755178451538086, 'Feedback': 'Acceptable performance in overall score. | Acceptable performance in recommendation score. | Acceptable performance in structured answers score.'}, {'Overall Score': 5.371458530426025, 'Recommendation Score': 5.077310562133789, 'Structured Answers Score': 4.740109443664551, 'Feedback': 'Acceptable performance in overall score. | Acceptable performance in recommendation score. | Acceptable performance in structured answers score.'}, {'Overall Score': 5.373838424682617, 'Recommendation Score': 5.071614742279053, 'Structured Answers Score': 4.728632926940918, 'Feedback': 'Acceptable performance in overall score. | Good performance in recommendation score compared to the expected score. | Good performance in structured answers score compared to the expected score.'}, {'Overall Score': 5.395225524902344, 'Recommendation Score': 5.079918384552002, 'Structured Answers Score': 4.760343074798584, 'Feedback': 'Acceptable performance in overall score. | Needs improvement in recommendation score as it was scored lower than expected. | Acceptable performance in structured answers score.'}, {'Overall Score': 5.385395050048828, 'Recommendation Score': 5.085389614105225, 'Structured Answers Score': 4.763860702514648, 'Feedback': 'Acceptable performance in overall score. | Acceptable performance in recommendation score. | Acceptable performance in structured answers score.'}]\n",
      "[{'Overall Score': 5.387728691101074, 'Recommendation Score': 5.087530136108398, 'Structured Answers Score': 4.7680864334106445, 'Feedback': 'Acceptable performance in overall score. | Acceptable performance in recommendation score. | Acceptable performance in structured answers score.'}, {'Overall Score': 5.382997989654541, 'Recommendation Score': 5.079510688781738, 'Structured Answers Score': 4.760366916656494, 'Feedback': 'Good performance in overall score compared to the expected score. | Acceptable performance in recommendation score. | Acceptable performance in structured answers score.'}, {'Overall Score': 5.383134365081787, 'Recommendation Score': 5.090947151184082, 'Structured Answers Score': 4.767430305480957, 'Feedback': 'Acceptable performance in overall score. | Acceptable performance in recommendation score. | Acceptable performance in structured answers score.'}, {'Overall Score': 5.371551036834717, 'Recommendation Score': 5.072990894317627, 'Structured Answers Score': 4.7275071144104, 'Feedback': 'Acceptable performance in overall score. | Acceptable performance in recommendation score. | Acceptable performance in structured answers score.'}, {'Overall Score': 5.390549182891846, 'Recommendation Score': 5.085918426513672, 'Structured Answers Score': 4.767458915710449, 'Feedback': 'Acceptable performance in overall score. | Acceptable performance in recommendation score. | Acceptable performance in structured answers score.'}, {'Overall Score': 5.381757736206055, 'Recommendation Score': 5.0845723152160645, 'Structured Answers Score': 4.757406234741211, 'Feedback': 'Acceptable performance in overall score. | Acceptable performance in recommendation score. | Good performance in structured answers score compared to the expected score.'}, {'Overall Score': 5.382386684417725, 'Recommendation Score': 5.085968494415283, 'Structured Answers Score': 4.7571821212768555, 'Feedback': 'Acceptable performance in overall score. | Acceptable performance in recommendation score. | Good performance in structured answers score compared to the expected score.'}, {'Overall Score': 5.370950222015381, 'Recommendation Score': 5.076875686645508, 'Structured Answers Score': 4.727824687957764, 'Feedback': 'Acceptable performance in overall score. | Acceptable performance in recommendation score. | Acceptable performance in structured answers score.'}]\n",
      "[{'Overall Score': 5.381908416748047, 'Recommendation Score': 5.077301025390625, 'Structured Answers Score': 4.742582321166992, 'Feedback': 'Acceptable performance in overall score. | Acceptable performance in recommendation score. | Acceptable performance in structured answers score.'}, {'Overall Score': 5.397214889526367, 'Recommendation Score': 5.086631774902344, 'Structured Answers Score': 4.761109828948975, 'Feedback': 'Acceptable performance in overall score. | Needs improvement in recommendation score as it was scored lower than expected. | Acceptable performance in structured answers score.'}, {'Overall Score': 5.390557765960693, 'Recommendation Score': 5.087475776672363, 'Structured Answers Score': 4.770001411437988, 'Feedback': 'Good performance in overall score compared to the expected score. | Good performance in recommendation score compared to the expected score. | Good performance in structured answers score compared to the expected score.'}, {'Overall Score': 5.382129669189453, 'Recommendation Score': 5.084839344024658, 'Structured Answers Score': 4.774834632873535, 'Feedback': 'Acceptable performance in overall score. | Acceptable performance in recommendation score. | Acceptable performance in structured answers score.'}, {'Overall Score': 5.389052391052246, 'Recommendation Score': 5.0862884521484375, 'Structured Answers Score': 4.771980285644531, 'Feedback': 'Acceptable performance in overall score. | Acceptable performance in recommendation score. | Acceptable performance in structured answers score.'}, {'Overall Score': 5.3799357414245605, 'Recommendation Score': 5.078975677490234, 'Structured Answers Score': 4.740946292877197, 'Feedback': 'Good performance in overall score compared to the expected score. | Acceptable performance in recommendation score. | Acceptable performance in structured answers score.'}, {'Overall Score': 5.381625175476074, 'Recommendation Score': 5.082297325134277, 'Structured Answers Score': 4.74741268157959, 'Feedback': 'Acceptable performance in overall score. | Acceptable performance in recommendation score. | Acceptable performance in structured answers score.'}, {'Overall Score': 5.387925148010254, 'Recommendation Score': 5.085798740386963, 'Structured Answers Score': 4.762006759643555, 'Feedback': 'Acceptable performance in overall score. | Acceptable performance in recommendation score. | Acceptable performance in structured answers score.'}]\n",
      "[{'Overall Score': 5.38822078704834, 'Recommendation Score': 5.087226867675781, 'Structured Answers Score': 4.759198188781738, 'Feedback': 'Acceptable performance in overall score. | Acceptable performance in recommendation score. | Acceptable performance in structured answers score.'}, {'Overall Score': 5.3797478675842285, 'Recommendation Score': 5.075497627258301, 'Structured Answers Score': 4.734739780426025, 'Feedback': 'Acceptable performance in overall score. | Acceptable performance in recommendation score. | Acceptable performance in structured answers score.'}, {'Overall Score': 5.381980895996094, 'Recommendation Score': 5.077278137207031, 'Structured Answers Score': 4.7370219230651855, 'Feedback': 'Acceptable performance in overall score. | Acceptable performance in recommendation score. | Acceptable performance in structured answers score.'}, {'Overall Score': 5.376709461212158, 'Recommendation Score': 5.078140735626221, 'Structured Answers Score': 4.740213394165039, 'Feedback': 'Acceptable performance in overall score. | Acceptable performance in recommendation score. | Acceptable performance in structured answers score.'}]\n",
      "Validation Loss: 0.4784\n"
     ]
    },
    {
     "name": "stderr",
     "output_type": "stream",
     "text": [
      "Epoch 5/10: 100%|██████████| 14/14 [04:18<00:00, 18.49s/it]\n"
     ]
    },
    {
     "name": "stdout",
     "output_type": "stream",
     "text": [
      "Epoch 5 | Train Loss: 0.7591\n",
      "[{'Overall Score': 5.28401517868042, 'Recommendation Score': 5.314280986785889, 'Structured Answers Score': 5.104189395904541, 'Feedback': 'Acceptable performance in overall score. | Acceptable performance in recommendation score. | Acceptable performance in structured answers score.'}, {'Overall Score': 5.2853803634643555, 'Recommendation Score': 5.31284236907959, 'Structured Answers Score': 5.103658676147461, 'Feedback': 'Acceptable performance in overall score. | Acceptable performance in recommendation score. | Acceptable performance in structured answers score.'}, {'Overall Score': 5.2797465324401855, 'Recommendation Score': 5.311983108520508, 'Structured Answers Score': 5.075203895568848, 'Feedback': 'Acceptable performance in overall score. | Acceptable performance in recommendation score. | Acceptable performance in structured answers score.'}, {'Overall Score': 5.279902458190918, 'Recommendation Score': 5.313388347625732, 'Structured Answers Score': 5.092372894287109, 'Feedback': 'Acceptable performance in overall score. | Acceptable performance in recommendation score. | Acceptable performance in structured answers score.'}, {'Overall Score': 5.278481960296631, 'Recommendation Score': 5.316008567810059, 'Structured Answers Score': 5.0879340171813965, 'Feedback': 'Acceptable performance in overall score. | Acceptable performance in recommendation score. | Acceptable performance in structured answers score.'}, {'Overall Score': 5.276801586151123, 'Recommendation Score': 5.312961578369141, 'Structured Answers Score': 5.0757856369018555, 'Feedback': 'Acceptable performance in overall score. | Good performance in recommendation score compared to the expected score. | Good performance in structured answers score compared to the expected score.'}, {'Overall Score': 5.279226303100586, 'Recommendation Score': 5.305333137512207, 'Structured Answers Score': 5.084860324859619, 'Feedback': 'Acceptable performance in overall score. | Acceptable performance in recommendation score. | Acceptable performance in structured answers score.'}, {'Overall Score': 5.2830586433410645, 'Recommendation Score': 5.313470840454102, 'Structured Answers Score': 5.097919940948486, 'Feedback': 'Acceptable performance in overall score. | Acceptable performance in recommendation score. | Acceptable performance in structured answers score.'}]\n",
      "[{'Overall Score': 5.284401893615723, 'Recommendation Score': 5.313930511474609, 'Structured Answers Score': 5.100982189178467, 'Feedback': 'Acceptable performance in overall score. | Acceptable performance in recommendation score. | Acceptable performance in structured answers score.'}, {'Overall Score': 5.283381462097168, 'Recommendation Score': 5.309926986694336, 'Structured Answers Score': 5.098373889923096, 'Feedback': 'Acceptable performance in overall score. | Good performance in recommendation score compared to the expected score. | Acceptable performance in structured answers score.'}, {'Overall Score': 5.280326843261719, 'Recommendation Score': 5.319092750549316, 'Structured Answers Score': 5.100890159606934, 'Feedback': 'Acceptable performance in overall score. | Acceptable performance in recommendation score. | Acceptable performance in structured answers score.'}, {'Overall Score': 5.275299549102783, 'Recommendation Score': 5.314105987548828, 'Structured Answers Score': 5.074447154998779, 'Feedback': 'Acceptable performance in overall score. | Acceptable performance in recommendation score. | Good performance in structured answers score compared to the expected score.'}, {'Overall Score': 5.284487724304199, 'Recommendation Score': 5.312206745147705, 'Structured Answers Score': 5.098677158355713, 'Feedback': 'Acceptable performance in overall score. | Acceptable performance in recommendation score. | Acceptable performance in structured answers score.'}, {'Overall Score': 5.28169059753418, 'Recommendation Score': 5.315545558929443, 'Structured Answers Score': 5.0942182540893555, 'Feedback': 'Acceptable performance in overall score. | Good performance in recommendation score compared to the expected score. | Good performance in structured answers score compared to the expected score.'}, {'Overall Score': 5.282969951629639, 'Recommendation Score': 5.317505359649658, 'Structured Answers Score': 5.094422340393066, 'Feedback': 'Acceptable performance in overall score. | Acceptable performance in recommendation score. | Good performance in structured answers score compared to the expected score.'}, {'Overall Score': 5.277649402618408, 'Recommendation Score': 5.317400932312012, 'Structured Answers Score': 5.075268268585205, 'Feedback': 'Acceptable performance in overall score. | Acceptable performance in recommendation score. | Good performance in structured answers score compared to the expected score.'}]\n",
      "[{'Overall Score': 5.280182838439941, 'Recommendation Score': 5.311885833740234, 'Structured Answers Score': 5.08151388168335, 'Feedback': 'Acceptable performance in overall score. | Acceptable performance in recommendation score. | Acceptable performance in structured answers score.'}, {'Overall Score': 5.284834861755371, 'Recommendation Score': 5.313175678253174, 'Structured Answers Score': 5.086203575134277, 'Feedback': 'Needs improvement in overall score as it was scored lower than expected. | Acceptable performance in recommendation score. | Acceptable performance in structured answers score.'}, {'Overall Score': 5.289109230041504, 'Recommendation Score': 5.316111087799072, 'Structured Answers Score': 5.1035685539245605, 'Feedback': 'Good performance in overall score compared to the expected score. | Good performance in recommendation score compared to the expected score. | Good performance in structured answers score compared to the expected score.'}, {'Overall Score': 5.2849016189575195, 'Recommendation Score': 5.312411308288574, 'Structured Answers Score': 5.111440181732178, 'Feedback': 'Acceptable performance in overall score. | Acceptable performance in recommendation score. | Acceptable performance in structured answers score.'}, {'Overall Score': 5.284242630004883, 'Recommendation Score': 5.312843322753906, 'Structured Answers Score': 5.1041998863220215, 'Feedback': 'Acceptable performance in overall score. | Acceptable performance in recommendation score. | Acceptable performance in structured answers score.'}, {'Overall Score': 5.2786865234375, 'Recommendation Score': 5.314526081085205, 'Structured Answers Score': 5.081441402435303, 'Feedback': 'Good performance in overall score compared to the expected score. | Acceptable performance in recommendation score. | Acceptable performance in structured answers score.'}, {'Overall Score': 5.281891822814941, 'Recommendation Score': 5.316905975341797, 'Structured Answers Score': 5.085801601409912, 'Feedback': 'Acceptable performance in overall score. | Acceptable performance in recommendation score. | Good performance in structured answers score compared to the expected score.'}, {'Overall Score': 5.281376361846924, 'Recommendation Score': 5.314005374908447, 'Structured Answers Score': 5.09410285949707, 'Feedback': 'Acceptable performance in overall score. | Acceptable performance in recommendation score. | Acceptable performance in structured answers score.'}]\n",
      "[{'Overall Score': 5.283463478088379, 'Recommendation Score': 5.315854072570801, 'Structured Answers Score': 5.09207010269165, 'Feedback': 'Acceptable performance in overall score. | Acceptable performance in recommendation score. | Acceptable performance in structured answers score.'}, {'Overall Score': 5.279821395874023, 'Recommendation Score': 5.314242362976074, 'Structured Answers Score': 5.077431678771973, 'Feedback': 'Acceptable performance in overall score. | Acceptable performance in recommendation score. | Acceptable performance in structured answers score.'}, {'Overall Score': 5.277059078216553, 'Recommendation Score': 5.313399314880371, 'Structured Answers Score': 5.075192928314209, 'Feedback': 'Acceptable performance in overall score. | Acceptable performance in recommendation score. | Good performance in structured answers score compared to the expected score.'}, {'Overall Score': 5.280860900878906, 'Recommendation Score': 5.3143792152404785, 'Structured Answers Score': 5.08249044418335, 'Feedback': 'Acceptable performance in overall score. | Acceptable performance in recommendation score. | Acceptable performance in structured answers score.'}]\n",
      "Validation Loss: 0.5880\n"
     ]
    },
    {
     "name": "stderr",
     "output_type": "stream",
     "text": [
      "Epoch 6/10: 100%|██████████| 14/14 [06:49<00:00, 29.22s/it]\n"
     ]
    },
    {
     "name": "stdout",
     "output_type": "stream",
     "text": [
      "Epoch 6 | Train Loss: 0.8810\n",
      "[{'Overall Score': 5.441741943359375, 'Recommendation Score': 5.05036735534668, 'Structured Answers Score': 5.105215549468994, 'Feedback': 'Acceptable performance in overall score. | Needs improvement in recommendation score as it was scored lower than expected. | Acceptable performance in structured answers score.'}, {'Overall Score': 5.442920207977295, 'Recommendation Score': 5.049044609069824, 'Structured Answers Score': 5.103567600250244, 'Feedback': 'Acceptable performance in overall score. | Acceptable performance in recommendation score. | Acceptable performance in structured answers score.'}, {'Overall Score': 5.432157516479492, 'Recommendation Score': 5.041489124298096, 'Structured Answers Score': 5.064664840698242, 'Feedback': 'Acceptable performance in overall score. | Acceptable performance in recommendation score. | Acceptable performance in structured answers score.'}, {'Overall Score': 5.434940338134766, 'Recommendation Score': 5.0463547706604, 'Structured Answers Score': 5.087440490722656, 'Feedback': 'Acceptable performance in overall score. | Acceptable performance in recommendation score. | Acceptable performance in structured answers score.'}, {'Overall Score': 5.4342546463012695, 'Recommendation Score': 5.04710054397583, 'Structured Answers Score': 5.082880973815918, 'Feedback': 'Acceptable performance in overall score. | Acceptable performance in recommendation score. | Acceptable performance in structured answers score.'}, {'Overall Score': 5.430318832397461, 'Recommendation Score': 5.042237758636475, 'Structured Answers Score': 5.066351413726807, 'Feedback': 'Acceptable performance in overall score. | Good performance in recommendation score compared to the expected score. | Good performance in structured answers score compared to the expected score.'}, {'Overall Score': 5.4317731857299805, 'Recommendation Score': 5.036999702453613, 'Structured Answers Score': 5.076709270477295, 'Feedback': 'Acceptable performance in overall score. | Needs improvement in recommendation score as it was scored lower than expected. | Acceptable performance in structured answers score.'}, {'Overall Score': 5.43943977355957, 'Recommendation Score': 5.0484843254089355, 'Structured Answers Score': 5.096053600311279, 'Feedback': 'Acceptable performance in overall score. | Acceptable performance in recommendation score. | Acceptable performance in structured answers score.'}]\n",
      "[{'Overall Score': 5.440742015838623, 'Recommendation Score': 5.048608303070068, 'Structured Answers Score': 5.100136756896973, 'Feedback': 'Acceptable performance in overall score. | Acceptable performance in recommendation score. | Acceptable performance in structured answers score.'}, {'Overall Score': 5.439350605010986, 'Recommendation Score': 5.044960975646973, 'Structured Answers Score': 5.096721172332764, 'Feedback': 'Good performance in overall score compared to the expected score. | Acceptable performance in recommendation score. | Acceptable performance in structured answers score.'}, {'Overall Score': 5.438382148742676, 'Recommendation Score': 5.054443836212158, 'Structured Answers Score': 5.099490165710449, 'Feedback': 'Acceptable performance in overall score. | Acceptable performance in recommendation score. | Acceptable performance in structured answers score.'}, {'Overall Score': 5.42720890045166, 'Recommendation Score': 5.042444705963135, 'Structured Answers Score': 5.063209533691406, 'Feedback': 'Acceptable performance in overall score. | Acceptable performance in recommendation score. | Good performance in structured answers score compared to the expected score.'}, {'Overall Score': 5.440277099609375, 'Recommendation Score': 5.0473856925964355, 'Structured Answers Score': 5.095711708068848, 'Feedback': 'Acceptable performance in overall score. | Acceptable performance in recommendation score. | Acceptable performance in structured answers score.'}, {'Overall Score': 5.438437461853027, 'Recommendation Score': 5.049012184143066, 'Structured Answers Score': 5.0917649269104, 'Feedback': 'Acceptable performance in overall score. | Acceptable performance in recommendation score. | Good performance in structured answers score compared to the expected score.'}, {'Overall Score': 5.439689636230469, 'Recommendation Score': 5.051103115081787, 'Structured Answers Score': 5.09163761138916, 'Feedback': 'Acceptable performance in overall score. | Acceptable performance in recommendation score. | Good performance in structured answers score compared to the expected score.'}, {'Overall Score': 5.432621955871582, 'Recommendation Score': 5.046082973480225, 'Structured Answers Score': 5.065913677215576, 'Feedback': 'Acceptable performance in overall score. | Acceptable performance in recommendation score. | Acceptable performance in structured answers score.'}]\n",
      "[{'Overall Score': 5.434014320373535, 'Recommendation Score': 5.0426483154296875, 'Structured Answers Score': 5.074452877044678, 'Feedback': 'Acceptable performance in overall score. | Acceptable performance in recommendation score. | Acceptable performance in structured answers score.'}, {'Overall Score': 5.4386887550354, 'Recommendation Score': 5.044670581817627, 'Structured Answers Score': 5.079766750335693, 'Feedback': 'Acceptable performance in overall score. | Needs improvement in recommendation score as it was scored lower than expected. | Acceptable performance in structured answers score.'}, {'Overall Score': 5.448461532592773, 'Recommendation Score': 5.052712440490723, 'Structured Answers Score': 5.104676723480225, 'Feedback': 'Good performance in overall score compared to the expected score. | Good performance in recommendation score compared to the expected score. | Good performance in structured answers score compared to the expected score.'}, {'Overall Score': 5.442304611206055, 'Recommendation Score': 5.049407958984375, 'Structured Answers Score': 5.114623546600342, 'Feedback': 'Acceptable performance in overall score. | Acceptable performance in recommendation score. | Acceptable performance in structured answers score.'}, {'Overall Score': 5.442656517028809, 'Recommendation Score': 5.049179553985596, 'Structured Answers Score': 5.1044487953186035, 'Feedback': 'Acceptable performance in overall score. | Acceptable performance in recommendation score. | Acceptable performance in structured answers score.'}, {'Overall Score': 5.433502197265625, 'Recommendation Score': 5.045133113861084, 'Structured Answers Score': 5.073685646057129, 'Feedback': 'Good performance in overall score compared to the expected score. | Acceptable performance in recommendation score. | Acceptable performance in structured answers score.'}, {'Overall Score': 5.438237190246582, 'Recommendation Score': 5.049399375915527, 'Structured Answers Score': 5.0798258781433105, 'Feedback': 'Acceptable performance in overall score. | Acceptable performance in recommendation score. | Good performance in structured answers score compared to the expected score.'}, {'Overall Score': 5.437597274780273, 'Recommendation Score': 5.047281742095947, 'Structured Answers Score': 5.090586185455322, 'Feedback': 'Acceptable performance in overall score. | Acceptable performance in recommendation score. | Acceptable performance in structured answers score.'}]\n",
      "[{'Overall Score': 5.439638137817383, 'Recommendation Score': 5.0495429039001465, 'Structured Answers Score': 5.088479995727539, 'Feedback': 'Acceptable performance in overall score. | Acceptable performance in recommendation score. | Acceptable performance in structured answers score.'}, {'Overall Score': 5.434212684631348, 'Recommendation Score': 5.044463157653809, 'Structured Answers Score': 5.068897724151611, 'Feedback': 'Acceptable performance in overall score. | Acceptable performance in recommendation score. | Acceptable performance in structured answers score.'}, {'Overall Score': 5.428369045257568, 'Recommendation Score': 5.040420055389404, 'Structured Answers Score': 5.06386137008667, 'Feedback': 'Good performance in overall score compared to the expected score. | Acceptable performance in recommendation score. | Good performance in structured answers score compared to the expected score.'}, {'Overall Score': 5.436020851135254, 'Recommendation Score': 5.0456156730651855, 'Structured Answers Score': 5.074879169464111, 'Feedback': 'Acceptable performance in overall score. | Acceptable performance in recommendation score. | Acceptable performance in structured answers score.'}]\n",
      "Validation Loss: 0.5753\n"
     ]
    },
    {
     "name": "stderr",
     "output_type": "stream",
     "text": [
      "Epoch 7/10: 100%|██████████| 14/14 [03:49<00:00, 16.37s/it]\n"
     ]
    },
    {
     "name": "stdout",
     "output_type": "stream",
     "text": [
      "Epoch 7 | Train Loss: 0.6988\n",
      "[{'Overall Score': 5.263960361480713, 'Recommendation Score': 5.253523349761963, 'Structured Answers Score': 4.9849443435668945, 'Feedback': 'Acceptable performance in overall score. | Acceptable performance in recommendation score. | Acceptable performance in structured answers score.'}, {'Overall Score': 5.26447057723999, 'Recommendation Score': 5.2516632080078125, 'Structured Answers Score': 4.9815897941589355, 'Feedback': 'Acceptable performance in overall score. | Acceptable performance in recommendation score. | Acceptable performance in structured answers score.'}, {'Overall Score': 5.24835729598999, 'Recommendation Score': 5.244800567626953, 'Structured Answers Score': 4.9335222244262695, 'Feedback': 'Acceptable performance in overall score. | Acceptable performance in recommendation score. | Acceptable performance in structured answers score.'}, {'Overall Score': 5.254120349884033, 'Recommendation Score': 5.2493815422058105, 'Structured Answers Score': 4.961798191070557, 'Feedback': 'Acceptable performance in overall score. | Acceptable performance in recommendation score. | Acceptable performance in structured answers score.'}, {'Overall Score': 5.252661228179932, 'Recommendation Score': 5.251004219055176, 'Structured Answers Score': 4.956448554992676, 'Feedback': 'Acceptable performance in overall score. | Acceptable performance in recommendation score. | Acceptable performance in structured answers score.'}, {'Overall Score': 5.246292591094971, 'Recommendation Score': 5.245425701141357, 'Structured Answers Score': 4.935039043426514, 'Feedback': 'Acceptable performance in overall score. | Good performance in recommendation score compared to the expected score. | Good performance in structured answers score compared to the expected score.'}, {'Overall Score': 5.248458385467529, 'Recommendation Score': 5.242239952087402, 'Structured Answers Score': 4.9461989402771, 'Feedback': 'Acceptable performance in overall score. | Needs improvement in recommendation score as it was scored lower than expected. | Acceptable performance in structured answers score.'}, {'Overall Score': 5.2599101066589355, 'Recommendation Score': 5.250584125518799, 'Structured Answers Score': 4.972733020782471, 'Feedback': 'Acceptable performance in overall score. | Acceptable performance in recommendation score. | Acceptable performance in structured answers score.'}]\n",
      "[{'Overall Score': 5.2620463371276855, 'Recommendation Score': 5.251680850982666, 'Structured Answers Score': 4.978070259094238, 'Feedback': 'Acceptable performance in overall score. | Acceptable performance in recommendation score. | Acceptable performance in structured answers score.'}, {'Overall Score': 5.259927272796631, 'Recommendation Score': 5.248704433441162, 'Structured Answers Score': 4.973647117614746, 'Feedback': 'Acceptable performance in overall score. | Acceptable performance in recommendation score. | Acceptable performance in structured answers score.'}, {'Overall Score': 5.259590148925781, 'Recommendation Score': 5.25624942779541, 'Structured Answers Score': 4.977598667144775, 'Feedback': 'Acceptable performance in overall score. | Acceptable performance in recommendation score. | Acceptable performance in structured answers score.'}, {'Overall Score': 5.242766857147217, 'Recommendation Score': 5.243938446044922, 'Structured Answers Score': 4.930936813354492, 'Feedback': 'Acceptable performance in overall score. | Acceptable performance in recommendation score. | Good performance in structured answers score compared to the expected score.'}, {'Overall Score': 5.260589122772217, 'Recommendation Score': 5.250162124633789, 'Structured Answers Score': 4.972252368927002, 'Feedback': 'Acceptable performance in overall score. | Acceptable performance in recommendation score. | Acceptable performance in structured answers score.'}, {'Overall Score': 5.2586989402771, 'Recommendation Score': 5.2519211769104, 'Structured Answers Score': 4.9677863121032715, 'Feedback': 'Acceptable performance in overall score. | Good performance in recommendation score compared to the expected score. | Good performance in structured answers score compared to the expected score.'}, {'Overall Score': 5.2600226402282715, 'Recommendation Score': 5.252976894378662, 'Structured Answers Score': 4.9683146476745605, 'Feedback': 'Acceptable performance in overall score. | Acceptable performance in recommendation score. | Good performance in structured answers score compared to the expected score.'}, {'Overall Score': 5.2496161460876465, 'Recommendation Score': 5.248863697052002, 'Structured Answers Score': 4.936376094818115, 'Feedback': 'Acceptable performance in overall score. | Acceptable performance in recommendation score. | Acceptable performance in structured answers score.'}]\n",
      "[{'Overall Score': 5.251297950744629, 'Recommendation Score': 5.245604991912842, 'Structured Answers Score': 4.945822715759277, 'Feedback': 'Acceptable performance in overall score. | Acceptable performance in recommendation score. | Acceptable performance in structured answers score.'}, {'Overall Score': 5.257253170013428, 'Recommendation Score': 5.247180938720703, 'Structured Answers Score': 4.952548503875732, 'Feedback': 'Needs improvement in overall score as it was scored lower than expected. | Acceptable performance in recommendation score. | Acceptable performance in structured answers score.'}, {'Overall Score': 5.270529270172119, 'Recommendation Score': 5.255340576171875, 'Structured Answers Score': 4.9843010902404785, 'Feedback': 'Good performance in overall score compared to the expected score. | Good performance in recommendation score compared to the expected score. | Good performance in structured answers score compared to the expected score.'}, {'Overall Score': 5.265847682952881, 'Recommendation Score': 5.25391149520874, 'Structured Answers Score': 4.995484828948975, 'Feedback': 'Acceptable performance in overall score. | Acceptable performance in recommendation score. | Acceptable performance in structured answers score.'}, {'Overall Score': 5.264064311981201, 'Recommendation Score': 5.252512454986572, 'Structured Answers Score': 4.982472896575928, 'Feedback': 'Acceptable performance in overall score. | Acceptable performance in recommendation score. | Acceptable performance in structured answers score.'}, {'Overall Score': 5.250861644744873, 'Recommendation Score': 5.247422695159912, 'Structured Answers Score': 4.944821357727051, 'Feedback': 'Acceptable performance in overall score. | Acceptable performance in recommendation score. | Acceptable performance in structured answers score.'}, {'Overall Score': 5.257317543029785, 'Recommendation Score': 5.25112771987915, 'Structured Answers Score': 4.9539361000061035, 'Feedback': 'Acceptable performance in overall score. | Acceptable performance in recommendation score. | Acceptable performance in structured answers score.'}, {'Overall Score': 5.2564592361450195, 'Recommendation Score': 5.250494956970215, 'Structured Answers Score': 4.964630603790283, 'Feedback': 'Acceptable performance in overall score. | Acceptable performance in recommendation score. | Acceptable performance in structured answers score.'}]\n",
      "[{'Overall Score': 5.259183406829834, 'Recommendation Score': 5.252085208892822, 'Structured Answers Score': 4.963501930236816, 'Feedback': 'Acceptable performance in overall score. | Acceptable performance in recommendation score. | Acceptable performance in structured answers score.'}, {'Overall Score': 5.250974655151367, 'Recommendation Score': 5.246588230133057, 'Structured Answers Score': 4.939126014709473, 'Feedback': 'Acceptable performance in overall score. | Acceptable performance in recommendation score. | Acceptable performance in structured answers score.'}, {'Overall Score': 5.243683338165283, 'Recommendation Score': 5.242770671844482, 'Structured Answers Score': 4.931207656860352, 'Feedback': 'Acceptable performance in overall score. | Acceptable performance in recommendation score. | Good performance in structured answers score compared to the expected score.'}, {'Overall Score': 5.254136085510254, 'Recommendation Score': 5.248075485229492, 'Structured Answers Score': 4.94713830947876, 'Feedback': 'Acceptable performance in overall score. | Acceptable performance in recommendation score. | Acceptable performance in structured answers score.'}]\n",
      "Validation Loss: 0.5274\n"
     ]
    },
    {
     "name": "stderr",
     "output_type": "stream",
     "text": [
      "Epoch 8/10: 100%|██████████| 14/14 [03:44<00:00, 16.00s/it]\n"
     ]
    },
    {
     "name": "stdout",
     "output_type": "stream",
     "text": [
      "Epoch 8 | Train Loss: 0.7170\n",
      "[{'Overall Score': 5.285871982574463, 'Recommendation Score': 5.290065288543701, 'Structured Answers Score': 4.980426788330078, 'Feedback': 'Acceptable performance in overall score. | Acceptable performance in recommendation score. | Acceptable performance in structured answers score.'}, {'Overall Score': 5.289219856262207, 'Recommendation Score': 5.290253162384033, 'Structured Answers Score': 4.977130889892578, 'Feedback': 'Acceptable performance in overall score. | Acceptable performance in recommendation score. | Acceptable performance in structured answers score.'}, {'Overall Score': 5.273530960083008, 'Recommendation Score': 5.281993389129639, 'Structured Answers Score': 4.923272132873535, 'Feedback': 'Acceptable performance in overall score. | Acceptable performance in recommendation score. | Acceptable performance in structured answers score.'}, {'Overall Score': 5.2808003425598145, 'Recommendation Score': 5.287117958068848, 'Structured Answers Score': 4.955615043640137, 'Feedback': 'Acceptable performance in overall score. | Acceptable performance in recommendation score. | Acceptable performance in structured answers score.'}, {'Overall Score': 5.2751946449279785, 'Recommendation Score': 5.287408828735352, 'Structured Answers Score': 4.947515487670898, 'Feedback': 'Acceptable performance in overall score. | Acceptable performance in recommendation score. | Acceptable performance in structured answers score.'}, {'Overall Score': 5.274078845977783, 'Recommendation Score': 5.284470081329346, 'Structured Answers Score': 4.927813529968262, 'Feedback': 'Acceptable performance in overall score. | Good performance in recommendation score compared to the expected score. | Good performance in structured answers score compared to the expected score.'}, {'Overall Score': 5.281000137329102, 'Recommendation Score': 5.2835516929626465, 'Structured Answers Score': 4.943012237548828, 'Feedback': 'Acceptable performance in overall score. | Acceptable performance in recommendation score. | Acceptable performance in structured answers score.'}, {'Overall Score': 5.284457683563232, 'Recommendation Score': 5.288472652435303, 'Structured Answers Score': 4.96695613861084, 'Feedback': 'Acceptable performance in overall score. | Acceptable performance in recommendation score. | Acceptable performance in structured answers score.'}]\n",
      "[{'Overall Score': 5.284839630126953, 'Recommendation Score': 5.288868427276611, 'Structured Answers Score': 4.9723591804504395, 'Feedback': 'Acceptable performance in overall score. | Acceptable performance in recommendation score. | Acceptable performance in structured answers score.'}, {'Overall Score': 5.2845778465271, 'Recommendation Score': 5.286359786987305, 'Structured Answers Score': 4.96877384185791, 'Feedback': 'Acceptable performance in overall score. | Good performance in recommendation score compared to the expected score. | Acceptable performance in structured answers score.'}, {'Overall Score': 5.282843112945557, 'Recommendation Score': 5.293808460235596, 'Structured Answers Score': 4.971453666687012, 'Feedback': 'Acceptable performance in overall score. | Acceptable performance in recommendation score. | Acceptable performance in structured answers score.'}, {'Overall Score': 5.270618438720703, 'Recommendation Score': 5.282740592956543, 'Structured Answers Score': 4.922407150268555, 'Feedback': 'Acceptable performance in overall score. | Acceptable performance in recommendation score. | Good performance in structured answers score compared to the expected score.'}, {'Overall Score': 5.286102771759033, 'Recommendation Score': 5.288630962371826, 'Structured Answers Score': 4.967382907867432, 'Feedback': 'Acceptable performance in overall score. | Acceptable performance in recommendation score. | Acceptable performance in structured answers score.'}, {'Overall Score': 5.282358646392822, 'Recommendation Score': 5.28948450088501, 'Structured Answers Score': 4.961030006408691, 'Feedback': 'Acceptable performance in overall score. | Good performance in recommendation score compared to the expected score. | Good performance in structured answers score compared to the expected score.'}, {'Overall Score': 5.281670093536377, 'Recommendation Score': 5.289182186126709, 'Structured Answers Score': 4.959708213806152, 'Feedback': 'Acceptable performance in overall score. | Acceptable performance in recommendation score. | Good performance in structured answers score compared to the expected score.'}, {'Overall Score': 5.272235870361328, 'Recommendation Score': 5.284301280975342, 'Structured Answers Score': 4.925010681152344, 'Feedback': 'Acceptable performance in overall score. | Acceptable performance in recommendation score. | Acceptable performance in structured answers score.'}]\n",
      "[{'Overall Score': 5.27907657623291, 'Recommendation Score': 5.284118175506592, 'Structured Answers Score': 4.938397407531738, 'Feedback': 'Acceptable performance in overall score. | Acceptable performance in recommendation score. | Acceptable performance in structured answers score.'}, {'Overall Score': 5.285238265991211, 'Recommendation Score': 5.286053657531738, 'Structured Answers Score': 4.944214820861816, 'Feedback': 'Needs improvement in overall score as it was scored lower than expected. | Acceptable performance in recommendation score. | Acceptable performance in structured answers score.'}, {'Overall Score': 5.290069580078125, 'Recommendation Score': 5.2917866706848145, 'Structured Answers Score': 4.976230621337891, 'Feedback': 'Good performance in overall score compared to the expected score. | Good performance in recommendation score compared to the expected score. | Good performance in structured answers score compared to the expected score.'}, {'Overall Score': 5.285277366638184, 'Recommendation Score': 5.289496898651123, 'Structured Answers Score': 4.990748882293701, 'Feedback': 'Acceptable performance in overall score. | Acceptable performance in recommendation score. | Acceptable performance in structured answers score.'}, {'Overall Score': 5.288823127746582, 'Recommendation Score': 5.290475845336914, 'Structured Answers Score': 4.978869915008545, 'Feedback': 'Acceptable performance in overall score. | Acceptable performance in recommendation score. | Acceptable performance in structured answers score.'}, {'Overall Score': 5.278351783752441, 'Recommendation Score': 5.286386966705322, 'Structured Answers Score': 4.93723201751709, 'Feedback': 'Good performance in overall score compared to the expected score. | Acceptable performance in recommendation score. | Acceptable performance in structured answers score.'}, {'Overall Score': 5.281641006469727, 'Recommendation Score': 5.288053035736084, 'Structured Answers Score': 4.945422649383545, 'Feedback': 'Acceptable performance in overall score. | Acceptable performance in recommendation score. | Acceptable performance in structured answers score.'}, {'Overall Score': 5.282398223876953, 'Recommendation Score': 5.28838586807251, 'Structured Answers Score': 4.959210395812988, 'Feedback': 'Acceptable performance in overall score. | Acceptable performance in recommendation score. | Acceptable performance in structured answers score.'}]\n",
      "[{'Overall Score': 5.28410530090332, 'Recommendation Score': 5.289949417114258, 'Structured Answers Score': 4.95687198638916, 'Feedback': 'Acceptable performance in overall score. | Acceptable performance in recommendation score. | Acceptable performance in structured answers score.'}, {'Overall Score': 5.27849006652832, 'Recommendation Score': 5.285857200622559, 'Structured Answers Score': 4.930922508239746, 'Feedback': 'Acceptable performance in overall score. | Acceptable performance in recommendation score. | Acceptable performance in structured answers score.'}, {'Overall Score': 5.271770477294922, 'Recommendation Score': 5.2820892333984375, 'Structured Answers Score': 4.92232608795166, 'Feedback': 'Acceptable performance in overall score. | Acceptable performance in recommendation score. | Good performance in structured answers score compared to the expected score.'}, {'Overall Score': 5.278313159942627, 'Recommendation Score': 5.284369468688965, 'Structured Answers Score': 4.937711715698242, 'Feedback': 'Acceptable performance in overall score. | Acceptable performance in recommendation score. | Acceptable performance in structured answers score.'}]\n",
      "Validation Loss: 0.5350\n"
     ]
    },
    {
     "name": "stderr",
     "output_type": "stream",
     "text": [
      "Epoch 9/10: 100%|██████████| 14/14 [03:45<00:00, 16.08s/it]\n"
     ]
    },
    {
     "name": "stdout",
     "output_type": "stream",
     "text": [
      "Epoch 9 | Train Loss: 0.7026\n",
      "[{'Overall Score': 5.318820476531982, 'Recommendation Score': 5.121893405914307, 'Structured Answers Score': 5.118617057800293, 'Feedback': 'Acceptable performance in overall score. | Needs improvement in recommendation score as it was scored lower than expected. | Acceptable performance in structured answers score.'}, {'Overall Score': 5.320972442626953, 'Recommendation Score': 5.120486259460449, 'Structured Answers Score': 5.112656116485596, 'Feedback': 'Acceptable performance in overall score. | Acceptable performance in recommendation score. | Acceptable performance in structured answers score.'}, {'Overall Score': 5.30844259262085, 'Recommendation Score': 5.106199741363525, 'Structured Answers Score': 5.05436372756958, 'Feedback': 'Acceptable performance in overall score. | Acceptable performance in recommendation score. | Acceptable performance in structured answers score.'}, {'Overall Score': 5.314233303070068, 'Recommendation Score': 5.114711284637451, 'Structured Answers Score': 5.089067459106445, 'Feedback': 'Acceptable performance in overall score. | Acceptable performance in recommendation score. | Acceptable performance in structured answers score.'}, {'Overall Score': 5.3093485832214355, 'Recommendation Score': 5.114955902099609, 'Structured Answers Score': 5.081990718841553, 'Feedback': 'Acceptable performance in overall score. | Acceptable performance in recommendation score. | Acceptable performance in structured answers score.'}, {'Overall Score': 5.3088603019714355, 'Recommendation Score': 5.108657360076904, 'Structured Answers Score': 5.0583038330078125, 'Feedback': 'Acceptable performance in overall score. | Good performance in recommendation score compared to the expected score. | Good performance in structured answers score compared to the expected score.'}, {'Overall Score': 5.312698841094971, 'Recommendation Score': 5.107764720916748, 'Structured Answers Score': 5.072716236114502, 'Feedback': 'Acceptable performance in overall score. | Needs improvement in recommendation score as it was scored lower than expected. | Acceptable performance in structured answers score.'}, {'Overall Score': 5.317667484283447, 'Recommendation Score': 5.117406368255615, 'Structured Answers Score': 5.102241039276123, 'Feedback': 'Acceptable performance in overall score. | Acceptable performance in recommendation score. | Acceptable performance in structured answers score.'}]\n",
      "[{'Overall Score': 5.317163944244385, 'Recommendation Score': 5.11934232711792, 'Structured Answers Score': 5.108666896820068, 'Feedback': 'Acceptable performance in overall score. | Acceptable performance in recommendation score. | Acceptable performance in structured answers score.'}, {'Overall Score': 5.31766939163208, 'Recommendation Score': 5.1157546043396, 'Structured Answers Score': 5.104663372039795, 'Feedback': 'Good performance in overall score compared to the expected score. | Acceptable performance in recommendation score. | Acceptable performance in structured answers score.'}, {'Overall Score': 5.315135478973389, 'Recommendation Score': 5.124500751495361, 'Structured Answers Score': 5.106987476348877, 'Feedback': 'Acceptable performance in overall score. | Acceptable performance in recommendation score. | Acceptable performance in structured answers score.'}, {'Overall Score': 5.3060688972473145, 'Recommendation Score': 5.107079029083252, 'Structured Answers Score': 5.052616596221924, 'Feedback': 'Acceptable performance in overall score. | Acceptable performance in recommendation score. | Good performance in structured answers score compared to the expected score.'}, {'Overall Score': 5.318306922912598, 'Recommendation Score': 5.1176276206970215, 'Structured Answers Score': 5.101983070373535, 'Feedback': 'Acceptable performance in overall score. | Acceptable performance in recommendation score. | Acceptable performance in structured answers score.'}, {'Overall Score': 5.315540790557861, 'Recommendation Score': 5.118340492248535, 'Structured Answers Score': 5.095848560333252, 'Feedback': 'Acceptable performance in overall score. | Acceptable performance in recommendation score. | Good performance in structured answers score compared to the expected score.'}, {'Overall Score': 5.3155741691589355, 'Recommendation Score': 5.118947505950928, 'Structured Answers Score': 5.0955729484558105, 'Feedback': 'Acceptable performance in overall score. | Acceptable performance in recommendation score. | Good performance in structured answers score compared to the expected score.'}, {'Overall Score': 5.308493137359619, 'Recommendation Score': 5.1093831062316895, 'Structured Answers Score': 5.0575270652771, 'Feedback': 'Acceptable performance in overall score. | Acceptable performance in recommendation score. | Acceptable performance in structured answers score.'}]\n",
      "[{'Overall Score': 5.313710689544678, 'Recommendation Score': 5.1091461181640625, 'Structured Answers Score': 5.069965839385986, 'Feedback': 'Acceptable performance in overall score. | Acceptable performance in recommendation score. | Acceptable performance in structured answers score.'}, {'Overall Score': 5.318297386169434, 'Recommendation Score': 5.111729145050049, 'Structured Answers Score': 5.075129508972168, 'Feedback': 'Acceptable performance in overall score. | Needs improvement in recommendation score as it was scored lower than expected. | Acceptable performance in structured answers score.'}, {'Overall Score': 5.322653293609619, 'Recommendation Score': 5.124076843261719, 'Structured Answers Score': 5.113915920257568, 'Feedback': 'Good performance in overall score compared to the expected score. | Good performance in recommendation score compared to the expected score. | Good performance in structured answers score compared to the expected score.'}, {'Overall Score': 5.317005634307861, 'Recommendation Score': 5.122464656829834, 'Structured Answers Score': 5.130289554595947, 'Feedback': 'Acceptable performance in overall score. | Acceptable performance in recommendation score. | Acceptable performance in structured answers score.'}, {'Overall Score': 5.320132255554199, 'Recommendation Score': 5.121521472930908, 'Structured Answers Score': 5.114596843719482, 'Feedback': 'Acceptable performance in overall score. | Acceptable performance in recommendation score. | Acceptable performance in structured answers score.'}, {'Overall Score': 5.312681674957275, 'Recommendation Score': 5.112037658691406, 'Structured Answers Score': 5.0689005851745605, 'Feedback': 'Good performance in overall score compared to the expected score. | Acceptable performance in recommendation score. | Acceptable performance in structured answers score.'}, {'Overall Score': 5.316844940185547, 'Recommendation Score': 5.114941120147705, 'Structured Answers Score': 5.0789475440979, 'Feedback': 'Acceptable performance in overall score. | Acceptable performance in recommendation score. | Good performance in structured answers score compared to the expected score.'}, {'Overall Score': 5.314671993255615, 'Recommendation Score': 5.115886211395264, 'Structured Answers Score': 5.092808246612549, 'Feedback': 'Acceptable performance in overall score. | Acceptable performance in recommendation score. | Acceptable performance in structured answers score.'}]\n",
      "[{'Overall Score': 5.316917419433594, 'Recommendation Score': 5.1179609298706055, 'Structured Answers Score': 5.090729236602783, 'Feedback': 'Acceptable performance in overall score. | Acceptable performance in recommendation score. | Acceptable performance in structured answers score.'}, {'Overall Score': 5.313426494598389, 'Recommendation Score': 5.110625743865967, 'Structured Answers Score': 5.061324596405029, 'Feedback': 'Acceptable performance in overall score. | Acceptable performance in recommendation score. | Acceptable performance in structured answers score.'}, {'Overall Score': 5.305696964263916, 'Recommendation Score': 5.105589389801025, 'Structured Answers Score': 5.051162242889404, 'Feedback': 'Acceptable performance in overall score. | Acceptable performance in recommendation score. | Good performance in structured answers score compared to the expected score.'}, {'Overall Score': 5.313536167144775, 'Recommendation Score': 5.1103386878967285, 'Structured Answers Score': 5.070763111114502, 'Feedback': 'Acceptable performance in overall score. | Acceptable performance in recommendation score. | Acceptable performance in structured answers score.'}]\n",
      "Validation Loss: 0.5570\n"
     ]
    },
    {
     "name": "stderr",
     "output_type": "stream",
     "text": [
      "Epoch 10/10: 100%|██████████| 14/14 [05:16<00:00, 22.57s/it]\n"
     ]
    },
    {
     "name": "stdout",
     "output_type": "stream",
     "text": [
      "Epoch 10 | Train Loss: 0.6495\n",
      "[{'Overall Score': 5.476034164428711, 'Recommendation Score': 5.117554664611816, 'Structured Answers Score': 5.182258605957031, 'Feedback': 'Acceptable performance in overall score. | Needs improvement in recommendation score as it was scored lower than expected. | Acceptable performance in structured answers score.'}, {'Overall Score': 5.477519989013672, 'Recommendation Score': 5.11517858505249, 'Structured Answers Score': 5.173577785491943, 'Feedback': 'Acceptable performance in overall score. | Acceptable performance in recommendation score. | Acceptable performance in structured answers score.'}, {'Overall Score': 5.468263626098633, 'Recommendation Score': 5.097415924072266, 'Structured Answers Score': 5.10376501083374, 'Feedback': 'Acceptable performance in overall score. | Acceptable performance in recommendation score. | Acceptable performance in structured answers score.'}, {'Overall Score': 5.472517967224121, 'Recommendation Score': 5.108067512512207, 'Structured Answers Score': 5.145810604095459, 'Feedback': 'Acceptable performance in overall score. | Acceptable performance in recommendation score. | Acceptable performance in structured answers score.'}, {'Overall Score': 5.469160556793213, 'Recommendation Score': 5.108465194702148, 'Structured Answers Score': 5.138543128967285, 'Feedback': 'Acceptable performance in overall score. | Acceptable performance in recommendation score. | Acceptable performance in structured answers score.'}, {'Overall Score': 5.467576026916504, 'Recommendation Score': 5.099544525146484, 'Structured Answers Score': 5.107765197753906, 'Feedback': 'Acceptable performance in overall score. | Good performance in recommendation score compared to the expected score. | Good performance in structured answers score compared to the expected score.'}, {'Overall Score': 5.469287872314453, 'Recommendation Score': 5.097332000732422, 'Structured Answers Score': 5.124352931976318, 'Feedback': 'Acceptable performance in overall score. | Needs improvement in recommendation score as it was scored lower than expected. | Acceptable performance in structured answers score.'}, {'Overall Score': 5.47536039352417, 'Recommendation Score': 5.111532688140869, 'Structured Answers Score': 5.161530017852783, 'Feedback': 'Acceptable performance in overall score. | Acceptable performance in recommendation score. | Acceptable performance in structured answers score.'}]\n",
      "[{'Overall Score': 5.474986553192139, 'Recommendation Score': 5.114278316497803, 'Structured Answers Score': 5.169996738433838, 'Feedback': 'Acceptable performance in overall score. | Acceptable performance in recommendation score. | Acceptable performance in structured answers score.'}, {'Overall Score': 5.47524881362915, 'Recommendation Score': 5.10957145690918, 'Structured Answers Score': 5.164660930633545, 'Feedback': 'Good performance in overall score compared to the expected score. | Acceptable performance in recommendation score. | Acceptable performance in structured answers score.'}, {'Overall Score': 5.472537994384766, 'Recommendation Score': 5.120255947113037, 'Structured Answers Score': 5.168652534484863, 'Feedback': 'Acceptable performance in overall score. | Acceptable performance in recommendation score. | Acceptable performance in structured answers score.'}, {'Overall Score': 5.464516639709473, 'Recommendation Score': 5.099117279052734, 'Structured Answers Score': 5.101276874542236, 'Feedback': 'Acceptable performance in overall score. | Acceptable performance in recommendation score. | Good performance in structured answers score compared to the expected score.'}, {'Overall Score': 5.475234508514404, 'Recommendation Score': 5.1120195388793945, 'Structured Answers Score': 5.16078519821167, 'Feedback': 'Acceptable performance in overall score. | Acceptable performance in recommendation score. | Acceptable performance in structured answers score.'}, {'Overall Score': 5.47450590133667, 'Recommendation Score': 5.112272262573242, 'Structured Answers Score': 5.154780864715576, 'Feedback': 'Acceptable performance in overall score. | Acceptable performance in recommendation score. | Good performance in structured answers score compared to the expected score.'}, {'Overall Score': 5.474830627441406, 'Recommendation Score': 5.114341735839844, 'Structured Answers Score': 5.15515661239624, 'Feedback': 'Acceptable performance in overall score. | Acceptable performance in recommendation score. | Good performance in structured answers score compared to the expected score.'}, {'Overall Score': 5.469538688659668, 'Recommendation Score': 5.1021318435668945, 'Structured Answers Score': 5.108853340148926, 'Feedback': 'Acceptable performance in overall score. | Acceptable performance in recommendation score. | Good performance in structured answers score compared to the expected score.'}]\n",
      "[{'Overall Score': 5.471774101257324, 'Recommendation Score': 5.101302623748779, 'Structured Answers Score': 5.122032642364502, 'Feedback': 'Acceptable performance in overall score. | Acceptable performance in recommendation score. | Acceptable performance in structured answers score.'}, {'Overall Score': 5.47614860534668, 'Recommendation Score': 5.104423522949219, 'Structured Answers Score': 5.127321720123291, 'Feedback': 'Acceptable performance in overall score. | Needs improvement in recommendation score as it was scored lower than expected. | Acceptable performance in structured answers score.'}, {'Overall Score': 5.480727672576904, 'Recommendation Score': 5.120150089263916, 'Structured Answers Score': 5.176558017730713, 'Feedback': 'Good performance in overall score compared to the expected score. | Good performance in recommendation score compared to the expected score. | Good performance in structured answers score compared to the expected score.'}, {'Overall Score': 5.473656177520752, 'Recommendation Score': 5.118745803833008, 'Structured Answers Score': 5.197439670562744, 'Feedback': 'Acceptable performance in overall score. | Acceptable performance in recommendation score. | Acceptable performance in structured answers score.'}, {'Overall Score': 5.4764204025268555, 'Recommendation Score': 5.116452217102051, 'Structured Answers Score': 5.176712512969971, 'Feedback': 'Acceptable performance in overall score. | Acceptable performance in recommendation score. | Acceptable performance in structured answers score.'}, {'Overall Score': 5.472068786621094, 'Recommendation Score': 5.104288101196289, 'Structured Answers Score': 5.121241569519043, 'Feedback': 'Good performance in overall score compared to the expected score. | Acceptable performance in recommendation score. | Acceptable performance in structured answers score.'}, {'Overall Score': 5.476292610168457, 'Recommendation Score': 5.108685493469238, 'Structured Answers Score': 5.133327484130859, 'Feedback': 'Acceptable performance in overall score. | Acceptable performance in recommendation score. | Good performance in structured answers score compared to the expected score.'}, {'Overall Score': 5.472400665283203, 'Recommendation Score': 5.109602451324463, 'Structured Answers Score': 5.149742126464844, 'Feedback': 'Acceptable performance in overall score. | Acceptable performance in recommendation score. | Acceptable performance in structured answers score.'}]\n",
      "[{'Overall Score': 5.475255966186523, 'Recommendation Score': 5.111832618713379, 'Structured Answers Score': 5.147997856140137, 'Feedback': 'Acceptable performance in overall score. | Acceptable performance in recommendation score. | Acceptable performance in structured answers score.'}, {'Overall Score': 5.4720048904418945, 'Recommendation Score': 5.10274600982666, 'Structured Answers Score': 5.111461162567139, 'Feedback': 'Acceptable performance in overall score. | Acceptable performance in recommendation score. | Acceptable performance in structured answers score.'}, {'Overall Score': 5.464427947998047, 'Recommendation Score': 5.097414016723633, 'Structured Answers Score': 5.10076904296875, 'Feedback': 'Good performance in overall score compared to the expected score. | Acceptable performance in recommendation score. | Good performance in structured answers score compared to the expected score.'}, {'Overall Score': 5.473838806152344, 'Recommendation Score': 5.102903366088867, 'Structured Answers Score': 5.123050689697266, 'Feedback': 'Acceptable performance in overall score. | Acceptable performance in recommendation score. | Acceptable performance in structured answers score.'}]\n",
      "Validation Loss: 0.6084\n"
     ]
    }
   ],
   "source": [
    "trainer.train()"
   ]
  },
  {
   "cell_type": "code",
   "execution_count": 92,
   "id": "530948a0",
   "metadata": {},
   "outputs": [
    {
     "name": "stdout",
     "output_type": "stream",
     "text": [
      "Model checkpoint saved to checkpoint_path.pth\n"
     ]
    }
   ],
   "source": [
    "\n",
    "checkpoint_path = \"checkpoint_path.pth\"\n",
    "torch.save(model.state_dict(), checkpoint_path)\n",
    "print(f\"Model checkpoint saved to {checkpoint_path}\")\n"
   ]
  },
  {
   "cell_type": "code",
   "execution_count": 44,
   "id": "77654f4e7824a1c4",
   "metadata": {
    "ExecuteTime": {
     "end_time": "2024-11-28T02:20:53.358080Z",
     "start_time": "2024-11-28T02:20:52.266317Z"
    },
    "collapsed": false,
    "jupyter": {
     "outputs_hidden": false
    }
   },
   "outputs": [],
   "source": [
    "\n",
    "model2 = HierarchicalInterviewScorer().to(device)\n",
    "optimizer2 = torch.optim.AdamW(model2.parameters(), lr=0.0001)\n",
    "trainer2 = Trainer(\n",
    "\tmodel=model2,\n",
    "\ttrain_loader=train_loader,\n",
    "\tval_loader=val_loader,\n",
    "\toptimizer=optimizer2,\n",
    "\tdevice=device,\n",
    "\tmax_epochs=10\n",
    ")"
   ]
  },
  {
   "cell_type": "code",
   "execution_count": 45,
   "id": "86715e05426ebe7e",
   "metadata": {
    "ExecuteTime": {
     "start_time": "2024-11-28T02:21:00.107901Z"
    },
    "collapsed": false,
    "is_executing": true,
    "jupyter": {
     "outputs_hidden": false
    }
   },
   "outputs": [
    {
     "name": "stderr",
     "output_type": "stream",
     "text": [
      "Epoch 1/10: 100%|██████████| 14/14 [03:44<00:00, 16.01s/it]\n"
     ]
    },
    {
     "name": "stdout",
     "output_type": "stream",
     "text": [
      "Epoch 1 | Train Loss: 6.5551\n",
      "[{'Overall Score': 4.614448547363281, 'Recommendation Score': 4.68245792388916, 'Structured Answers Score': 4.663455486297607, 'Feedback': 'Needs improvement in overall score as it was scored lower than expected. | Needs improvement in recommendation score as it was scored lower than expected. | Acceptable performance in structured answers score.'}, {'Overall Score': 4.616335391998291, 'Recommendation Score': 4.6807541847229, 'Structured Answers Score': 4.664781093597412, 'Feedback': 'Acceptable performance in overall score. | Acceptable performance in recommendation score. | Acceptable performance in structured answers score.'}, {'Overall Score': 4.636183738708496, 'Recommendation Score': 4.67323637008667, 'Structured Answers Score': 4.658263683319092, 'Feedback': 'Needs improvement in overall score as it was scored lower than expected. | Needs improvement in recommendation score as it was scored lower than expected. | Acceptable performance in structured answers score.'}, {'Overall Score': 4.6259684562683105, 'Recommendation Score': 4.678720474243164, 'Structured Answers Score': 4.661194324493408, 'Feedback': 'Needs improvement in overall score as it was scored lower than expected. | Acceptable performance in recommendation score. | Acceptable performance in structured answers score.'}, {'Overall Score': 4.627579212188721, 'Recommendation Score': 4.67786979675293, 'Structured Answers Score': 4.660763263702393, 'Feedback': 'Needs improvement in overall score as it was scored lower than expected. | Acceptable performance in recommendation score. | Acceptable performance in structured answers score.'}, {'Overall Score': 4.631512641906738, 'Recommendation Score': 4.673936367034912, 'Structured Answers Score': 4.6616291999816895, 'Feedback': 'Acceptable performance in overall score. | Acceptable performance in recommendation score. | Good performance in structured answers score compared to the expected score.'}, {'Overall Score': 4.621090412139893, 'Recommendation Score': 4.676875114440918, 'Structured Answers Score': 4.673335075378418, 'Feedback': 'Needs improvement in overall score as it was scored lower than expected. | Needs improvement in recommendation score as it was scored lower than expected. | Acceptable performance in structured answers score.'}, {'Overall Score': 4.619997024536133, 'Recommendation Score': 4.67930269241333, 'Structured Answers Score': 4.663688659667969, 'Feedback': 'Needs improvement in overall score as it was scored lower than expected. | Needs improvement in recommendation score as it was scored lower than expected. | Acceptable performance in structured answers score.'}]\n",
      "[{'Overall Score': 4.618353366851807, 'Recommendation Score': 4.681258201599121, 'Structured Answers Score': 4.664021968841553, 'Feedback': 'Acceptable performance in overall score. | Acceptable performance in recommendation score. | Acceptable performance in structured answers score.'}, {'Overall Score': 4.616883277893066, 'Recommendation Score': 4.680641174316406, 'Structured Answers Score': 4.6648030281066895, 'Feedback': 'Acceptable performance in overall score. | Acceptable performance in recommendation score. | Acceptable performance in structured answers score.'}, {'Overall Score': 4.619806289672852, 'Recommendation Score': 4.678555011749268, 'Structured Answers Score': 4.661046504974365, 'Feedback': 'Acceptable performance in overall score. | Acceptable performance in recommendation score. | Acceptable performance in structured answers score.'}, {'Overall Score': 4.638223648071289, 'Recommendation Score': 4.6711955070495605, 'Structured Answers Score': 4.657311916351318, 'Feedback': 'Acceptable performance in overall score. | Acceptable performance in recommendation score. | Acceptable performance in structured answers score.'}, {'Overall Score': 4.6178975105285645, 'Recommendation Score': 4.679870128631592, 'Structured Answers Score': 4.666067123413086, 'Feedback': 'Acceptable performance in overall score. | Acceptable performance in recommendation score. | Acceptable performance in structured answers score.'}, {'Overall Score': 4.623562335968018, 'Recommendation Score': 4.678256511688232, 'Structured Answers Score': 4.661726951599121, 'Feedback': 'Acceptable performance in overall score. | Acceptable performance in recommendation score. | Good performance in structured answers score compared to the expected score.'}, {'Overall Score': 4.624996662139893, 'Recommendation Score': 4.678133487701416, 'Structured Answers Score': 4.659341335296631, 'Feedback': 'Acceptable performance in overall score. | Acceptable performance in recommendation score. | Acceptable performance in structured answers score.'}, {'Overall Score': 4.633506774902344, 'Recommendation Score': 4.671621799468994, 'Structured Answers Score': 4.661693096160889, 'Feedback': 'Acceptable performance in overall score. | Acceptable performance in recommendation score. | Acceptable performance in structured answers score.'}]\n",
      "[{'Overall Score': 4.630336284637451, 'Recommendation Score': 4.674935817718506, 'Structured Answers Score': 4.663703441619873, 'Feedback': 'Acceptable performance in overall score. | Acceptable performance in recommendation score. | Acceptable performance in structured answers score.'}, {'Overall Score': 4.632443428039551, 'Recommendation Score': 4.673085689544678, 'Structured Answers Score': 4.663147449493408, 'Feedback': 'Needs improvement in overall score as it was scored lower than expected. | Needs improvement in recommendation score as it was scored lower than expected. | Acceptable performance in structured answers score.'}, {'Overall Score': 4.619941234588623, 'Recommendation Score': 4.681202411651611, 'Structured Answers Score': 4.661448001861572, 'Feedback': 'Acceptable performance in overall score. | Good performance in recommendation score compared to the expected score. | Good performance in structured answers score compared to the expected score.'}, {'Overall Score': 4.6105451583862305, 'Recommendation Score': 4.684646129608154, 'Structured Answers Score': 4.6621994972229, 'Feedback': 'Acceptable performance in overall score. | Acceptable performance in recommendation score. | Acceptable performance in structured answers score.'}, {'Overall Score': 4.612775802612305, 'Recommendation Score': 4.6814656257629395, 'Structured Answers Score': 4.6659932136535645, 'Feedback': 'Acceptable performance in overall score. | Acceptable performance in recommendation score. | Acceptable performance in structured answers score.'}, {'Overall Score': 4.631058692932129, 'Recommendation Score': 4.672465801239014, 'Structured Answers Score': 4.663126468658447, 'Feedback': 'Acceptable performance in overall score. | Acceptable performance in recommendation score. | Acceptable performance in structured answers score.'}, {'Overall Score': 4.628933906555176, 'Recommendation Score': 4.6749958992004395, 'Structured Answers Score': 4.662024021148682, 'Feedback': 'Acceptable performance in overall score. | Acceptable performance in recommendation score. | Acceptable performance in structured answers score.'}, {'Overall Score': 4.6233015060424805, 'Recommendation Score': 4.679441928863525, 'Structured Answers Score': 4.664874076843262, 'Feedback': 'Acceptable performance in overall score. | Acceptable performance in recommendation score. | Acceptable performance in structured answers score.'}]\n",
      "[{'Overall Score': 4.62177038192749, 'Recommendation Score': 4.679179668426514, 'Structured Answers Score': 4.666408061981201, 'Feedback': 'Acceptable performance in overall score. | Acceptable performance in recommendation score. | Acceptable performance in structured answers score.'}, {'Overall Score': 4.632739067077637, 'Recommendation Score': 4.6722822189331055, 'Structured Answers Score': 4.660809516906738, 'Feedback': 'Acceptable performance in overall score. | Acceptable performance in recommendation score. | Acceptable performance in structured answers score.'}, {'Overall Score': 4.635961055755615, 'Recommendation Score': 4.6717209815979, 'Structured Answers Score': 4.660610675811768, 'Feedback': 'Acceptable performance in overall score. | Acceptable performance in recommendation score. | Acceptable performance in structured answers score.'}, {'Overall Score': 4.629217147827148, 'Recommendation Score': 4.674172878265381, 'Structured Answers Score': 4.662614345550537, 'Feedback': 'Acceptable performance in overall score. | Acceptable performance in recommendation score. | Acceptable performance in structured answers score.'}]\n",
      "Validation Loss: 0.5482\n"
     ]
    },
    {
     "name": "stderr",
     "output_type": "stream",
     "text": [
      "Epoch 2/10: 100%|██████████| 14/14 [04:51<00:00, 20.81s/it]\n"
     ]
    },
    {
     "name": "stdout",
     "output_type": "stream",
     "text": [
      "Epoch 2 | Train Loss: 0.7919\n",
      "[{'Overall Score': 5.670413970947266, 'Recommendation Score': 5.4271626472473145, 'Structured Answers Score': 5.318065643310547, 'Feedback': 'Acceptable performance in overall score. | Acceptable performance in recommendation score. | Acceptable performance in structured answers score.'}, {'Overall Score': 5.671156883239746, 'Recommendation Score': 5.427167892456055, 'Structured Answers Score': 5.322759628295898, 'Feedback': 'Acceptable performance in overall score. | Acceptable performance in recommendation score. | Acceptable performance in structured answers score.'}, {'Overall Score': 5.674807548522949, 'Recommendation Score': 5.4202680587768555, 'Structured Answers Score': 5.308752536773682, 'Feedback': 'Acceptable performance in overall score. | Acceptable performance in recommendation score. | Acceptable performance in structured answers score.'}, {'Overall Score': 5.673042297363281, 'Recommendation Score': 5.423954010009766, 'Structured Answers Score': 5.314028263092041, 'Feedback': 'Acceptable performance in overall score. | Acceptable performance in recommendation score. | Acceptable performance in structured answers score.'}, {'Overall Score': 5.67363977432251, 'Recommendation Score': 5.4231858253479, 'Structured Answers Score': 5.3114190101623535, 'Feedback': 'Acceptable performance in overall score. | Acceptable performance in recommendation score. | Acceptable performance in structured answers score.'}, {'Overall Score': 5.673595428466797, 'Recommendation Score': 5.421879768371582, 'Structured Answers Score': 5.3125715255737305, 'Feedback': 'Good performance in overall score compared to the expected score. | Good performance in recommendation score compared to the expected score. | Good performance in structured answers score compared to the expected score.'}, {'Overall Score': 5.672407627105713, 'Recommendation Score': 5.4255781173706055, 'Structured Answers Score': 5.324958801269531, 'Feedback': 'Acceptable performance in overall score. | Acceptable performance in recommendation score. | Acceptable performance in structured answers score.'}, {'Overall Score': 5.671135902404785, 'Recommendation Score': 5.425504207611084, 'Structured Answers Score': 5.318576335906982, 'Feedback': 'Acceptable performance in overall score. | Acceptable performance in recommendation score. | Acceptable performance in structured answers score.'}]\n",
      "[{'Overall Score': 5.671895503997803, 'Recommendation Score': 5.426872253417969, 'Structured Answers Score': 5.3182053565979, 'Feedback': 'Acceptable performance in overall score. | Acceptable performance in recommendation score. | Acceptable performance in structured answers score.'}, {'Overall Score': 5.671104431152344, 'Recommendation Score': 5.426552772521973, 'Structured Answers Score': 5.319516658782959, 'Feedback': 'Good performance in overall score compared to the expected score. | Good performance in recommendation score compared to the expected score. | Acceptable performance in structured answers score.'}, {'Overall Score': 5.6708173751831055, 'Recommendation Score': 5.425823211669922, 'Structured Answers Score': 5.319773197174072, 'Feedback': 'Acceptable performance in overall score. | Acceptable performance in recommendation score. | Good performance in structured answers score compared to the expected score.'}, {'Overall Score': 5.675053596496582, 'Recommendation Score': 5.418477535247803, 'Structured Answers Score': 5.306920528411865, 'Feedback': 'Acceptable performance in overall score. | Acceptable performance in recommendation score. | Good performance in structured answers score compared to the expected score.'}, {'Overall Score': 5.671194553375244, 'Recommendation Score': 5.426225185394287, 'Structured Answers Score': 5.3216376304626465, 'Feedback': 'Acceptable performance in overall score. | Acceptable performance in recommendation score. | Good performance in structured answers score compared to the expected score.'}, {'Overall Score': 5.671820640563965, 'Recommendation Score': 5.4247541427612305, 'Structured Answers Score': 5.315596103668213, 'Feedback': 'Acceptable performance in overall score. | Good performance in recommendation score compared to the expected score. | Good performance in structured answers score compared to the expected score.'}, {'Overall Score': 5.6724700927734375, 'Recommendation Score': 5.424025535583496, 'Structured Answers Score': 5.313950061798096, 'Feedback': 'Acceptable performance in overall score. | Acceptable performance in recommendation score. | Good performance in structured answers score compared to the expected score.'}, {'Overall Score': 5.674410343170166, 'Recommendation Score': 5.420136451721191, 'Structured Answers Score': 5.312530994415283, 'Feedback': 'Acceptable performance in overall score. | Acceptable performance in recommendation score. | Good performance in structured answers score compared to the expected score.'}]\n",
      "[{'Overall Score': 5.674626350402832, 'Recommendation Score': 5.4225311279296875, 'Structured Answers Score': 5.315455436706543, 'Feedback': 'Good performance in overall score compared to the expected score. | Acceptable performance in recommendation score. | Acceptable performance in structured answers score.'}, {'Overall Score': 5.676292419433594, 'Recommendation Score': 5.421065807342529, 'Structured Answers Score': 5.315097332000732, 'Feedback': 'Acceptable performance in overall score. | Acceptable performance in recommendation score. | Acceptable performance in structured answers score.'}, {'Overall Score': 5.671444892883301, 'Recommendation Score': 5.426458835601807, 'Structured Answers Score': 5.31941032409668, 'Feedback': 'Good performance in overall score compared to the expected score. | Good performance in recommendation score compared to the expected score. | Good performance in structured answers score compared to the expected score.'}, {'Overall Score': 5.670090675354004, 'Recommendation Score': 5.4295854568481445, 'Structured Answers Score': 5.3203935623168945, 'Feedback': 'Acceptable performance in overall score. | Acceptable performance in recommendation score. | Acceptable performance in structured answers score.'}, {'Overall Score': 5.670251846313477, 'Recommendation Score': 5.428420066833496, 'Structured Answers Score': 5.322587490081787, 'Feedback': 'Acceptable performance in overall score. | Acceptable performance in recommendation score. | Acceptable performance in structured answers score.'}, {'Overall Score': 5.6747026443481445, 'Recommendation Score': 5.4207963943481445, 'Structured Answers Score': 5.314276218414307, 'Feedback': 'Good performance in overall score compared to the expected score. | Good performance in recommendation score compared to the expected score. | Acceptable performance in structured answers score.'}, {'Overall Score': 5.6734747886657715, 'Recommendation Score': 5.42202091217041, 'Structured Answers Score': 5.3151702880859375, 'Feedback': 'Acceptable performance in overall score. | Acceptable performance in recommendation score. | Good performance in structured answers score compared to the expected score.'}, {'Overall Score': 5.6720380783081055, 'Recommendation Score': 5.425259590148926, 'Structured Answers Score': 5.319925308227539, 'Feedback': 'Acceptable performance in overall score. | Acceptable performance in recommendation score. | Acceptable performance in structured answers score.'}]\n",
      "[{'Overall Score': 5.671412467956543, 'Recommendation Score': 5.4250335693359375, 'Structured Answers Score': 5.319248199462891, 'Feedback': 'Acceptable performance in overall score. | Acceptable performance in recommendation score. | Acceptable performance in structured answers score.'}, {'Overall Score': 5.674561977386475, 'Recommendation Score': 5.420422554016113, 'Structured Answers Score': 5.311732292175293, 'Feedback': 'Acceptable performance in overall score. | Acceptable performance in recommendation score. | Good performance in structured answers score compared to the expected score.'}, {'Overall Score': 5.676290035247803, 'Recommendation Score': 5.420072555541992, 'Structured Answers Score': 5.309925556182861, 'Feedback': 'Good performance in overall score compared to the expected score. | Acceptable performance in recommendation score. | Good performance in structured answers score compared to the expected score.'}, {'Overall Score': 5.674087047576904, 'Recommendation Score': 5.4215407371521, 'Structured Answers Score': 5.312592029571533, 'Feedback': 'Good performance in overall score compared to the expected score. | Acceptable performance in recommendation score. | Acceptable performance in structured answers score.'}]\n",
      "Validation Loss: 0.8159\n"
     ]
    },
    {
     "name": "stderr",
     "output_type": "stream",
     "text": [
      "Epoch 3/10: 100%|██████████| 14/14 [03:52<00:00, 16.64s/it]\n"
     ]
    },
    {
     "name": "stdout",
     "output_type": "stream",
     "text": [
      "Epoch 3 | Train Loss: 0.7935\n",
      "[{'Overall Score': 5.047896385192871, 'Recommendation Score': 5.027285099029541, 'Structured Answers Score': 4.80061149597168, 'Feedback': 'Needs improvement in overall score as it was scored lower than expected. | Needs improvement in recommendation score as it was scored lower than expected. | Acceptable performance in structured answers score.'}, {'Overall Score': 5.0483503341674805, 'Recommendation Score': 5.027699947357178, 'Structured Answers Score': 4.801444053649902, 'Feedback': 'Acceptable performance in overall score. | Acceptable performance in recommendation score. | Acceptable performance in structured answers score.'}, {'Overall Score': 5.027650833129883, 'Recommendation Score': 4.998231410980225, 'Structured Answers Score': 4.758378982543945, 'Feedback': 'Acceptable performance in overall score. | Needs improvement in recommendation score as it was scored lower than expected. | Acceptable performance in structured answers score.'}, {'Overall Score': 5.036906719207764, 'Recommendation Score': 5.0119452476501465, 'Structured Answers Score': 4.777604579925537, 'Feedback': 'Acceptable performance in overall score. | Acceptable performance in recommendation score. | Acceptable performance in structured answers score.'}, {'Overall Score': 5.037047386169434, 'Recommendation Score': 5.010923862457275, 'Structured Answers Score': 4.775976181030273, 'Feedback': 'Acceptable performance in overall score. | Acceptable performance in recommendation score. | Acceptable performance in structured answers score.'}, {'Overall Score': 5.028032302856445, 'Recommendation Score': 5.000979423522949, 'Structured Answers Score': 4.760260581970215, 'Feedback': 'Acceptable performance in overall score. | Good performance in recommendation score compared to the expected score. | Good performance in structured answers score compared to the expected score.'}, {'Overall Score': 5.039406776428223, 'Recommendation Score': 5.016810894012451, 'Structured Answers Score': 4.786388874053955, 'Feedback': 'Acceptable performance in overall score. | Needs improvement in recommendation score as it was scored lower than expected. | Acceptable performance in structured answers score.'}, {'Overall Score': 5.042631149291992, 'Recommendation Score': 5.020110130310059, 'Structured Answers Score': 4.79025936126709, 'Feedback': 'Needs improvement in overall score as it was scored lower than expected. | Acceptable performance in recommendation score. | Acceptable performance in structured answers score.'}]\n",
      "[{'Overall Score': 5.048201560974121, 'Recommendation Score': 5.026310920715332, 'Structured Answers Score': 4.7978620529174805, 'Feedback': 'Acceptable performance in overall score. | Acceptable performance in recommendation score. | Acceptable performance in structured answers score.'}, {'Overall Score': 5.046632766723633, 'Recommendation Score': 5.024521350860596, 'Structured Answers Score': 4.79659366607666, 'Feedback': 'Acceptable performance in overall score. | Acceptable performance in recommendation score. | Acceptable performance in structured answers score.'}, {'Overall Score': 5.045716285705566, 'Recommendation Score': 5.024139404296875, 'Structured Answers Score': 4.79517936706543, 'Feedback': 'Acceptable performance in overall score. | Acceptable performance in recommendation score. | Acceptable performance in structured answers score.'}, {'Overall Score': 5.02446174621582, 'Recommendation Score': 4.993422985076904, 'Structured Answers Score': 4.750946044921875, 'Feedback': 'Acceptable performance in overall score. | Acceptable performance in recommendation score. | Acceptable performance in structured answers score.'}, {'Overall Score': 5.045913219451904, 'Recommendation Score': 5.024213790893555, 'Structured Answers Score': 4.796878814697266, 'Feedback': 'Acceptable performance in overall score. | Acceptable performance in recommendation score. | Acceptable performance in structured answers score.'}, {'Overall Score': 5.041129112243652, 'Recommendation Score': 5.0180487632751465, 'Structured Answers Score': 4.786308288574219, 'Feedback': 'Acceptable performance in overall score. | Acceptable performance in recommendation score. | Good performance in structured answers score compared to the expected score.'}, {'Overall Score': 5.042501926422119, 'Recommendation Score': 5.018007755279541, 'Structured Answers Score': 4.786215782165527, 'Feedback': 'Acceptable performance in overall score. | Acceptable performance in recommendation score. | Good performance in structured answers score compared to the expected score.'}, {'Overall Score': 5.030394077301025, 'Recommendation Score': 4.999134540557861, 'Structured Answers Score': 4.762065887451172, 'Feedback': 'Acceptable performance in overall score. | Acceptable performance in recommendation score. | Acceptable performance in structured answers score.'}]\n",
      "[{'Overall Score': 5.036014556884766, 'Recommendation Score': 5.007969379425049, 'Structured Answers Score': 4.7719316482543945, 'Feedback': 'Acceptable performance in overall score. | Acceptable performance in recommendation score. | Acceptable performance in structured answers score.'}, {'Overall Score': 5.038102149963379, 'Recommendation Score': 5.008861064910889, 'Structured Answers Score': 4.776057243347168, 'Feedback': 'Needs improvement in overall score as it was scored lower than expected. | Needs improvement in recommendation score as it was scored lower than expected. | Acceptable performance in structured answers score.'}, {'Overall Score': 5.048815727233887, 'Recommendation Score': 5.02637243270874, 'Structured Answers Score': 4.799804210662842, 'Feedback': 'Good performance in overall score compared to the expected score. | Good performance in recommendation score compared to the expected score. | Good performance in structured answers score compared to the expected score.'}, {'Overall Score': 5.054833889007568, 'Recommendation Score': 5.036012172698975, 'Structured Answers Score': 4.811851978302002, 'Feedback': 'Acceptable performance in overall score. | Acceptable performance in recommendation score. | Acceptable performance in structured answers score.'}, {'Overall Score': 5.049306392669678, 'Recommendation Score': 5.028754711151123, 'Structured Answers Score': 4.801763534545898, 'Feedback': 'Acceptable performance in overall score. | Acceptable performance in recommendation score. | Acceptable performance in structured answers score.'}, {'Overall Score': 5.0343146324157715, 'Recommendation Score': 5.004754066467285, 'Structured Answers Score': 4.7704973220825195, 'Feedback': 'Acceptable performance in overall score. | Acceptable performance in recommendation score. | Acceptable performance in structured answers score.'}, {'Overall Score': 5.034971237182617, 'Recommendation Score': 5.0074849128723145, 'Structured Answers Score': 4.773580551147461, 'Feedback': 'Acceptable performance in overall score. | Acceptable performance in recommendation score. | Acceptable performance in structured answers score.'}, {'Overall Score': 5.040374279022217, 'Recommendation Score': 5.017781734466553, 'Structured Answers Score': 4.787002086639404, 'Feedback': 'Acceptable performance in overall score. | Acceptable performance in recommendation score. | Acceptable performance in structured answers score.'}]\n",
      "[{'Overall Score': 5.038668632507324, 'Recommendation Score': 5.016011714935303, 'Structured Answers Score': 4.785593032836914, 'Feedback': 'Acceptable performance in overall score. | Acceptable performance in recommendation score. | Acceptable performance in structured answers score.'}, {'Overall Score': 5.027767181396484, 'Recommendation Score': 4.997204780578613, 'Structured Answers Score': 4.758703231811523, 'Feedback': 'Acceptable performance in overall score. | Acceptable performance in recommendation score. | Acceptable performance in structured answers score.'}, {'Overall Score': 5.027984619140625, 'Recommendation Score': 4.996492862701416, 'Structured Answers Score': 4.755523204803467, 'Feedback': 'Acceptable performance in overall score. | Acceptable performance in recommendation score. | Acceptable performance in structured answers score.'}, {'Overall Score': 5.033042907714844, 'Recommendation Score': 5.003921031951904, 'Structured Answers Score': 4.768194675445557, 'Feedback': 'Acceptable performance in overall score. | Acceptable performance in recommendation score. | Acceptable performance in structured answers score.'}]\n",
      "Validation Loss: 0.4548\n"
     ]
    },
    {
     "name": "stderr",
     "output_type": "stream",
     "text": [
      "Epoch 4/10: 100%|██████████| 14/14 [03:48<00:00, 16.31s/it]\n"
     ]
    },
    {
     "name": "stdout",
     "output_type": "stream",
     "text": [
      "Epoch 4 | Train Loss: 0.7943\n",
      "[{'Overall Score': 5.783748149871826, 'Recommendation Score': 5.42204475402832, 'Structured Answers Score': 5.187680244445801, 'Feedback': 'Acceptable performance in overall score. | Acceptable performance in recommendation score. | Acceptable performance in structured answers score.'}, {'Overall Score': 5.784560203552246, 'Recommendation Score': 5.42136287689209, 'Structured Answers Score': 5.184978008270264, 'Feedback': 'Acceptable performance in overall score. | Acceptable performance in recommendation score. | Acceptable performance in structured answers score.'}, {'Overall Score': 5.791201591491699, 'Recommendation Score': 5.417395114898682, 'Structured Answers Score': 5.161645412445068, 'Feedback': 'Acceptable performance in overall score. | Acceptable performance in recommendation score. | Acceptable performance in structured answers score.'}, {'Overall Score': 5.786250114440918, 'Recommendation Score': 5.419347286224365, 'Structured Answers Score': 5.175872802734375, 'Feedback': 'Acceptable performance in overall score. | Acceptable performance in recommendation score. | Acceptable performance in structured answers score.'}, {'Overall Score': 5.788129806518555, 'Recommendation Score': 5.419161796569824, 'Structured Answers Score': 5.173591613769531, 'Feedback': 'Acceptable performance in overall score. | Acceptable performance in recommendation score. | Acceptable performance in structured answers score.'}, {'Overall Score': 5.7871623039245605, 'Recommendation Score': 5.417567253112793, 'Structured Answers Score': 5.167384147644043, 'Feedback': 'Good performance in overall score compared to the expected score. | Good performance in recommendation score compared to the expected score. | Good performance in structured answers score compared to the expected score.'}, {'Overall Score': 5.787500381469727, 'Recommendation Score': 5.419873237609863, 'Structured Answers Score': 5.173827171325684, 'Feedback': 'Acceptable performance in overall score. | Acceptable performance in recommendation score. | Acceptable performance in structured answers score.'}, {'Overall Score': 5.784283638000488, 'Recommendation Score': 5.420451641082764, 'Structured Answers Score': 5.181762218475342, 'Feedback': 'Acceptable performance in overall score. | Acceptable performance in recommendation score. | Acceptable performance in structured answers score.'}]\n",
      "[{'Overall Score': 5.784870147705078, 'Recommendation Score': 5.421665191650391, 'Structured Answers Score': 5.183562755584717, 'Feedback': 'Acceptable performance in overall score. | Acceptable performance in recommendation score. | Acceptable performance in structured answers score.'}, {'Overall Score': 5.784536838531494, 'Recommendation Score': 5.421377182006836, 'Structured Answers Score': 5.184239387512207, 'Feedback': 'Good performance in overall score compared to the expected score. | Good performance in recommendation score compared to the expected score. | Acceptable performance in structured answers score.'}, {'Overall Score': 5.783947944641113, 'Recommendation Score': 5.420982360839844, 'Structured Answers Score': 5.183355331420898, 'Feedback': 'Acceptable performance in overall score. | Acceptable performance in recommendation score. | Acceptable performance in structured answers score.'}, {'Overall Score': 5.788680076599121, 'Recommendation Score': 5.416049003601074, 'Structured Answers Score': 5.16297721862793, 'Feedback': 'Acceptable performance in overall score. | Acceptable performance in recommendation score. | Good performance in structured answers score compared to the expected score.'}, {'Overall Score': 5.785416603088379, 'Recommendation Score': 5.420820713043213, 'Structured Answers Score': 5.182187080383301, 'Feedback': 'Acceptable performance in overall score. | Acceptable performance in recommendation score. | Acceptable performance in structured answers score.'}, {'Overall Score': 5.784435272216797, 'Recommendation Score': 5.420228958129883, 'Structured Answers Score': 5.1799635887146, 'Feedback': 'Good performance in overall score compared to the expected score. | Good performance in recommendation score compared to the expected score. | Good performance in structured answers score compared to the expected score.'}, {'Overall Score': 5.785037040710449, 'Recommendation Score': 5.419863224029541, 'Structured Answers Score': 5.178228378295898, 'Feedback': 'Acceptable performance in overall score. | Acceptable performance in recommendation score. | Good performance in structured answers score compared to the expected score.'}, {'Overall Score': 5.788874626159668, 'Recommendation Score': 5.4170942306518555, 'Structured Answers Score': 5.164818286895752, 'Feedback': 'Acceptable performance in overall score. | Acceptable performance in recommendation score. | Good performance in structured answers score compared to the expected score.'}]\n",
      "[{'Overall Score': 5.7876129150390625, 'Recommendation Score': 5.418224334716797, 'Structured Answers Score': 5.171448230743408, 'Feedback': 'Good performance in overall score compared to the expected score. | Acceptable performance in recommendation score. | Acceptable performance in structured answers score.'}, {'Overall Score': 5.790767669677734, 'Recommendation Score': 5.417355537414551, 'Structured Answers Score': 5.1682586669921875, 'Feedback': 'Acceptable performance in overall score. | Acceptable performance in recommendation score. | Acceptable performance in structured answers score.'}, {'Overall Score': 5.785314559936523, 'Recommendation Score': 5.42170524597168, 'Structured Answers Score': 5.18272066116333, 'Feedback': 'Good performance in overall score compared to the expected score. | Good performance in recommendation score compared to the expected score. | Good performance in structured answers score compared to the expected score.'}, {'Overall Score': 5.783158302307129, 'Recommendation Score': 5.423769950866699, 'Structured Answers Score': 5.193033695220947, 'Feedback': 'Acceptable performance in overall score. | Acceptable performance in recommendation score. | Acceptable performance in structured answers score.'}, {'Overall Score': 5.783961772918701, 'Recommendation Score': 5.422452926635742, 'Structured Answers Score': 5.186309337615967, 'Feedback': 'Acceptable performance in overall score. | Acceptable performance in recommendation score. | Acceptable performance in structured answers score.'}, {'Overall Score': 5.788826942443848, 'Recommendation Score': 5.4171552658081055, 'Structured Answers Score': 5.170192241668701, 'Feedback': 'Good performance in overall score compared to the expected score. | Good performance in recommendation score compared to the expected score. | Acceptable performance in structured answers score.'}, {'Overall Score': 5.786839485168457, 'Recommendation Score': 5.418169975280762, 'Structured Answers Score': 5.172292232513428, 'Feedback': 'Acceptable performance in overall score. | Acceptable performance in recommendation score. | Good performance in structured answers score compared to the expected score.'}, {'Overall Score': 5.786472797393799, 'Recommendation Score': 5.419715881347656, 'Structured Answers Score': 5.178123950958252, 'Feedback': 'Acceptable performance in overall score. | Acceptable performance in recommendation score. | Acceptable performance in structured answers score.'}]\n",
      "[{'Overall Score': 5.786762237548828, 'Recommendation Score': 5.419912338256836, 'Structured Answers Score': 5.175914764404297, 'Feedback': 'Acceptable performance in overall score. | Acceptable performance in recommendation score. | Acceptable performance in structured answers score.'}, {'Overall Score': 5.787886142730713, 'Recommendation Score': 5.416716575622559, 'Structured Answers Score': 5.1666741371154785, 'Feedback': 'Acceptable performance in overall score. | Acceptable performance in recommendation score. | Acceptable performance in structured answers score.'}, {'Overall Score': 5.790965557098389, 'Recommendation Score': 5.4165825843811035, 'Structured Answers Score': 5.162304878234863, 'Feedback': 'Good performance in overall score compared to the expected score. | Acceptable performance in recommendation score. | Good performance in structured answers score compared to the expected score.'}, {'Overall Score': 5.7880048751831055, 'Recommendation Score': 5.417904853820801, 'Structured Answers Score': 5.169404029846191, 'Feedback': 'Good performance in overall score compared to the expected score. | Acceptable performance in recommendation score. | Acceptable performance in structured answers score.'}]\n",
      "Validation Loss: 0.7944\n"
     ]
    },
    {
     "name": "stderr",
     "output_type": "stream",
     "text": [
      "Epoch 5/10: 100%|██████████| 14/14 [03:44<00:00, 16.03s/it]\n"
     ]
    },
    {
     "name": "stdout",
     "output_type": "stream",
     "text": [
      "Epoch 5 | Train Loss: 0.9145\n",
      "[{'Overall Score': 5.400174617767334, 'Recommendation Score': 5.0417799949646, 'Structured Answers Score': 4.952526092529297, 'Feedback': 'Acceptable performance in overall score. | Needs improvement in recommendation score as it was scored lower than expected. | Acceptable performance in structured answers score.'}, {'Overall Score': 5.400745391845703, 'Recommendation Score': 5.041448593139648, 'Structured Answers Score': 4.951087474822998, 'Feedback': 'Acceptable performance in overall score. | Acceptable performance in recommendation score. | Acceptable performance in structured answers score.'}, {'Overall Score': 5.40347957611084, 'Recommendation Score': 5.040112018585205, 'Structured Answers Score': 4.938535690307617, 'Feedback': 'Acceptable performance in overall score. | Acceptable performance in recommendation score. | Acceptable performance in structured answers score.'}, {'Overall Score': 5.399724006652832, 'Recommendation Score': 5.0390944480896, 'Structured Answers Score': 4.94441032409668, 'Feedback': 'Acceptable performance in overall score. | Acceptable performance in recommendation score. | Acceptable performance in structured answers score.'}, {'Overall Score': 5.4018096923828125, 'Recommendation Score': 5.040233135223389, 'Structured Answers Score': 4.94442081451416, 'Feedback': 'Acceptable performance in overall score. | Acceptable performance in recommendation score. | Acceptable performance in structured answers score.'}, {'Overall Score': 5.398472785949707, 'Recommendation Score': 5.036724090576172, 'Structured Answers Score': 4.938709259033203, 'Feedback': 'Acceptable performance in overall score. | Good performance in recommendation score compared to the expected score. | Good performance in structured answers score compared to the expected score.'}, {'Overall Score': 5.401731491088867, 'Recommendation Score': 5.04067325592041, 'Structured Answers Score': 4.944623947143555, 'Feedback': 'Acceptable performance in overall score. | Needs improvement in recommendation score as it was scored lower than expected. | Acceptable performance in structured answers score.'}, {'Overall Score': 5.399681091308594, 'Recommendation Score': 5.040209770202637, 'Structured Answers Score': 4.94808292388916, 'Feedback': 'Acceptable performance in overall score. | Acceptable performance in recommendation score. | Acceptable performance in structured answers score.'}]\n",
      "[{'Overall Score': 5.40118408203125, 'Recommendation Score': 5.0419816970825195, 'Structured Answers Score': 4.949787616729736, 'Feedback': 'Acceptable performance in overall score. | Acceptable performance in recommendation score. | Acceptable performance in structured answers score.'}, {'Overall Score': 5.400578498840332, 'Recommendation Score': 5.041501522064209, 'Structured Answers Score': 4.950464248657227, 'Feedback': 'Good performance in overall score compared to the expected score. | Acceptable performance in recommendation score. | Acceptable performance in structured answers score.'}, {'Overall Score': 5.3991804122924805, 'Recommendation Score': 5.040188312530518, 'Structured Answers Score': 4.94887638092041, 'Feedback': 'Acceptable performance in overall score. | Acceptable performance in recommendation score. | Acceptable performance in structured answers score.'}, {'Overall Score': 5.3993096351623535, 'Recommendation Score': 5.036121845245361, 'Structured Answers Score': 4.93634033203125, 'Feedback': 'Acceptable performance in overall score. | Acceptable performance in recommendation score. | Good performance in structured answers score compared to the expected score.'}, {'Overall Score': 5.401334762573242, 'Recommendation Score': 5.041513442993164, 'Structured Answers Score': 4.949158668518066, 'Feedback': 'Acceptable performance in overall score. | Acceptable performance in recommendation score. | Acceptable performance in structured answers score.'}, {'Overall Score': 5.3991804122924805, 'Recommendation Score': 5.0393385887146, 'Structured Answers Score': 4.946193695068359, 'Feedback': 'Acceptable performance in overall score. | Acceptable performance in recommendation score. | Good performance in structured answers score compared to the expected score.'}, {'Overall Score': 5.4001569747924805, 'Recommendation Score': 5.039919376373291, 'Structured Answers Score': 4.945239543914795, 'Feedback': 'Acceptable performance in overall score. | Acceptable performance in recommendation score. | Good performance in structured answers score compared to the expected score.'}, {'Overall Score': 5.402213096618652, 'Recommendation Score': 5.038954734802246, 'Structured Answers Score': 4.938135147094727, 'Feedback': 'Acceptable performance in overall score. | Acceptable performance in recommendation score. | Acceptable performance in structured answers score.'}]\n",
      "[{'Overall Score': 5.400208473205566, 'Recommendation Score': 5.038293361663818, 'Structured Answers Score': 4.941413879394531, 'Feedback': 'Acceptable performance in overall score. | Acceptable performance in recommendation score. | Acceptable performance in structured answers score.'}, {'Overall Score': 5.4045491218566895, 'Recommendation Score': 5.040431022644043, 'Structured Answers Score': 4.941521644592285, 'Feedback': 'Acceptable performance in overall score. | Needs improvement in recommendation score as it was scored lower than expected. | Acceptable performance in structured answers score.'}, {'Overall Score': 5.4022345542907715, 'Recommendation Score': 5.042470932006836, 'Structured Answers Score': 4.950203895568848, 'Feedback': 'Good performance in overall score compared to the expected score. | Good performance in recommendation score compared to the expected score. | Good performance in structured answers score compared to the expected score.'}, {'Overall Score': 5.400028228759766, 'Recommendation Score': 5.0429863929748535, 'Structured Answers Score': 4.956596374511719, 'Feedback': 'Acceptable performance in overall score. | Acceptable performance in recommendation score. | Acceptable performance in structured answers score.'}, {'Overall Score': 5.399983882904053, 'Recommendation Score': 5.04187536239624, 'Structured Answers Score': 4.951930999755859, 'Feedback': 'Acceptable performance in overall score. | Acceptable performance in recommendation score. | Acceptable performance in structured answers score.'}, {'Overall Score': 5.402364253997803, 'Recommendation Score': 5.0390143394470215, 'Structured Answers Score': 4.94185733795166, 'Feedback': 'Good performance in overall score compared to the expected score. | Acceptable performance in recommendation score. | Acceptable performance in structured answers score.'}, {'Overall Score': 5.4014434814453125, 'Recommendation Score': 5.039096355438232, 'Structured Answers Score': 4.942370891571045, 'Feedback': 'Acceptable performance in overall score. | Acceptable performance in recommendation score. | Acceptable performance in structured answers score.'}, {'Overall Score': 5.401240825653076, 'Recommendation Score': 5.040527820587158, 'Structured Answers Score': 4.947162628173828, 'Feedback': 'Acceptable performance in overall score. | Acceptable performance in recommendation score. | Acceptable performance in structured answers score.'}]\n",
      "[{'Overall Score': 5.401608943939209, 'Recommendation Score': 5.0408854484558105, 'Structured Answers Score': 4.945943832397461, 'Feedback': 'Acceptable performance in overall score. | Acceptable performance in recommendation score. | Acceptable performance in structured answers score.'}, {'Overall Score': 5.400202751159668, 'Recommendation Score': 5.037141799926758, 'Structured Answers Score': 4.938084125518799, 'Feedback': 'Acceptable performance in overall score. | Acceptable performance in recommendation score. | Acceptable performance in structured answers score.'}, {'Overall Score': 5.402177810668945, 'Recommendation Score': 5.0387372970581055, 'Structured Answers Score': 4.937790393829346, 'Feedback': 'Acceptable performance in overall score. | Acceptable performance in recommendation score. | Good performance in structured answers score compared to the expected score.'}, {'Overall Score': 5.402105808258057, 'Recommendation Score': 5.0394062995910645, 'Structured Answers Score': 4.940977573394775, 'Feedback': 'Acceptable performance in overall score. | Acceptable performance in recommendation score. | Acceptable performance in structured answers score.'}]\n",
      "Validation Loss: 0.5230\n"
     ]
    },
    {
     "name": "stderr",
     "output_type": "stream",
     "text": [
      "Epoch 6/10: 100%|██████████| 14/14 [03:46<00:00, 16.16s/it]\n"
     ]
    },
    {
     "name": "stdout",
     "output_type": "stream",
     "text": [
      "Epoch 6 | Train Loss: 0.7773\n",
      "[{'Overall Score': 5.475168228149414, 'Recommendation Score': 5.425506591796875, 'Structured Answers Score': 5.291182994842529, 'Feedback': 'Acceptable performance in overall score. | Acceptable performance in recommendation score. | Acceptable performance in structured answers score.'}, {'Overall Score': 5.474747180938721, 'Recommendation Score': 5.424279689788818, 'Structured Answers Score': 5.289501667022705, 'Feedback': 'Acceptable performance in overall score. | Acceptable performance in recommendation score. | Acceptable performance in structured answers score.'}, {'Overall Score': 5.472456932067871, 'Recommendation Score': 5.419303894042969, 'Structured Answers Score': 5.275570392608643, 'Feedback': 'Acceptable performance in overall score. | Acceptable performance in recommendation score. | Acceptable performance in structured answers score.'}, {'Overall Score': 5.472079753875732, 'Recommendation Score': 5.421004772186279, 'Structured Answers Score': 5.282936096191406, 'Feedback': 'Acceptable performance in overall score. | Acceptable performance in recommendation score. | Acceptable performance in structured answers score.'}, {'Overall Score': 5.473646640777588, 'Recommendation Score': 5.42155647277832, 'Structured Answers Score': 5.282388687133789, 'Feedback': 'Acceptable performance in overall score. | Acceptable performance in recommendation score. | Acceptable performance in structured answers score.'}, {'Overall Score': 5.468643665313721, 'Recommendation Score': 5.41712760925293, 'Structured Answers Score': 5.276758670806885, 'Feedback': 'Acceptable performance in overall score. | Good performance in recommendation score compared to the expected score. | Good performance in structured answers score compared to the expected score.'}, {'Overall Score': 5.472451686859131, 'Recommendation Score': 5.420963287353516, 'Structured Answers Score': 5.282073497772217, 'Feedback': 'Acceptable performance in overall score. | Acceptable performance in recommendation score. | Acceptable performance in structured answers score.'}, {'Overall Score': 5.473160266876221, 'Recommendation Score': 5.422912120819092, 'Structured Answers Score': 5.286627769470215, 'Feedback': 'Acceptable performance in overall score. | Acceptable performance in recommendation score. | Acceptable performance in structured answers score.'}]\n",
      "[{'Overall Score': 5.474794387817383, 'Recommendation Score': 5.424557209014893, 'Structured Answers Score': 5.287967205047607, 'Feedback': 'Acceptable performance in overall score. | Acceptable performance in recommendation score. | Acceptable performance in structured answers score.'}, {'Overall Score': 5.474354267120361, 'Recommendation Score': 5.424225807189941, 'Structured Answers Score': 5.288715839385986, 'Feedback': 'Good performance in overall score compared to the expected score. | Good performance in recommendation score compared to the expected score. | Acceptable performance in structured answers score.'}, {'Overall Score': 5.473329067230225, 'Recommendation Score': 5.423469543457031, 'Structured Answers Score': 5.287753105163574, 'Feedback': 'Acceptable performance in overall score. | Acceptable performance in recommendation score. | Good performance in structured answers score compared to the expected score.'}, {'Overall Score': 5.468904495239258, 'Recommendation Score': 5.416120529174805, 'Structured Answers Score': 5.274357318878174, 'Feedback': 'Acceptable performance in overall score. | Acceptable performance in recommendation score. | Good performance in structured answers score compared to the expected score.'}, {'Overall Score': 5.474579334259033, 'Recommendation Score': 5.42375373840332, 'Structured Answers Score': 5.287357807159424, 'Feedback': 'Acceptable performance in overall score. | Acceptable performance in recommendation score. | Good performance in structured answers score compared to the expected score.'}, {'Overall Score': 5.472355842590332, 'Recommendation Score': 5.421850204467773, 'Structured Answers Score': 5.284794330596924, 'Feedback': 'Acceptable performance in overall score. | Good performance in recommendation score compared to the expected score. | Good performance in structured answers score compared to the expected score.'}, {'Overall Score': 5.472963333129883, 'Recommendation Score': 5.422130107879639, 'Structured Answers Score': 5.283649921417236, 'Feedback': 'Acceptable performance in overall score. | Acceptable performance in recommendation score. | Good performance in structured answers score compared to the expected score.'}, {'Overall Score': 5.471622943878174, 'Recommendation Score': 5.418686866760254, 'Structured Answers Score': 5.275386333465576, 'Feedback': 'Acceptable performance in overall score. | Acceptable performance in recommendation score. | Good performance in structured answers score compared to the expected score.'}]\n",
      "[{'Overall Score': 5.471212863922119, 'Recommendation Score': 5.419144630432129, 'Structured Answers Score': 5.279460906982422, 'Feedback': 'Acceptable performance in overall score. | Acceptable performance in recommendation score. | Acceptable performance in structured answers score.'}, {'Overall Score': 5.474442481994629, 'Recommendation Score': 5.420151710510254, 'Structured Answers Score': 5.278680801391602, 'Feedback': 'Acceptable performance in overall score. | Acceptable performance in recommendation score. | Acceptable performance in structured answers score.'}, {'Overall Score': 5.475586891174316, 'Recommendation Score': 5.424874305725098, 'Structured Answers Score': 5.287965297698975, 'Feedback': 'Good performance in overall score compared to the expected score. | Good performance in recommendation score compared to the expected score. | Good performance in structured answers score compared to the expected score.'}, {'Overall Score': 5.47634744644165, 'Recommendation Score': 5.427642345428467, 'Structured Answers Score': 5.295267105102539, 'Feedback': 'Acceptable performance in overall score. | Acceptable performance in recommendation score. | Acceptable performance in structured answers score.'}, {'Overall Score': 5.4743971824646, 'Recommendation Score': 5.425148010253906, 'Structured Answers Score': 5.29043436050415, 'Feedback': 'Acceptable performance in overall score. | Acceptable performance in recommendation score. | Acceptable performance in structured answers score.'}, {'Overall Score': 5.4728288650512695, 'Recommendation Score': 5.419344902038574, 'Structured Answers Score': 5.27957820892334, 'Feedback': 'Good performance in overall score compared to the expected score. | Good performance in recommendation score compared to the expected score. | Acceptable performance in structured answers score.'}, {'Overall Score': 5.472471714019775, 'Recommendation Score': 5.420004367828369, 'Structured Answers Score': 5.280293941497803, 'Feedback': 'Acceptable performance in overall score. | Acceptable performance in recommendation score. | Good performance in structured answers score compared to the expected score.'}, {'Overall Score': 5.4738287925720215, 'Recommendation Score': 5.422381401062012, 'Structured Answers Score': 5.285303592681885, 'Feedback': 'Acceptable performance in overall score. | Acceptable performance in recommendation score. | Acceptable performance in structured answers score.'}]\n",
      "[{'Overall Score': 5.473446369171143, 'Recommendation Score': 5.4222331047058105, 'Structured Answers Score': 5.283843994140625, 'Feedback': 'Acceptable performance in overall score. | Acceptable performance in recommendation score. | Acceptable performance in structured answers score.'}, {'Overall Score': 5.470125675201416, 'Recommendation Score': 5.417377471923828, 'Structured Answers Score': 5.275995254516602, 'Feedback': 'Acceptable performance in overall score. | Acceptable performance in recommendation score. | Good performance in structured answers score compared to the expected score.'}, {'Overall Score': 5.470641613006592, 'Recommendation Score': 5.417531490325928, 'Structured Answers Score': 5.274940013885498, 'Feedback': 'Good performance in overall score compared to the expected score. | Acceptable performance in recommendation score. | Good performance in structured answers score compared to the expected score.'}, {'Overall Score': 5.472320079803467, 'Recommendation Score': 5.419582366943359, 'Structured Answers Score': 5.278563976287842, 'Feedback': 'Acceptable performance in overall score. | Acceptable performance in recommendation score. | Acceptable performance in structured answers score.'}]\n",
      "Validation Loss: 0.7352\n"
     ]
    },
    {
     "name": "stderr",
     "output_type": "stream",
     "text": [
      "Epoch 7/10: 100%|██████████| 14/14 [03:56<00:00, 16.87s/it]\n"
     ]
    },
    {
     "name": "stdout",
     "output_type": "stream",
     "text": [
      "Epoch 7 | Train Loss: 0.8114\n",
      "[{'Overall Score': 5.547311782836914, 'Recommendation Score': 5.155453205108643, 'Structured Answers Score': 5.052469730377197, 'Feedback': 'Acceptable performance in overall score. | Needs improvement in recommendation score as it was scored lower than expected. | Acceptable performance in structured answers score.'}, {'Overall Score': 5.545950889587402, 'Recommendation Score': 5.153433322906494, 'Structured Answers Score': 5.049434185028076, 'Feedback': 'Acceptable performance in overall score. | Acceptable performance in recommendation score. | Acceptable performance in structured answers score.'}, {'Overall Score': 5.540079116821289, 'Recommendation Score': 5.145315647125244, 'Structured Answers Score': 5.030938625335693, 'Feedback': 'Acceptable performance in overall score. | Acceptable performance in recommendation score. | Acceptable performance in structured answers score.'}, {'Overall Score': 5.542226791381836, 'Recommendation Score': 5.149096488952637, 'Structured Answers Score': 5.041110992431641, 'Feedback': 'Acceptable performance in overall score. | Acceptable performance in recommendation score. | Acceptable performance in structured answers score.'}, {'Overall Score': 5.543478965759277, 'Recommendation Score': 5.149481296539307, 'Structured Answers Score': 5.040682315826416, 'Feedback': 'Acceptable performance in overall score. | Acceptable performance in recommendation score. | Acceptable performance in structured answers score.'}, {'Overall Score': 5.536786079406738, 'Recommendation Score': 5.143601894378662, 'Structured Answers Score': 5.031998157501221, 'Feedback': 'Good performance in overall score compared to the expected score. | Good performance in recommendation score compared to the expected score. | Good performance in structured answers score compared to the expected score.'}, {'Overall Score': 5.540431022644043, 'Recommendation Score': 5.147148132324219, 'Structured Answers Score': 5.037988185882568, 'Feedback': 'Acceptable performance in overall score. | Needs improvement in recommendation score as it was scored lower than expected. | Acceptable performance in structured answers score.'}, {'Overall Score': 5.544047832489014, 'Recommendation Score': 5.151731967926025, 'Structured Answers Score': 5.045757293701172, 'Feedback': 'Acceptable performance in overall score. | Acceptable performance in recommendation score. | Acceptable performance in structured answers score.'}]\n",
      "[{'Overall Score': 5.546001434326172, 'Recommendation Score': 5.153721809387207, 'Structured Answers Score': 5.04815149307251, 'Feedback': 'Acceptable performance in overall score. | Acceptable performance in recommendation score. | Acceptable performance in structured answers score.'}, {'Overall Score': 5.545443534851074, 'Recommendation Score': 5.153254985809326, 'Structured Answers Score': 5.048796653747559, 'Feedback': 'Good performance in overall score compared to the expected score. | Acceptable performance in recommendation score. | Acceptable performance in structured answers score.'}, {'Overall Score': 5.545012950897217, 'Recommendation Score': 5.152994632720947, 'Structured Answers Score': 5.048030376434326, 'Feedback': 'Acceptable performance in overall score. | Acceptable performance in recommendation score. | Acceptable performance in structured answers score.'}, {'Overall Score': 5.536858558654785, 'Recommendation Score': 5.14238977432251, 'Structured Answers Score': 5.029440879821777, 'Feedback': 'Acceptable performance in overall score. | Acceptable performance in recommendation score. | Good performance in structured answers score compared to the expected score.'}, {'Overall Score': 5.545377731323242, 'Recommendation Score': 5.152491569519043, 'Structured Answers Score': 5.046618938446045, 'Feedback': 'Acceptable performance in overall score. | Acceptable performance in recommendation score. | Acceptable performance in structured answers score.'}, {'Overall Score': 5.543203830718994, 'Recommendation Score': 5.150606632232666, 'Structured Answers Score': 5.04393196105957, 'Feedback': 'Acceptable performance in overall score. | Good performance in recommendation score compared to the expected score. | Good performance in structured answers score compared to the expected score.'}, {'Overall Score': 5.543766975402832, 'Recommendation Score': 5.150848865509033, 'Structured Answers Score': 5.042762279510498, 'Feedback': 'Acceptable performance in overall score. | Acceptable performance in recommendation score. | Good performance in structured answers score compared to the expected score.'}, {'Overall Score': 5.539935111999512, 'Recommendation Score': 5.145265102386475, 'Structured Answers Score': 5.03092622756958, 'Feedback': 'Acceptable performance in overall score. | Acceptable performance in recommendation score. | Acceptable performance in structured answers score.'}]\n",
      "[{'Overall Score': 5.540019989013672, 'Recommendation Score': 5.146170139312744, 'Structured Answers Score': 5.03578519821167, 'Feedback': 'Acceptable performance in overall score. | Acceptable performance in recommendation score. | Acceptable performance in structured answers score.'}, {'Overall Score': 5.542654037475586, 'Recommendation Score': 5.146660804748535, 'Structured Answers Score': 5.034761905670166, 'Feedback': 'Acceptable performance in overall score. | Needs improvement in recommendation score as it was scored lower than expected. | Acceptable performance in structured answers score.'}, {'Overall Score': 5.546821594238281, 'Recommendation Score': 5.1541972160339355, 'Structured Answers Score': 5.048132419586182, 'Feedback': 'Good performance in overall score compared to the expected score. | Good performance in recommendation score compared to the expected score. | Good performance in structured answers score compared to the expected score.'}, {'Overall Score': 5.549164295196533, 'Recommendation Score': 5.158203601837158, 'Structured Answers Score': 5.0580878257751465, 'Feedback': 'Acceptable performance in overall score. | Acceptable performance in recommendation score. | Acceptable performance in structured answers score.'}, {'Overall Score': 5.546133041381836, 'Recommendation Score': 5.1547088623046875, 'Structured Answers Score': 5.050884246826172, 'Feedback': 'Acceptable performance in overall score. | Acceptable performance in recommendation score. | Acceptable performance in structured answers score.'}, {'Overall Score': 5.54145622253418, 'Recommendation Score': 5.146238327026367, 'Structured Answers Score': 5.035868167877197, 'Feedback': 'Good performance in overall score compared to the expected score. | Acceptable performance in recommendation score. | Acceptable performance in structured answers score.'}, {'Overall Score': 5.542041778564453, 'Recommendation Score': 5.147834300994873, 'Structured Answers Score': 5.037240982055664, 'Feedback': 'Acceptable performance in overall score. | Acceptable performance in recommendation score. | Good performance in structured answers score compared to the expected score.'}, {'Overall Score': 5.543979167938232, 'Recommendation Score': 5.150447368621826, 'Structured Answers Score': 5.043664455413818, 'Feedback': 'Acceptable performance in overall score. | Acceptable performance in recommendation score. | Acceptable performance in structured answers score.'}]\n",
      "[{'Overall Score': 5.5433430671691895, 'Recommendation Score': 5.150298118591309, 'Structured Answers Score': 5.042226791381836, 'Feedback': 'Acceptable performance in overall score. | Acceptable performance in recommendation score. | Acceptable performance in structured answers score.'}, {'Overall Score': 5.538424491882324, 'Recommendation Score': 5.144108772277832, 'Structured Answers Score': 5.03125, 'Feedback': 'Acceptable performance in overall score. | Acceptable performance in recommendation score. | Acceptable performance in structured answers score.'}, {'Overall Score': 5.537985801696777, 'Recommendation Score': 5.143362522125244, 'Structured Answers Score': 5.030080318450928, 'Feedback': 'Good performance in overall score compared to the expected score. | Acceptable performance in recommendation score. | Good performance in structured answers score compared to the expected score.'}, {'Overall Score': 5.541126251220703, 'Recommendation Score': 5.146724224090576, 'Structured Answers Score': 5.034809589385986, 'Feedback': 'Acceptable performance in overall score. | Acceptable performance in recommendation score. | Acceptable performance in structured answers score.'}]\n",
      "Validation Loss: 0.5952\n"
     ]
    },
    {
     "name": "stderr",
     "output_type": "stream",
     "text": [
      "Epoch 8/10: 100%|██████████| 14/14 [03:49<00:00, 16.36s/it]\n"
     ]
    },
    {
     "name": "stdout",
     "output_type": "stream",
     "text": [
      "Epoch 8 | Train Loss: 0.7880\n",
      "[{'Overall Score': 5.502981185913086, 'Recommendation Score': 5.31571102142334, 'Structured Answers Score': 5.192884922027588, 'Feedback': 'Acceptable performance in overall score. | Acceptable performance in recommendation score. | Acceptable performance in structured answers score.'}, {'Overall Score': 5.501039505004883, 'Recommendation Score': 5.313146591186523, 'Structured Answers Score': 5.18916130065918, 'Feedback': 'Acceptable performance in overall score. | Acceptable performance in recommendation score. | Acceptable performance in structured answers score.'}, {'Overall Score': 5.493723392486572, 'Recommendation Score': 5.303619384765625, 'Structured Answers Score': 5.169793605804443, 'Feedback': 'Acceptable performance in overall score. | Acceptable performance in recommendation score. | Acceptable performance in structured answers score.'}, {'Overall Score': 5.49720573425293, 'Recommendation Score': 5.308499336242676, 'Structured Answers Score': 5.1810302734375, 'Feedback': 'Acceptable performance in overall score. | Acceptable performance in recommendation score. | Acceptable performance in structured answers score.'}, {'Overall Score': 5.4981489181518555, 'Recommendation Score': 5.30875301361084, 'Structured Answers Score': 5.1804094314575195, 'Feedback': 'Acceptable performance in overall score. | Acceptable performance in recommendation score. | Acceptable performance in structured answers score.'}, {'Overall Score': 5.490828990936279, 'Recommendation Score': 5.30194616317749, 'Structured Answers Score': 5.171055793762207, 'Feedback': 'Good performance in overall score compared to the expected score. | Good performance in recommendation score compared to the expected score. | Good performance in structured answers score compared to the expected score.'}, {'Overall Score': 5.493343353271484, 'Recommendation Score': 5.304749965667725, 'Structured Answers Score': 5.176247596740723, 'Feedback': 'Acceptable performance in overall score. | Acceptable performance in recommendation score. | Acceptable performance in structured answers score.'}, {'Overall Score': 5.499256610870361, 'Recommendation Score': 5.311413764953613, 'Structured Answers Score': 5.185696601867676, 'Feedback': 'Acceptable performance in overall score. | Acceptable performance in recommendation score. | Acceptable performance in structured answers score.'}]\n",
      "[{'Overall Score': 5.5012288093566895, 'Recommendation Score': 5.313488006591797, 'Structured Answers Score': 5.188309669494629, 'Feedback': 'Acceptable performance in overall score. | Acceptable performance in recommendation score. | Acceptable performance in structured answers score.'}, {'Overall Score': 5.500626087188721, 'Recommendation Score': 5.312915802001953, 'Structured Answers Score': 5.188867568969727, 'Feedback': 'Good performance in overall score compared to the expected score. | Good performance in recommendation score compared to the expected score. | Acceptable performance in structured answers score.'}, {'Overall Score': 5.5008320808410645, 'Recommendation Score': 5.313333511352539, 'Structured Answers Score': 5.188433647155762, 'Feedback': 'Acceptable performance in overall score. | Acceptable performance in recommendation score. | Acceptable performance in structured answers score.'}, {'Overall Score': 5.4909563064575195, 'Recommendation Score': 5.30092716217041, 'Structured Answers Score': 5.168556213378906, 'Feedback': 'Acceptable performance in overall score. | Acceptable performance in recommendation score. | Good performance in structured answers score compared to the expected score.'}, {'Overall Score': 5.500367641448975, 'Recommendation Score': 5.311977386474609, 'Structured Answers Score': 5.186104774475098, 'Feedback': 'Acceptable performance in overall score. | Acceptable performance in recommendation score. | Acceptable performance in structured answers score.'}, {'Overall Score': 5.498562335968018, 'Recommendation Score': 5.3104095458984375, 'Structured Answers Score': 5.184047698974609, 'Feedback': 'Acceptable performance in overall score. | Good performance in recommendation score compared to the expected score. | Good performance in structured answers score compared to the expected score.'}, {'Overall Score': 5.4992899894714355, 'Recommendation Score': 5.310877799987793, 'Structured Answers Score': 5.1829071044921875, 'Feedback': 'Acceptable performance in overall score. | Acceptable performance in recommendation score. | Good performance in structured answers score compared to the expected score.'}, {'Overall Score': 5.494051456451416, 'Recommendation Score': 5.304041385650635, 'Structured Answers Score': 5.169643402099609, 'Feedback': 'Acceptable performance in overall score. | Acceptable performance in recommendation score. | Good performance in structured answers score compared to the expected score.'}]\n",
      "[{'Overall Score': 5.494246482849121, 'Recommendation Score': 5.30477237701416, 'Structured Answers Score': 5.174991607666016, 'Feedback': 'Acceptable performance in overall score. | Acceptable performance in recommendation score. | Acceptable performance in structured answers score.'}, {'Overall Score': 5.496292591094971, 'Recommendation Score': 5.304816246032715, 'Structured Answers Score': 5.1729350090026855, 'Feedback': 'Acceptable performance in overall score. | Acceptable performance in recommendation score. | Acceptable performance in structured answers score.'}, {'Overall Score': 5.502233028411865, 'Recommendation Score': 5.3143205642700195, 'Structured Answers Score': 5.188023567199707, 'Feedback': 'Good performance in overall score compared to the expected score. | Good performance in recommendation score compared to the expected score. | Good performance in structured answers score compared to the expected score.'}, {'Overall Score': 5.504942417144775, 'Recommendation Score': 5.318570613861084, 'Structured Answers Score': 5.198919296264648, 'Feedback': 'Acceptable performance in overall score. | Acceptable performance in recommendation score. | Acceptable performance in structured answers score.'}, {'Overall Score': 5.501501560211182, 'Recommendation Score': 5.314677715301514, 'Structured Answers Score': 5.190871238708496, 'Feedback': 'Acceptable performance in overall score. | Acceptable performance in recommendation score. | Acceptable performance in structured answers score.'}, {'Overall Score': 5.495485782623291, 'Recommendation Score': 5.304825782775879, 'Structured Answers Score': 5.174436092376709, 'Feedback': 'Good performance in overall score compared to the expected score. | Acceptable performance in recommendation score. | Acceptable performance in structured answers score.'}, {'Overall Score': 5.49686861038208, 'Recommendation Score': 5.30732536315918, 'Structured Answers Score': 5.176511764526367, 'Feedback': 'Acceptable performance in overall score. | Acceptable performance in recommendation score. | Good performance in structured answers score compared to the expected score.'}, {'Overall Score': 5.4985432624816895, 'Recommendation Score': 5.3096113204956055, 'Structured Answers Score': 5.18313455581665, 'Feedback': 'Acceptable performance in overall score. | Acceptable performance in recommendation score. | Acceptable performance in structured answers score.'}]\n",
      "[{'Overall Score': 5.498049259185791, 'Recommendation Score': 5.309672832489014, 'Structured Answers Score': 5.18199348449707, 'Feedback': 'Acceptable performance in overall score. | Acceptable performance in recommendation score. | Acceptable performance in structured answers score.'}, {'Overall Score': 5.492581844329834, 'Recommendation Score': 5.302734375, 'Structured Answers Score': 5.1700944900512695, 'Feedback': 'Acceptable performance in overall score. | Acceptable performance in recommendation score. | Acceptable performance in structured answers score.'}, {'Overall Score': 5.491529941558838, 'Recommendation Score': 5.301231861114502, 'Structured Answers Score': 5.168912410736084, 'Feedback': 'Good performance in overall score compared to the expected score. | Acceptable performance in recommendation score. | Good performance in structured answers score compared to the expected score.'}, {'Overall Score': 5.495352268218994, 'Recommendation Score': 5.30561637878418, 'Structured Answers Score': 5.173590660095215, 'Feedback': 'Acceptable performance in overall score. | Acceptable performance in recommendation score. | Acceptable performance in structured answers score.'}]\n",
      "Validation Loss: 0.6635\n"
     ]
    },
    {
     "name": "stderr",
     "output_type": "stream",
     "text": [
      "Epoch 9/10: 100%|██████████| 14/14 [03:48<00:00, 16.33s/it]\n"
     ]
    },
    {
     "name": "stdout",
     "output_type": "stream",
     "text": [
      "Epoch 9 | Train Loss: 0.8262\n",
      "[{'Overall Score': 5.260676383972168, 'Recommendation Score': 5.141711235046387, 'Structured Answers Score': 5.144578456878662, 'Feedback': 'Acceptable performance in overall score. | Needs improvement in recommendation score as it was scored lower than expected. | Acceptable performance in structured answers score.'}, {'Overall Score': 5.256636142730713, 'Recommendation Score': 5.137382984161377, 'Structured Answers Score': 5.139833450317383, 'Feedback': 'Acceptable performance in overall score. | Acceptable performance in recommendation score. | Acceptable performance in structured answers score.'}, {'Overall Score': 5.24147367477417, 'Recommendation Score': 5.121115684509277, 'Structured Answers Score': 5.117919921875, 'Feedback': 'Acceptable performance in overall score. | Acceptable performance in recommendation score. | Acceptable performance in structured answers score.'}, {'Overall Score': 5.250020980834961, 'Recommendation Score': 5.130359649658203, 'Structured Answers Score': 5.13096809387207, 'Feedback': 'Acceptable performance in overall score. | Acceptable performance in recommendation score. | Acceptable performance in structured answers score.'}, {'Overall Score': 5.250678062438965, 'Recommendation Score': 5.130452632904053, 'Structured Answers Score': 5.1305413246154785, 'Feedback': 'Acceptable performance in overall score. | Acceptable performance in recommendation score. | Acceptable performance in structured answers score.'}, {'Overall Score': 5.238864421844482, 'Recommendation Score': 5.119126319885254, 'Structured Answers Score': 5.118529796600342, 'Feedback': 'Acceptable performance in overall score. | Good performance in recommendation score compared to the expected score. | Good performance in structured answers score compared to the expected score.'}, {'Overall Score': 5.241810321807861, 'Recommendation Score': 5.121939182281494, 'Structured Answers Score': 5.123518466949463, 'Feedback': 'Acceptable performance in overall score. | Needs improvement in recommendation score as it was scored lower than expected. | Acceptable performance in structured answers score.'}, {'Overall Score': 5.253865718841553, 'Recommendation Score': 5.134670257568359, 'Structured Answers Score': 5.1359758377075195, 'Feedback': 'Acceptable performance in overall score. | Acceptable performance in recommendation score. | Acceptable performance in structured answers score.'}]\n",
      "[{'Overall Score': 5.256944179534912, 'Recommendation Score': 5.137824535369873, 'Structured Answers Score': 5.139112949371338, 'Feedback': 'Acceptable performance in overall score. | Acceptable performance in recommendation score. | Acceptable performance in structured answers score.'}, {'Overall Score': 5.256062030792236, 'Recommendation Score': 5.137056350708008, 'Structured Answers Score': 5.139591693878174, 'Feedback': 'Acceptable performance in overall score. | Acceptable performance in recommendation score. | Acceptable performance in structured answers score.'}, {'Overall Score': 5.257279872894287, 'Recommendation Score': 5.138556957244873, 'Structured Answers Score': 5.139808177947998, 'Feedback': 'Acceptable performance in overall score. | Acceptable performance in recommendation score. | Acceptable performance in structured answers score.'}, {'Overall Score': 5.23867654800415, 'Recommendation Score': 5.118112564086914, 'Structured Answers Score': 5.116471767425537, 'Feedback': 'Acceptable performance in overall score. | Acceptable performance in recommendation score. | Good performance in structured answers score compared to the expected score.'}, {'Overall Score': 5.254993915557861, 'Recommendation Score': 5.13542366027832, 'Structured Answers Score': 5.136468887329102, 'Feedback': 'Acceptable performance in overall score. | Acceptable performance in recommendation score. | Acceptable performance in structured answers score.'}, {'Overall Score': 5.252679347991943, 'Recommendation Score': 5.133479118347168, 'Structured Answers Score': 5.134347438812256, 'Feedback': 'Acceptable performance in overall score. | Good performance in recommendation score compared to the expected score. | Good performance in structured answers score compared to the expected score.'}, {'Overall Score': 5.253751277923584, 'Recommendation Score': 5.134392738342285, 'Structured Answers Score': 5.1334357261657715, 'Feedback': 'Acceptable performance in overall score. | Acceptable performance in recommendation score. | Good performance in structured answers score compared to the expected score.'}, {'Overall Score': 5.2426228523254395, 'Recommendation Score': 5.121962547302246, 'Structured Answers Score': 5.117861270904541, 'Feedback': 'Acceptable performance in overall score. | Acceptable performance in recommendation score. | Good performance in structured answers score compared to the expected score.'}]\n",
      "[{'Overall Score': 5.243905067443848, 'Recommendation Score': 5.123705863952637, 'Structured Answers Score': 5.123265266418457, 'Feedback': 'Acceptable performance in overall score. | Acceptable performance in recommendation score. | Acceptable performance in structured answers score.'}, {'Overall Score': 5.245055675506592, 'Recommendation Score': 5.122916221618652, 'Structured Answers Score': 5.121067523956299, 'Feedback': 'Needs improvement in overall score as it was scored lower than expected. | Needs improvement in recommendation score as it was scored lower than expected. | Acceptable performance in structured answers score.'}, {'Overall Score': 5.258096694946289, 'Recommendation Score': 5.139060020446777, 'Structured Answers Score': 5.138967514038086, 'Feedback': 'Good performance in overall score compared to the expected score. | Good performance in recommendation score compared to the expected score. | Good performance in structured answers score compared to the expected score.'}, {'Overall Score': 5.264514446258545, 'Recommendation Score': 5.14625883102417, 'Structured Answers Score': 5.151151657104492, 'Feedback': 'Acceptable performance in overall score. | Acceptable performance in recommendation score. | Acceptable performance in structured answers score.'}, {'Overall Score': 5.258096218109131, 'Recommendation Score': 5.139729976654053, 'Structured Answers Score': 5.142106056213379, 'Feedback': 'Acceptable performance in overall score. | Acceptable performance in recommendation score. | Acceptable performance in structured answers score.'}, {'Overall Score': 5.2450737953186035, 'Recommendation Score': 5.123835563659668, 'Structured Answers Score': 5.122928142547607, 'Feedback': 'Acceptable performance in overall score. | Acceptable performance in recommendation score. | Acceptable performance in structured answers score.'}, {'Overall Score': 5.248419284820557, 'Recommendation Score': 5.128033638000488, 'Structured Answers Score': 5.125794887542725, 'Feedback': 'Acceptable performance in overall score. | Acceptable performance in recommendation score. | Good performance in structured answers score compared to the expected score.'}, {'Overall Score': 5.251651287078857, 'Recommendation Score': 5.1318254470825195, 'Structured Answers Score': 5.132917881011963, 'Feedback': 'Acceptable performance in overall score. | Acceptable performance in recommendation score. | Acceptable performance in structured answers score.'}]\n",
      "[{'Overall Score': 5.250922203063965, 'Recommendation Score': 5.1315813064575195, 'Structured Answers Score': 5.131889820098877, 'Feedback': 'Acceptable performance in overall score. | Acceptable performance in recommendation score. | Acceptable performance in structured answers score.'}, {'Overall Score': 5.240859508514404, 'Recommendation Score': 5.120401382446289, 'Structured Answers Score': 5.118077754974365, 'Feedback': 'Acceptable performance in overall score. | Acceptable performance in recommendation score. | Acceptable performance in structured answers score.'}, {'Overall Score': 5.238443851470947, 'Recommendation Score': 5.117888927459717, 'Structured Answers Score': 5.116830348968506, 'Feedback': 'Acceptable performance in overall score. | Acceptable performance in recommendation score. | Good performance in structured answers score compared to the expected score.'}, {'Overall Score': 5.245375156402588, 'Recommendation Score': 5.124815464019775, 'Structured Answers Score': 5.122164249420166, 'Feedback': 'Acceptable performance in overall score. | Acceptable performance in recommendation score. | Acceptable performance in structured answers score.'}]\n",
      "Validation Loss: 0.5687\n"
     ]
    },
    {
     "name": "stderr",
     "output_type": "stream",
     "text": [
      "Epoch 10/10: 100%|██████████| 14/14 [04:24<00:00, 18.92s/it]\n"
     ]
    },
    {
     "name": "stdout",
     "output_type": "stream",
     "text": [
      "Epoch 10 | Train Loss: 0.7343\n",
      "[{'Overall Score': 5.660826206207275, 'Recommendation Score': 5.406401634216309, 'Structured Answers Score': 5.206365585327148, 'Feedback': 'Acceptable performance in overall score. | Acceptable performance in recommendation score. | Acceptable performance in structured answers score.'}, {'Overall Score': 5.6563639640808105, 'Recommendation Score': 5.401755332946777, 'Structured Answers Score': 5.200831413269043, 'Feedback': 'Acceptable performance in overall score. | Acceptable performance in recommendation score. | Acceptable performance in structured answers score.'}, {'Overall Score': 5.639771938323975, 'Recommendation Score': 5.3831095695495605, 'Structured Answers Score': 5.176351547241211, 'Feedback': 'Acceptable performance in overall score. | Acceptable performance in recommendation score. | Acceptable performance in structured answers score.'}, {'Overall Score': 5.649682998657227, 'Recommendation Score': 5.394083499908447, 'Structured Answers Score': 5.191452980041504, 'Feedback': 'Acceptable performance in overall score. | Acceptable performance in recommendation score. | Acceptable performance in structured answers score.'}, {'Overall Score': 5.650192737579346, 'Recommendation Score': 5.393934726715088, 'Structured Answers Score': 5.190958023071289, 'Feedback': 'Acceptable performance in overall score. | Acceptable performance in recommendation score. | Acceptable performance in structured answers score.'}, {'Overall Score': 5.637017726898193, 'Recommendation Score': 5.381453514099121, 'Structured Answers Score': 5.177209377288818, 'Feedback': 'Good performance in overall score compared to the expected score. | Good performance in recommendation score compared to the expected score. | Good performance in structured answers score compared to the expected score.'}, {'Overall Score': 5.639675617218018, 'Recommendation Score': 5.38435173034668, 'Structured Answers Score': 5.181860446929932, 'Feedback': 'Acceptable performance in overall score. | Acceptable performance in recommendation score. | Acceptable performance in structured answers score.'}, {'Overall Score': 5.653576850891113, 'Recommendation Score': 5.3987908363342285, 'Structured Answers Score': 5.196765422821045, 'Feedback': 'Acceptable performance in overall score. | Acceptable performance in recommendation score. | Acceptable performance in structured answers score.'}]\n",
      "[{'Overall Score': 5.656522274017334, 'Recommendation Score': 5.401758193969727, 'Structured Answers Score': 5.200309753417969, 'Feedback': 'Acceptable performance in overall score. | Acceptable performance in recommendation score. | Acceptable performance in structured answers score.'}, {'Overall Score': 5.655686855316162, 'Recommendation Score': 5.401236534118652, 'Structured Answers Score': 5.200719833374023, 'Feedback': 'Good performance in overall score compared to the expected score. | Good performance in recommendation score compared to the expected score. | Acceptable performance in structured answers score.'}, {'Overall Score': 5.657540321350098, 'Recommendation Score': 5.4030022621154785, 'Structured Answers Score': 5.201376914978027, 'Feedback': 'Acceptable performance in overall score. | Acceptable performance in recommendation score. | Acceptable performance in structured answers score.'}, {'Overall Score': 5.637251377105713, 'Recommendation Score': 5.380389213562012, 'Structured Answers Score': 5.17501974105835, 'Feedback': 'Acceptable performance in overall score. | Acceptable performance in recommendation score. | Good performance in structured answers score compared to the expected score.'}, {'Overall Score': 5.654579162597656, 'Recommendation Score': 5.399227619171143, 'Structured Answers Score': 5.197180271148682, 'Feedback': 'Acceptable performance in overall score. | Acceptable performance in recommendation score. | Acceptable performance in structured answers score.'}, {'Overall Score': 5.652432918548584, 'Recommendation Score': 5.397469520568848, 'Structured Answers Score': 5.195225715637207, 'Feedback': 'Acceptable performance in overall score. | Good performance in recommendation score compared to the expected score. | Good performance in structured answers score compared to the expected score.'}, {'Overall Score': 5.653515815734863, 'Recommendation Score': 5.398128986358643, 'Structured Answers Score': 5.194379806518555, 'Feedback': 'Acceptable performance in overall score. | Acceptable performance in recommendation score. | Good performance in structured answers score compared to the expected score.'}, {'Overall Score': 5.641218662261963, 'Recommendation Score': 5.384098052978516, 'Structured Answers Score': 5.176558494567871, 'Feedback': 'Acceptable performance in overall score. | Acceptable performance in recommendation score. | Good performance in structured answers score compared to the expected score.'}]\n",
      "[{'Overall Score': 5.642630100250244, 'Recommendation Score': 5.386542320251465, 'Structured Answers Score': 5.182405471801758, 'Feedback': 'Good performance in overall score compared to the expected score. | Acceptable performance in recommendation score. | Acceptable performance in structured answers score.'}, {'Overall Score': 5.643243312835693, 'Recommendation Score': 5.3849029541015625, 'Structured Answers Score': 5.179705619812012, 'Feedback': 'Acceptable performance in overall score. | Acceptable performance in recommendation score. | Acceptable performance in structured answers score.'}, {'Overall Score': 5.6579766273498535, 'Recommendation Score': 5.40311336517334, 'Structured Answers Score': 5.200083255767822, 'Feedback': 'Good performance in overall score compared to the expected score. | Good performance in recommendation score compared to the expected score. | Good performance in structured answers score compared to the expected score.'}, {'Overall Score': 5.664615154266357, 'Recommendation Score': 5.411371231079102, 'Structured Answers Score': 5.2133965492248535, 'Feedback': 'Acceptable performance in overall score. | Acceptable performance in recommendation score. | Acceptable performance in structured answers score.'}, {'Overall Score': 5.658003330230713, 'Recommendation Score': 5.404292583465576, 'Structured Answers Score': 5.20361328125, 'Feedback': 'Acceptable performance in overall score. | Acceptable performance in recommendation score. | Acceptable performance in structured answers score.'}, {'Overall Score': 5.6436967849731445, 'Recommendation Score': 5.386373519897461, 'Structured Answers Score': 5.182071685791016, 'Feedback': 'Good performance in overall score compared to the expected score. | Good performance in recommendation score compared to the expected score. | Acceptable performance in structured answers score.'}, {'Overall Score': 5.647697925567627, 'Recommendation Score': 5.391217231750488, 'Structured Answers Score': 5.185441493988037, 'Feedback': 'Acceptable performance in overall score. | Acceptable performance in recommendation score. | Good performance in structured answers score compared to the expected score.'}, {'Overall Score': 5.651182651519775, 'Recommendation Score': 5.395642280578613, 'Structured Answers Score': 5.193071365356445, 'Feedback': 'Acceptable performance in overall score. | Acceptable performance in recommendation score. | Acceptable performance in structured answers score.'}]\n",
      "[{'Overall Score': 5.650476932525635, 'Recommendation Score': 5.3951416015625, 'Structured Answers Score': 5.192361831665039, 'Feedback': 'Acceptable performance in overall score. | Acceptable performance in recommendation score. | Acceptable performance in structured answers score.'}, {'Overall Score': 5.6392741203308105, 'Recommendation Score': 5.382628440856934, 'Structured Answers Score': 5.176790237426758, 'Feedback': 'Acceptable performance in overall score. | Acceptable performance in recommendation score. | Acceptable performance in structured answers score.'}, {'Overall Score': 5.636184215545654, 'Recommendation Score': 5.379223346710205, 'Structured Answers Score': 5.175084114074707, 'Feedback': 'Good performance in overall score compared to the expected score. | Acceptable performance in recommendation score. | Good performance in structured answers score compared to the expected score.'}, {'Overall Score': 5.64390230178833, 'Recommendation Score': 5.387222766876221, 'Structured Answers Score': 5.18137264251709, 'Feedback': 'Good performance in overall score compared to the expected score. | Acceptable performance in recommendation score. | Acceptable performance in structured answers score.'}]\n",
      "Validation Loss: 0.7350\n"
     ]
    }
   ],
   "source": [
    "trainer2.train()"
   ]
  },
  {
   "cell_type": "code",
   "execution_count": 48,
   "id": "9f42bf97-4f02-4412-a3b2-4c6c623d57e9",
   "metadata": {},
   "outputs": [
    {
     "name": "stderr",
     "output_type": "stream",
     "text": [
      "c:\\Users\\tonyc\\miniconda3\\Lib\\site-packages\\torch\\nn\\modules\\transformer.py:379: UserWarning: enable_nested_tensor is True, but self.use_nested_tensor is False because encoder_layer.self_attn.batch_first was not True(use batch_first for better inference performance)\n",
      "  warnings.warn(\n"
     ]
    }
   ],
   "source": [
    "model3 = HierarchicalInterviewScorer().to(device)"
   ]
  },
  {
   "cell_type": "code",
   "execution_count": 53,
   "id": "e4327c19a1e0f155",
   "metadata": {
    "ExecuteTime": {
     "end_time": "2024-12-01T00:07:51.465222Z",
     "start_time": "2024-12-01T00:07:51.333600Z"
    },
    "collapsed": false,
    "jupyter": {
     "outputs_hidden": false
    }
   },
   "outputs": [],
   "source": [
    "test_dataset = HierarchicalInterviewDataset(\"data/data.json\")\n",
    "test_loader = DataLoader(test_dataset, batch_size=config[\"train\"][\"batch_size\"], shuffle=False)"
   ]
  },
  {
   "cell_type": "code",
   "execution_count": 54,
   "id": "dacb5c1174224f2b",
   "metadata": {
    "ExecuteTime": {
     "end_time": "2024-11-28T00:41:29.267671Z",
     "start_time": "2024-11-28T00:41:21.889546Z"
    },
    "collapsed": false,
    "jupyter": {
     "outputs_hidden": false
    }
   },
   "outputs": [
    {
     "name": "stdout",
     "output_type": "stream",
     "text": [
      "Model saved to ./hierarchical_interview_scorer.pth\n"
     ]
    }
   ],
   "source": [
    "model_save_path = \"./hierarchical_interview_scorer.pth\"\n",
    "torch.save(model.state_dict(), model_save_path)\n",
    "print(f\"Model saved to {model_save_path}\")"
   ]
  },
  {
   "cell_type": "code",
   "execution_count": 55,
   "id": "352eaed8-ef01-4dad-89f5-22b582bdf30f",
   "metadata": {},
   "outputs": [
    {
     "name": "stdout",
     "output_type": "stream",
     "text": [
      "Model saved to ./hierarchical_interview_scorer2.pth\n"
     ]
    }
   ],
   "source": [
    "model_save_path = \"./hierarchical_interview_scorer2.pth\"\n",
    "torch.save(model2.state_dict(), model_save_path)\n",
    "print(f\"Model saved to {model_save_path}\")"
   ]
  },
  {
   "cell_type": "code",
   "execution_count": 56,
   "id": "11c27e92-cbdc-4574-b578-93f0d9b6eca8",
   "metadata": {},
   "outputs": [
    {
     "name": "stdout",
     "output_type": "stream",
     "text": [
      "Model saved to ./hierarchical_interview_scorer3.pth\n"
     ]
    }
   ],
   "source": [
    "model_save_path = \"./hierarchical_interview_scorer3.pth\"\n",
    "torch.save(model3.state_dict(), model_save_path)\n",
    "print(f\"Model saved to {model_save_path}\")"
   ]
  },
  {
   "cell_type": "code",
   "execution_count": 57,
   "id": "c32a7a12a2d3aabc",
   "metadata": {
    "ExecuteTime": {
     "end_time": "2024-12-01T00:07:58.761386Z",
     "start_time": "2024-12-01T00:07:58.690798Z"
    },
    "collapsed": false,
    "jupyter": {
     "outputs_hidden": false
    }
   },
   "outputs": [
    {
     "name": "stdout",
     "output_type": "stream",
     "text": [
      "Tokenizer saved to ./tokenizer\n"
     ]
    }
   ],
   "source": [
    "tokenizer_save_path = \"./tokenizer\"\n",
    "tokenizer.save_pretrained(tokenizer_save_path)\n",
    "print(f\"Tokenizer saved to {tokenizer_save_path}\")"
   ]
  },
  {
   "cell_type": "code",
   "execution_count": 58,
   "id": "e0e38bc1461f8ec0",
   "metadata": {
    "ExecuteTime": {
     "end_time": "2024-12-01T00:09:42.846488Z",
     "start_time": "2024-12-01T00:09:38.733177Z"
    },
    "collapsed": false,
    "jupyter": {
     "outputs_hidden": false
    }
   },
   "outputs": [
    {
     "name": "stderr",
     "output_type": "stream",
     "text": [
      "C:\\Users\\tonyc\\AppData\\Local\\Temp\\ipykernel_25160\\1720109486.py:11: FutureWarning: You are using `torch.load` with `weights_only=False` (the current default value), which uses the default pickle module implicitly. It is possible to construct malicious pickle data which will execute arbitrary code during unpickling (See https://github.com/pytorch/pytorch/blob/main/SECURITY.md#untrusted-models for more details). In a future release, the default value for `weights_only` will be flipped to `True`. This limits the functions that could be executed during unpickling. Arbitrary objects will no longer be allowed to be loaded via this mode unless they are explicitly allowlisted by the user via `torch.serialization.add_safe_globals`. We recommend you start setting `weights_only=True` for any use case where you don't have full control of the loaded file. Please open an issue on GitHub for any issues related to this experimental feature.\n",
      "  model.load_state_dict(torch.load(model_save_path))\n"
     ]
    },
    {
     "name": "stdout",
     "output_type": "stream",
     "text": [
      "Model and tokenizer loaded successfully.\n"
     ]
    }
   ],
   "source": [
    "import torch\n",
    "from transformers import DistilBertTokenizerFast\n",
    "from model import HierarchicalInterviewScorer \n",
    "\n",
    "model_save_path = \"./hierarchical_interview_scorer.pth\"\n",
    "tokenizer_save_path = \"./tokenizer\"\n",
    "\n",
    "tokenizer = DistilBertTokenizerFast.from_pretrained(tokenizer_save_path)\n",
    "\n",
    "model = HierarchicalInterviewScorer()\n",
    "model.load_state_dict(torch.load(model_save_path))\n",
    "model.eval()\n",
    "\n",
    "print(\"Model and tokenizer loaded successfully.\")\n"
   ]
  },
  {
   "cell_type": "code",
   "execution_count": 59,
   "id": "ae71257468dcfd2b",
   "metadata": {
    "ExecuteTime": {
     "end_time": "2024-12-01T00:14:06.983366Z",
     "start_time": "2024-12-01T00:09:47.039571Z"
    },
    "collapsed": false,
    "jupyter": {
     "outputs_hidden": false
    }
   },
   "outputs": [],
   "source": [
    "all_true_scores = []\n",
    "all_predicted_scores = []\n",
    "\n",
    "device = torch.device(\"cpu\")\n",
    "\n",
    "model.eval()\n",
    "with torch.no_grad():\n",
    "\tfor dialogue_turns, labels in test_loader:\n",
    "\t\tdialogue_turns = {k: v.to(device) for k, v in dialogue_turns.items()}\n",
    "\t\tlabels = labels.to(device)\n",
    "\n",
    "\t\tpredictions = model(dialogue_turns)\n",
    "\n",
    "\t\tall_true_scores.extend(labels.cpu().numpy())\n",
    "\t\tall_predicted_scores.extend(predictions.cpu().numpy())\n",
    "\n",
    "all_true_scores_tensor = torch.tensor(all_true_scores)\n",
    "all_predicted_scores_tensor = torch.tensor(all_predicted_scores)\n"
   ]
  },
  {
   "cell_type": "code",
   "execution_count": 60,
   "id": "af41342adb1ddeee",
   "metadata": {
    "ExecuteTime": {
     "end_time": "2024-12-01T00:14:16.387228Z",
     "start_time": "2024-12-01T00:14:16.371467Z"
    },
    "collapsed": false,
    "jupyter": {
     "outputs_hidden": false
    }
   },
   "outputs": [
    {
     "name": "stdout",
     "output_type": "stream",
     "text": [
      "Mean Squared Error: 0.5727762579917908\n"
     ]
    }
   ],
   "source": [
    "mse_loss = torch.nn.MSELoss()\n",
    "mse = mse_loss(all_predicted_scores_tensor, all_true_scores_tensor)\n",
    "print(f\"Mean Squared Error: {mse.item()}\")"
   ]
  },
  {
   "cell_type": "code",
   "execution_count": 61,
   "id": "708a0aeebde5bda8",
   "metadata": {
    "ExecuteTime": {
     "end_time": "2024-12-01T00:14:27.508797Z",
     "start_time": "2024-12-01T00:14:27.494461Z"
    },
    "collapsed": false,
    "jupyter": {
     "outputs_hidden": false
    }
   },
   "outputs": [],
   "source": [
    "def calculate_accuracy(predicted_scores, actual_scores, tolerance=1.0):\n",
    "\tassert predicted_scores.shape == actual_scores.shape, \"Shapes of predictions and actual scores must match.\"\n",
    "\tdifferences = torch.abs(predicted_scores - actual_scores)\n",
    "\tcorrect_predictions = (differences <= tolerance).float() \n",
    "\taccuracy = correct_predictions.mean().item()\n",
    "\n",
    "\treturn accuracy\n"
   ]
  },
  {
   "cell_type": "code",
   "execution_count": 62,
   "id": "9bb3611573d2f02a",
   "metadata": {
    "ExecuteTime": {
     "end_time": "2024-12-01T00:14:42.224468Z",
     "start_time": "2024-12-01T00:14:41.936682Z"
    },
    "collapsed": false,
    "jupyter": {
     "outputs_hidden": false
    }
   },
   "outputs": [
    {
     "name": "stdout",
     "output_type": "stream",
     "text": [
      "Accuracy: 81.40%\n"
     ]
    }
   ],
   "source": [
    "accuracy = calculate_accuracy(all_predicted_scores_tensor, all_true_scores_tensor, tolerance =1)\n",
    "\n",
    "print(f\"Accuracy: {accuracy * 100:.2f}%\")"
   ]
  },
  {
   "cell_type": "code",
   "execution_count": 64,
   "id": "2b99dd00-37d7-408a-b535-38ceda2f25aa",
   "metadata": {},
   "outputs": [
    {
     "name": "stderr",
     "output_type": "stream",
     "text": [
      "C:\\Users\\tonyc\\AppData\\Local\\Temp\\ipykernel_25160\\3499806843.py:12: FutureWarning: You are using `torch.load` with `weights_only=False` (the current default value), which uses the default pickle module implicitly. It is possible to construct malicious pickle data which will execute arbitrary code during unpickling (See https://github.com/pytorch/pytorch/blob/main/SECURITY.md#untrusted-models for more details). In a future release, the default value for `weights_only` will be flipped to `True`. This limits the functions that could be executed during unpickling. Arbitrary objects will no longer be allowed to be loaded via this mode unless they are explicitly allowlisted by the user via `torch.serialization.add_safe_globals`. We recommend you start setting `weights_only=True` for any use case where you don't have full control of the loaded file. Please open an issue on GitHub for any issues related to this experimental feature.\n",
      "  model2.load_state_dict(torch.load(model_save_path))\n"
     ]
    },
    {
     "name": "stdout",
     "output_type": "stream",
     "text": [
      "Model and tokenizer loaded successfully.\n"
     ]
    }
   ],
   "source": [
    "import torch\n",
    "from transformers import DistilBertTokenizerFast\n",
    "from model import HierarchicalInterviewScorer \n",
    "\n",
    "model_save_path = \"./hierarchical_interview_scorer2.pth\"\n",
    "tokenizer_save_path = \"./tokenizer\"\n",
    "\n",
    "tokenizer = DistilBertTokenizerFast.from_pretrained(tokenizer_save_path)\n",
    "device = torch.device(\"cpu\")\n",
    "\n",
    "model2 = HierarchicalInterviewScorer().to(device)\n",
    "model2.load_state_dict(torch.load(model_save_path))\n",
    "model2.eval()\n",
    "\n",
    "print(\"Model and tokenizer loaded successfully.\")\n"
   ]
  },
  {
   "cell_type": "code",
   "execution_count": 66,
   "id": "8599240e-7788-41e0-956b-c5d918589f3f",
   "metadata": {},
   "outputs": [],
   "source": [
    "all_true_scores = []\n",
    "all_predicted_scores = []\n",
    "\n",
    "device = torch.device(\"cpu\")\n",
    "\n",
    "model.eval()\n",
    "with torch.no_grad():\n",
    "\tfor dialogue_turns, labels in test_loader:\n",
    "\t\tdialogue_turns = {k: v.to(device) for k, v in dialogue_turns.items()}\n",
    "\t\tlabels = labels.to(device)\n",
    "\n",
    "\t\tpredictions = model2(dialogue_turns)\n",
    "\n",
    "\t\tall_true_scores.extend(labels.cpu().numpy())\n",
    "\t\tall_predicted_scores.extend(predictions.cpu().numpy())\n",
    "\n",
    "all_true_scores_tensor = torch.tensor(all_true_scores)\n",
    "all_predicted_scores_tensor = torch.tensor(all_predicted_scores)\n"
   ]
  },
  {
   "cell_type": "code",
   "execution_count": 67,
   "id": "5737ce36-b5de-416f-8ccd-cc93a7213d17",
   "metadata": {},
   "outputs": [
    {
     "name": "stdout",
     "output_type": "stream",
     "text": [
      "Mean Squared Error for model 2: 0.7019646167755127\n"
     ]
    }
   ],
   "source": [
    "mse_loss = torch.nn.MSELoss()\n",
    "mse = mse_loss(all_predicted_scores_tensor, all_true_scores_tensor)\n",
    "print(f\"Mean Squared Error for model 2: {mse.item()}\")"
   ]
  },
  {
   "cell_type": "code",
   "execution_count": 68,
   "id": "49fd57d135b9eff1",
   "metadata": {
    "ExecuteTime": {
     "end_time": "2024-12-01T00:25:38.216541Z",
     "start_time": "2024-12-01T00:25:35.296173Z"
    },
    "collapsed": false,
    "jupyter": {
     "outputs_hidden": false
    }
   },
   "outputs": [
    {
     "name": "stdout",
     "output_type": "stream",
     "text": [
      "Accuracy for model 2: 77.05%\n"
     ]
    }
   ],
   "source": [
    "accuracy = calculate_accuracy(all_predicted_scores_tensor, all_true_scores_tensor, tolerance =1)\n",
    "\n",
    "print(f\"Accuracy for model 2: {accuracy * 100:.2f}%\")"
   ]
  },
  {
   "cell_type": "code",
   "execution_count": 69,
   "id": "5e69c4b6-09d5-4589-82cb-9eecb63c1bd4",
   "metadata": {
    "ExecuteTime": {
     "end_time": "2024-12-01T00:31:00.610133Z",
     "start_time": "2024-12-01T00:26:59.940051Z"
    }
   },
   "outputs": [
    {
     "name": "stderr",
     "output_type": "stream",
     "text": [
      "C:\\Users\\tonyc\\AppData\\Local\\Temp\\ipykernel_25160\\3415451634.py:8: FutureWarning: You are using `torch.load` with `weights_only=False` (the current default value), which uses the default pickle module implicitly. It is possible to construct malicious pickle data which will execute arbitrary code during unpickling (See https://github.com/pytorch/pytorch/blob/main/SECURITY.md#untrusted-models for more details). In a future release, the default value for `weights_only` will be flipped to `True`. This limits the functions that could be executed during unpickling. Arbitrary objects will no longer be allowed to be loaded via this mode unless they are explicitly allowlisted by the user via `torch.serialization.add_safe_globals`. We recommend you start setting `weights_only=True` for any use case where you don't have full control of the loaded file. Please open an issue on GitHub for any issues related to this experimental feature.\n",
      "  model3.load_state_dict(torch.load(model_save_path))\n"
     ]
    },
    {
     "name": "stdout",
     "output_type": "stream",
     "text": [
      "Model and tokenizer loaded successfully.\n"
     ]
    }
   ],
   "source": [
    "model_save_path = \"./hierarchical_interview_scorer3.pth\"\n",
    "tokenizer_save_path = \"./tokenizer\"\n",
    "\n",
    "tokenizer = DistilBertTokenizerFast.from_pretrained(tokenizer_save_path)\n",
    "device = torch.device(\"cpu\")\n",
    "\n",
    "model3 = HierarchicalInterviewScorer().to(device)\n",
    "model3.load_state_dict(torch.load(model_save_path))\n",
    "model3.eval()\n",
    "\n",
    "print(\"Model and tokenizer loaded successfully.\")\n"
   ]
  },
  {
   "cell_type": "code",
   "execution_count": 70,
   "id": "a46b3c7e-a2c6-4eb1-a8f3-415339464eae",
   "metadata": {},
   "outputs": [],
   "source": [
    "all_true_scores = []\n",
    "all_predicted_scores = []\n",
    "\n",
    "device = torch.device(\"cpu\")\n",
    "\n",
    "model.eval()\n",
    "with torch.no_grad():\n",
    "\tfor dialogue_turns, labels in test_loader:\n",
    "\t\tdialogue_turns = {k: v.to(device) for k, v in dialogue_turns.items()}\n",
    "\t\tlabels = labels.to(device)\n",
    "\n",
    "\t\tpredictions = model3(dialogue_turns)\n",
    "\n",
    "\t\tall_true_scores.extend(labels.cpu().numpy())\n",
    "\t\tall_predicted_scores.extend(predictions.cpu().numpy())\n",
    "\n",
    "all_true_scores_tensor = torch.tensor(all_true_scores)\n",
    "all_predicted_scores_tensor = torch.tensor(all_predicted_scores)\n"
   ]
  },
  {
   "cell_type": "code",
   "execution_count": 71,
   "id": "f977284e-dbd0-4cb1-b436-fc624cf302cd",
   "metadata": {},
   "outputs": [
    {
     "name": "stdout",
     "output_type": "stream",
     "text": [
      "Mean Squared Error for model 3: 23.281829833984375\n"
     ]
    }
   ],
   "source": [
    "mse_loss = torch.nn.MSELoss()\n",
    "mse = mse_loss(all_predicted_scores_tensor, all_true_scores_tensor)\n",
    "print(f\"Mean Squared Error for model 3: {mse.item()}\")"
   ]
  },
  {
   "cell_type": "code",
   "execution_count": 72,
   "id": "96c44230-40ea-4d94-aade-38bad9bff33f",
   "metadata": {},
   "outputs": [
    {
     "name": "stdout",
     "output_type": "stream",
     "text": [
      "Accuracy for model 3: 0.00%\n"
     ]
    }
   ],
   "source": [
    "accuracy = calculate_accuracy(all_predicted_scores_tensor, all_true_scores_tensor, tolerance =1)\n",
    "\n",
    "print(f\"Accuracy for model 3: {accuracy * 100:.2f}%\")"
   ]
  },
  {
   "cell_type": "code",
   "execution_count": 74,
   "id": "c8c151c5-322a-4c29-9a30-4960252eda57",
   "metadata": {},
   "outputs": [
    {
     "name": "stdout",
     "output_type": "stream",
     "text": [
      "Latency per batch: 5.9559 seconds\n"
     ]
    }
   ],
   "source": [
    "import time\n",
    "import torch\n",
    "from torch.utils.data import DataLoader\n",
    "\n",
    "batch_size = 8\n",
    "val_dataloader = DataLoader(\n",
    "    val_dataset,\n",
    "    batch_size=batch_size,\n",
    "    collate_fn=lambda batch: {\n",
    "        \"input_ids\": torch.stack([item[0][\"input_ids\"] for item in batch]),\n",
    "        \"attention_mask\": torch.stack([item[0][\"attention_mask\"] for item in batch]),\n",
    "        \"labels\": torch.stack([item[1] for item in batch])\n",
    "    }\n",
    ")\n",
    "\n",
    "device = torch.device(\"cuda\" if torch.cuda.is_available() else \"cpu\")\n",
    "model.to(device)\n",
    "\n",
    "latencies = []\n",
    "\n",
    "for batch in val_dataloader:\n",
    "    inputs = {\"input_ids\": batch[\"input_ids\"], \"attention_mask\": batch[\"attention_mask\"]}\n",
    "    labels = batch[\"labels\"]\n",
    "\n",
    "    inputs = {key: val.to(device) for key, val in inputs.items()}\n",
    "    labels = labels.to(device)\n",
    "    start_time = time.time()\n",
    "\n",
    "    with torch.no_grad():\n",
    "        outputs = model(inputs)\n",
    "\n",
    "    elapsed_time = time.time() - start_time\n",
    "    latencies.append(elapsed_time)\n",
    "    break\n",
    "\n",
    "average_latency = sum(latencies) / len(latencies)\n",
    "print(f\"Latency per batch: {average_latency:.4f} seconds\")\n"
   ]
  },
  {
   "cell_type": "code",
   "execution_count": 76,
   "id": "214e19aa-8711-446c-bb6d-afa3c5b3b3e2",
   "metadata": {},
   "outputs": [
    {
     "name": "stdout",
     "output_type": "stream",
     "text": [
      "Throughput: 1.95 samples/second\n"
     ]
    }
   ],
   "source": [
    "import time\n",
    "import torch\n",
    "from torch.utils.data import DataLoader\n",
    "\n",
    "batch_size = 8\n",
    "val_dataloader = DataLoader(\n",
    "    val_dataset,\n",
    "    batch_size=batch_size,\n",
    "    collate_fn=lambda batch: {\n",
    "        \"input_ids\": torch.stack([item[0][\"input_ids\"] for item in batch]),\n",
    "        \"attention_mask\": torch.stack([item[0][\"attention_mask\"] for item in batch]),\n",
    "        \"labels\": torch.stack([item[1] for item in batch])\n",
    "    }\n",
    ")\n",
    "device = torch.device(\"cuda\" if torch.cuda.is_available() else \"cpu\")\n",
    "model.to(device)\n",
    "\n",
    "total_samples = 0\n",
    "total_time = 0\n",
    "\n",
    "for batch in val_dataloader:\n",
    "    inputs = {\"input_ids\": batch[\"input_ids\"], \"attention_mask\": batch[\"attention_mask\"]}\n",
    "    labels = batch[\"labels\"]\n",
    "\n",
    "    inputs = {key: val.to(device) for key, val in inputs.items()}\n",
    "    labels = labels.to(device)\n",
    "    start_time = time.time()\n",
    "\n",
    "    with torch.no_grad():\n",
    "        outputs = model(inputs)\n",
    "\n",
    "    elapsed_time = time.time() - start_time\n",
    "    total_samples += batch_size\n",
    "    total_time += elapsed_time\n",
    "throughput = total_samples / total_time\n",
    "print(f\"Throughput: {throughput:.2f} samples/second\")\n"
   ]
  },
  {
   "cell_type": "code",
   "execution_count": 78,
   "id": "0c07fdb5-e198-48f1-85b9-753aa0dc194d",
   "metadata": {},
   "outputs": [
    {
     "name": "stdout",
     "output_type": "stream",
     "text": [
      "Total Parameters: 77588483\n",
      "Trainable Parameters: 77588483\n",
      "\n"
     ]
    }
   ],
   "source": [
    "def count_parameters(model):\n",
    "    total_params = sum(p.numel() for p in model.parameters())\n",
    "    trainable_params = sum(p.numel() for p in model.parameters() if p.requires_grad)\n",
    "    return total_params, trainable_params\n",
    "\n",
    "def display_model_parameters(model):\n",
    "    print(f\"{'Layer':50} {'Size':30} {'Requires Grad':15} {'Num Params':10}\")\n",
    "    print(\"=\"*100)\n",
    "    for name, param in model.named_parameters():\n",
    "        print(f\"{name:50} {str(list(param.size())):30} {str(param.requires_grad):15} {param.numel():10}\")\n",
    "\n",
    "total_params, trainable_params = count_parameters(model)\n",
    "print(f\"Total Parameters: {total_params}\")\n",
    "print(f\"Trainable Parameters: {trainable_params}\\n\")\n"
   ]
  },
  {
   "cell_type": "code",
   "execution_count": null,
   "id": "60187cd5",
   "metadata": {},
   "outputs": [
    {
     "name": "stderr",
     "output_type": "stream",
     "text": [
      "c:\\Users\\tonyc\\miniconda3\\Lib\\site-packages\\torch\\nn\\modules\\transformer.py:379: UserWarning: enable_nested_tensor is True, but self.use_nested_tensor is False because encoder_layer.self_attn.batch_first was not True(use batch_first for better inference performance)\n",
      "  warnings.warn(\n",
      "C:\\Users\\tonyc\\AppData\\Local\\Temp\\ipykernel_25160\\699754657.py:4: FutureWarning: You are using `torch.load` with `weights_only=False` (the current default value), which uses the default pickle module implicitly. It is possible to construct malicious pickle data which will execute arbitrary code during unpickling (See https://github.com/pytorch/pytorch/blob/main/SECURITY.md#untrusted-models for more details). In a future release, the default value for `weights_only` will be flipped to `True`. This limits the functions that could be executed during unpickling. Arbitrary objects will no longer be allowed to be loaded via this mode unless they are explicitly allowlisted by the user via `torch.serialization.add_safe_globals`. We recommend you start setting `weights_only=True` for any use case where you don't have full control of the loaded file. Please open an issue on GitHub for any issues related to this experimental feature.\n",
      "  state_dict = torch.load(checkpoint_path, map_location=device)\n"
     ]
    },
    {
     "ename": "FileNotFoundError",
     "evalue": "[Errno 2] No such file or directory: 'checkpoint1.pth'",
     "output_type": "error",
     "traceback": [
      "\u001b[1;31m---------------------------------------------------------------------------\u001b[0m",
      "\u001b[1;31mFileNotFoundError\u001b[0m                         Traceback (most recent call last)",
      "Cell \u001b[1;32mIn[91], line 37\u001b[0m\n\u001b[0;32m     29\u001b[0m test_conversations \u001b[38;5;241m=\u001b[39m [\n\u001b[0;32m     30\u001b[0m     (\u001b[38;5;124m\"\u001b[39m\u001b[38;5;124mEasy case\u001b[39m\u001b[38;5;124m\"\u001b[39m, \u001b[38;5;124m\"\u001b[39m\u001b[38;5;124mThis is an easy case. The interview was straightforward and clear.\u001b[39m\u001b[38;5;124m\"\u001b[39m),\n\u001b[0;32m     31\u001b[0m     (\u001b[38;5;124m\"\u001b[39m\u001b[38;5;124mHard case\u001b[39m\u001b[38;5;124m\"\u001b[39m, \u001b[38;5;124m\"\u001b[39m\u001b[38;5;124mThis is a more complex case. The candidate struggled with certain aspects of the questions.\u001b[39m\u001b[38;5;124m\"\u001b[39m),\n\u001b[0;32m     32\u001b[0m     (\u001b[38;5;124m\"\u001b[39m\u001b[38;5;124mTest 8\u001b[39m\u001b[38;5;124m\"\u001b[39m, \u001b[38;5;124m\"\u001b[39m\u001b[38;5;124mThe candidate showed significant improvement but lacked confidence in certain answers.\u001b[39m\u001b[38;5;124m\"\u001b[39m),\n\u001b[0;32m     33\u001b[0m     (\u001b[38;5;124m\"\u001b[39m\u001b[38;5;124mTest 19\u001b[39m\u001b[38;5;124m\"\u001b[39m, \u001b[38;5;124m\"\u001b[39m\u001b[38;5;124mThis test involves a detailed and challenging discussion on multiple topics.\u001b[39m\u001b[38;5;124m\"\u001b[39m)\n\u001b[0;32m     34\u001b[0m ]\n\u001b[0;32m     36\u001b[0m \u001b[38;5;66;03m# Run and print test case results\u001b[39;00m\n\u001b[1;32m---> 37\u001b[0m \u001b[43mprint_test_cases\u001b[49m\u001b[43m(\u001b[49m\u001b[43mtest_conversations\u001b[49m\u001b[43m,\u001b[49m\u001b[43m \u001b[49m\u001b[43mcheckpoint_path\u001b[49m\u001b[38;5;241;43m=\u001b[39;49m\u001b[38;5;124;43m\"\u001b[39;49m\u001b[38;5;124;43mcheckpoint1.pth\u001b[39;49m\u001b[38;5;124;43m\"\u001b[39;49m\u001b[43m)\u001b[49m\n",
      "Cell \u001b[1;32mIn[91], line 13\u001b[0m, in \u001b[0;36mprint_test_cases\u001b[1;34m(conversations, checkpoint_path)\u001b[0m\n\u001b[0;32m     10\u001b[0m device \u001b[38;5;241m=\u001b[39m \u001b[38;5;124m'\u001b[39m\u001b[38;5;124mmps\u001b[39m\u001b[38;5;124m'\u001b[39m \u001b[38;5;28;01mif\u001b[39;00m torch\u001b[38;5;241m.\u001b[39mbackends\u001b[38;5;241m.\u001b[39mmps\u001b[38;5;241m.\u001b[39mis_available() \u001b[38;5;28;01melse\u001b[39;00m \u001b[38;5;124m\"\u001b[39m\u001b[38;5;124mcuda\u001b[39m\u001b[38;5;124m\"\u001b[39m \u001b[38;5;28;01mif\u001b[39;00m torch\u001b[38;5;241m.\u001b[39mcuda\u001b[38;5;241m.\u001b[39mis_available() \u001b[38;5;28;01melse\u001b[39;00m \u001b[38;5;124m\"\u001b[39m\u001b[38;5;124mcpu\u001b[39m\u001b[38;5;124m\"\u001b[39m\n\u001b[0;32m     12\u001b[0m \u001b[38;5;66;03m# Load the trained model\u001b[39;00m\n\u001b[1;32m---> 13\u001b[0m model \u001b[38;5;241m=\u001b[39m \u001b[43mload_trained_model\u001b[49m\u001b[43m(\u001b[49m\u001b[43mcheckpoint_path\u001b[49m\u001b[43m,\u001b[49m\u001b[43m \u001b[49m\u001b[43mdevice\u001b[49m\u001b[38;5;241;43m=\u001b[39;49m\u001b[43mdevice\u001b[49m\u001b[43m)\u001b[49m\n\u001b[0;32m     15\u001b[0m \u001b[38;5;66;03m# Print predictions for each conversation\u001b[39;00m\n\u001b[0;32m     16\u001b[0m \u001b[38;5;28;01mfor\u001b[39;00m idx, (case_name, conversation) \u001b[38;5;129;01min\u001b[39;00m \u001b[38;5;28menumerate\u001b[39m(conversations):\n",
      "Cell \u001b[1;32mIn[82], line 4\u001b[0m, in \u001b[0;36mload_trained_model\u001b[1;34m(checkpoint_path, device)\u001b[0m\n\u001b[0;32m      1\u001b[0m \u001b[38;5;28;01mdef\u001b[39;00m \u001b[38;5;21mload_trained_model\u001b[39m(checkpoint_path, device\u001b[38;5;241m=\u001b[39m\u001b[38;5;124m\"\u001b[39m\u001b[38;5;124mcpu\u001b[39m\u001b[38;5;124m\"\u001b[39m):\n\u001b[0;32m      3\u001b[0m     model \u001b[38;5;241m=\u001b[39m HierarchicalInterviewScorer(hidden_size\u001b[38;5;241m=\u001b[39m\u001b[38;5;241m768\u001b[39m, num_dialogue_layers\u001b[38;5;241m=\u001b[39m\u001b[38;5;241m2\u001b[39m, dropout\u001b[38;5;241m=\u001b[39m\u001b[38;5;241m0.3\u001b[39m)\n\u001b[1;32m----> 4\u001b[0m     state_dict \u001b[38;5;241m=\u001b[39m \u001b[43mtorch\u001b[49m\u001b[38;5;241;43m.\u001b[39;49m\u001b[43mload\u001b[49m\u001b[43m(\u001b[49m\u001b[43mcheckpoint_path\u001b[49m\u001b[43m,\u001b[49m\u001b[43m \u001b[49m\u001b[43mmap_location\u001b[49m\u001b[38;5;241;43m=\u001b[39;49m\u001b[43mdevice\u001b[49m\u001b[43m)\u001b[49m\n\u001b[0;32m      5\u001b[0m     model\u001b[38;5;241m.\u001b[39mload_state_dict(state_dict, strict\u001b[38;5;241m=\u001b[39m\u001b[38;5;28;01mFalse\u001b[39;00m)\n\u001b[0;32m      6\u001b[0m     model \u001b[38;5;241m=\u001b[39m model\u001b[38;5;241m.\u001b[39mto(device)\n",
      "File \u001b[1;32mc:\\Users\\tonyc\\miniconda3\\Lib\\site-packages\\torch\\serialization.py:1319\u001b[0m, in \u001b[0;36mload\u001b[1;34m(f, map_location, pickle_module, weights_only, mmap, **pickle_load_args)\u001b[0m\n\u001b[0;32m   1316\u001b[0m \u001b[38;5;28;01mif\u001b[39;00m \u001b[38;5;124m\"\u001b[39m\u001b[38;5;124mencoding\u001b[39m\u001b[38;5;124m\"\u001b[39m \u001b[38;5;129;01mnot\u001b[39;00m \u001b[38;5;129;01min\u001b[39;00m pickle_load_args\u001b[38;5;241m.\u001b[39mkeys():\n\u001b[0;32m   1317\u001b[0m     pickle_load_args[\u001b[38;5;124m\"\u001b[39m\u001b[38;5;124mencoding\u001b[39m\u001b[38;5;124m\"\u001b[39m] \u001b[38;5;241m=\u001b[39m \u001b[38;5;124m\"\u001b[39m\u001b[38;5;124mutf-8\u001b[39m\u001b[38;5;124m\"\u001b[39m\n\u001b[1;32m-> 1319\u001b[0m \u001b[38;5;28;01mwith\u001b[39;00m \u001b[43m_open_file_like\u001b[49m\u001b[43m(\u001b[49m\u001b[43mf\u001b[49m\u001b[43m,\u001b[49m\u001b[43m \u001b[49m\u001b[38;5;124;43m\"\u001b[39;49m\u001b[38;5;124;43mrb\u001b[39;49m\u001b[38;5;124;43m\"\u001b[39;49m\u001b[43m)\u001b[49m \u001b[38;5;28;01mas\u001b[39;00m opened_file:\n\u001b[0;32m   1320\u001b[0m     \u001b[38;5;28;01mif\u001b[39;00m _is_zipfile(opened_file):\n\u001b[0;32m   1321\u001b[0m         \u001b[38;5;66;03m# The zipfile reader is going to advance the current file position.\u001b[39;00m\n\u001b[0;32m   1322\u001b[0m         \u001b[38;5;66;03m# If we want to actually tail call to torch.jit.load, we need to\u001b[39;00m\n\u001b[0;32m   1323\u001b[0m         \u001b[38;5;66;03m# reset back to the original position.\u001b[39;00m\n\u001b[0;32m   1324\u001b[0m         orig_position \u001b[38;5;241m=\u001b[39m opened_file\u001b[38;5;241m.\u001b[39mtell()\n",
      "File \u001b[1;32mc:\\Users\\tonyc\\miniconda3\\Lib\\site-packages\\torch\\serialization.py:659\u001b[0m, in \u001b[0;36m_open_file_like\u001b[1;34m(name_or_buffer, mode)\u001b[0m\n\u001b[0;32m    657\u001b[0m \u001b[38;5;28;01mdef\u001b[39;00m \u001b[38;5;21m_open_file_like\u001b[39m(name_or_buffer, mode):\n\u001b[0;32m    658\u001b[0m     \u001b[38;5;28;01mif\u001b[39;00m _is_path(name_or_buffer):\n\u001b[1;32m--> 659\u001b[0m         \u001b[38;5;28;01mreturn\u001b[39;00m \u001b[43m_open_file\u001b[49m\u001b[43m(\u001b[49m\u001b[43mname_or_buffer\u001b[49m\u001b[43m,\u001b[49m\u001b[43m \u001b[49m\u001b[43mmode\u001b[49m\u001b[43m)\u001b[49m\n\u001b[0;32m    660\u001b[0m     \u001b[38;5;28;01melse\u001b[39;00m:\n\u001b[0;32m    661\u001b[0m         \u001b[38;5;28;01mif\u001b[39;00m \u001b[38;5;124m\"\u001b[39m\u001b[38;5;124mw\u001b[39m\u001b[38;5;124m\"\u001b[39m \u001b[38;5;129;01min\u001b[39;00m mode:\n",
      "File \u001b[1;32mc:\\Users\\tonyc\\miniconda3\\Lib\\site-packages\\torch\\serialization.py:640\u001b[0m, in \u001b[0;36m_open_file.__init__\u001b[1;34m(self, name, mode)\u001b[0m\n\u001b[0;32m    639\u001b[0m \u001b[38;5;28;01mdef\u001b[39;00m \u001b[38;5;21m__init__\u001b[39m(\u001b[38;5;28mself\u001b[39m, name, mode):\n\u001b[1;32m--> 640\u001b[0m     \u001b[38;5;28msuper\u001b[39m()\u001b[38;5;241m.\u001b[39m\u001b[38;5;21m__init__\u001b[39m(\u001b[38;5;28;43mopen\u001b[39;49m\u001b[43m(\u001b[49m\u001b[43mname\u001b[49m\u001b[43m,\u001b[49m\u001b[43m \u001b[49m\u001b[43mmode\u001b[49m\u001b[43m)\u001b[49m)\n",
      "\u001b[1;31mFileNotFoundError\u001b[0m: [Errno 2] No such file or directory: 'checkpoint1.pth'"
     ]
    }
   ],
   "source": [
    "def print_test_cases(conversations, checkpoint_path=\"checkpoint_path.pth\"):\n",
    "    \"\"\"\n",
    "    Print predicted scores for a list of test conversations.\n",
    "    \n",
    "    Args:\n",
    "        conversations (list): List of tuples containing (test_case_name, conversation_text).\n",
    "        checkpoint_path (str): Path to the model checkpoint file.\n",
    "    \"\"\"\n",
    "    # Determine the device to run the model\n",
    "    device = 'mps' if torch.backends.mps.is_available() else \"cuda\" if torch.cuda.is_available() else \"cpu\"\n",
    "    \n",
    "    # Load the trained model\n",
    "    model = load_trained_model(checkpoint_path, device=device)\n",
    "\n",
    "    # Print predictions for each conversation\n",
    "    for idx, (case_name, conversation) in enumerate(conversations):\n",
    "        print(f\"Case {idx + 1}: {case_name}\")\n",
    "        \n",
    "        # Process the dialogue and get predictions\n",
    "        tokenized_input, error_message = process_dialogue(conversation)\n",
    "        if error_message:\n",
    "            print(f\"Error: {error_message}\")\n",
    "        else:\n",
    "            scores = get_predicted_scores(model, tokenized_input, device=device)\n",
    "            print(f\"Predicted Result: {scores}\\n\")\n",
    "\n",
    "\n",
    "# Test conversations\n",
    "test_conversations = [\n",
    "    (\"Easy case\", \"This is an easy case. The interview was straightforward and clear.\"),\n",
    "    (\"Hard case\", \"This is a more complex case. The candidate struggled with certain aspects of the questions.\"),\n",
    "    (\"Test 8\", \"The candidate showed significant improvement but lacked confidence in certain answers.\"),\n",
    "    (\"Test 19\", \"This test involves a detailed and challenging discussion on multiple topics.\")\n",
    "]\n",
    "\n",
    "# Run and print test case results\n",
    "print_test_cases(test_conversations, checkpoint_path=\"checkpoint_path.pth\")\n"
   ]
  }
 ],
 "metadata": {
  "kernelspec": {
   "display_name": "base",
   "language": "python",
   "name": "python3"
  },
  "language_info": {
   "codemirror_mode": {
    "name": "ipython",
    "version": 3
   },
   "file_extension": ".py",
   "mimetype": "text/x-python",
   "name": "python",
   "nbconvert_exporter": "python",
   "pygments_lexer": "ipython3",
   "version": "3.12.7"
  }
 },
 "nbformat": 4,
 "nbformat_minor": 5
}
