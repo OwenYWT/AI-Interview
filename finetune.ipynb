{
 "cells": [
  {
   "cell_type": "code",
   "execution_count": 6,
   "metadata": {},
   "outputs": [],
   "source": [
    "import json\n",
    "from datasets import load_dataset\n",
    "from trl import SFTConfig, SFTTrainer\n",
    "from peft import LoraConfig"
   ]
  },
  {
   "cell_type": "code",
   "execution_count": 2,
   "metadata": {},
   "outputs": [],
   "source": [
    "transcripts = {}\n",
    "with open(\"./Labels/interview_transcripts_by_turkers.csv\") as file:\n",
    "        for curr in file:\n",
    "                currsplit = curr.split(\",\")\n",
    "                concat_string = \",\".join(currsplit[1:])\n",
    "                concat_string = concat_string.split(\"|\")\n",
    "                transcripts[(currsplit[0])] = concat_string\n",
    "with open(\"processed_transcript.json\", 'w') as fp:\n",
    "    transcripts_data= []\n",
    "    for curr_transcript_key in transcripts.keys():\n",
    "        curr_transcript = []\n",
    "        for curr_line in transcripts[curr_transcript_key]:\n",
    "            curr_line = curr_line.split(\": \")\n",
    "            curr_transcript.append({'role': \"assistant\" if curr_line[0] == \"Interviewer\" else \"user\", 'content': curr_line[-1]})\n",
    "        transcripts_data.append({\"messages\":curr_transcript})\n",
    "    json.dump(transcripts_data, fp)"
   ]
  },
  {
   "cell_type": "code",
   "execution_count": 3,
   "metadata": {},
   "outputs": [],
   "source": [
    "with open(\"processed_transcript.json\", 'r') as jsonfile:\n",
    "    data = json.load(jsonfile)"
   ]
  },
  {
   "cell_type": "code",
   "execution_count": 4,
   "metadata": {},
   "outputs": [
    {
     "data": {
      "application/vnd.jupyter.widget-view+json": {
       "model_id": "19a45df75a9e46798f203f34bdf5864b",
       "version_major": 2,
       "version_minor": 0
      },
      "text/plain": [
       "Generating train split: 0 examples [00:00, ? examples/s]"
      ]
     },
     "metadata": {},
     "output_type": "display_data"
    }
   ],
   "source": [
    "ds = load_dataset('json', data_files='processed_transcript.json')"
   ]
  },
  {
   "cell_type": "code",
   "execution_count": null,
   "metadata": {},
   "outputs": [],
   "source": []
  }
 ],
 "metadata": {
  "kernelspec": {
   "display_name": "base",
   "language": "python",
   "name": "python3"
  },
  "language_info": {
   "codemirror_mode": {
    "name": "ipython",
    "version": 3
   },
   "file_extension": ".py",
   "mimetype": "text/x-python",
   "name": "python",
   "nbconvert_exporter": "python",
   "pygments_lexer": "ipython3",
   "version": "3.12.7"
  }
 },
 "nbformat": 4,
 "nbformat_minor": 2
}
